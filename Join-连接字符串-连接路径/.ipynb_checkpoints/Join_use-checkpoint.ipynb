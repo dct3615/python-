{
 "cells": [
  {
   "cell_type": "markdown",
   "metadata": {},
   "source": [
    "# 函数：string.join()"
   ]
  },
  {
   "cell_type": "markdown",
   "metadata": {},
   "source": [
    "* Python中有join()和os.path.join()两个函数，具体作用如下：\n",
    "\n",
    "* join()：连接字符串数组。将字符串、元组、列表中的元素以指定的字符(分隔符)连接生成一个新的字符串\n",
    "* os.path.join()：将多个路径组合后返回\n"
   ]
  },
  {
   "cell_type": "markdown",
   "metadata": {},
   "source": [
    "\n",
    "一、函数说明\n",
    "\n",
    "1、join()函数\n",
    "\n",
    "语法：'sep'.join(seq)\n",
    "\n",
    "参数说明\n",
    "sep：分隔符。可以为空\n",
    "seq：要连接的元素序列、字符串、元组、字典\n",
    "\n",
    "\n",
    "上面的语法即：以sep作为分隔符，将seq所有的元素合并成一个新的字符串\n",
    "\n",
    "返回值：返回一个以分隔符sep连接各个元素后生成的字符串"
   ]
  },
  {
   "cell_type": "code",
   "execution_count": 2,
   "metadata": {},
   "outputs": [
    {
     "name": "stdout",
     "output_type": "stream",
     "text": [
      "hello.good.boy.doiido\n"
     ]
    }
   ],
   "source": [
    "# 1.对序列进行操作（以 '.'为分隔符）\n",
    "seq = ['hello','good','boy','doiido']\n",
    "print('.'.join(seq))"
   ]
  },
  {
   "cell_type": "code",
   "execution_count": 6,
   "metadata": {},
   "outputs": [
    {
     "name": "stdout",
     "output_type": "stream",
     "text": [
      "hello good boy doiido\n"
     ]
    }
   ],
   "source": [
    "# 2.对元组进行操作（以 ':'为分隔符）\n",
    "seq = ('hello','good','boy','doiido')\n",
    "print(' '.join(seq))"
   ]
  },
  {
   "cell_type": "code",
   "execution_count": 4,
   "metadata": {},
   "outputs": [
    {
     "name": "stdout",
     "output_type": "stream",
     "text": [
      "hello:good:boy:doiido\n"
     ]
    }
   ],
   "source": [
    "# 3.对字典进行操作\n",
    "seq = {'hello':1,'good':2,'boy':3,'doiido':4}\n",
    "print(':'.join(seq))"
   ]
  },
  {
   "cell_type": "markdown",
   "metadata": {},
   "source": [
    "2、os.path.join()函数\n",
    "\n",
    "语法：os.path.join(path1[,path2[,......]])\n",
    "\n",
    "返回值：将多个路径组合后返回\n",
    "\n",
    "注：第一个绝对路径之前的参数将被忽略"
   ]
  },
  {
   "cell_type": "code",
   "execution_count": 9,
   "metadata": {},
   "outputs": [
    {
     "name": "stdout",
     "output_type": "stream",
     "text": [
      "/hello/good/boy/doiido\n"
     ]
    }
   ],
   "source": [
    "# 4.合并目录\n",
    "import os\n",
    "print(os.path.join('/hello/','good/boy/','doiido'))"
   ]
  }
 ],
 "metadata": {
  "kernelspec": {
   "display_name": "Python 3",
   "language": "python",
   "name": "python3"
  },
  "language_info": {
   "codemirror_mode": {
    "name": "ipython",
    "version": 3
   },
   "file_extension": ".py",
   "mimetype": "text/x-python",
   "name": "python",
   "nbconvert_exporter": "python",
   "pygments_lexer": "ipython3",
   "version": "3.7.4"
  }
 },
 "nbformat": 4,
 "nbformat_minor": 2
}
