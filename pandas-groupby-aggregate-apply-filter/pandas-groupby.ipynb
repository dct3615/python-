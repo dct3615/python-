{
 "cells": [
  {
   "cell_type": "markdown",
   "metadata": {},
   "source": [
    "[教程地址](https://blog.csdn.net/shijie97/article/details/100203634)"
   ]
  },
  {
   "cell_type": "code",
   "execution_count": 4,
   "metadata": {
    "collapsed": true
   },
   "outputs": [],
   "source": [
    "import sys\n",
    "sys.path.append('D:\\Anaconda3\\Lib\\site-packages')\n",
    "import pandas as pd"
   ]
  },
  {
   "cell_type": "code",
   "execution_count": 5,
   "metadata": {},
   "outputs": [
    {
     "name": "stdout",
     "output_type": "stream",
     "text": [
      "    Age  Country  Income\n",
      "0  5000    China   10000\n",
      "1  4321    China   10000\n",
      "2  1234    India    5000\n",
      "3  4010    India    5002\n",
      "4   250  America   40000\n",
      "5   250    Japan   50000\n",
      "6  4500    China    8000\n",
      "7  4321    India    5000\n"
     ]
    }
   ],
   "source": [
    "df = pd.DataFrame({'Country':['China','China', 'India', 'India', 'America', 'Japan', 'China', 'India'],\n",
    "                   'Income':[10000, 10000, 5000, 5002, 40000, 50000, 8000, 5000],\n",
    "                    'Age':[5000, 4321, 1234, 4010, 250, 250, 4500, 4321]})\n",
    "print(df)"
   ]
  },
  {
   "cell_type": "markdown",
   "metadata": {
    "collapsed": true
   },
   "source": [
    "# Groupby"
   ]
  },
  {
   "cell_type": "markdown",
   "metadata": {},
   "source": [
    "## 按照单列分组"
   ]
  },
  {
   "cell_type": "markdown",
   "metadata": {},
   "source": [
    "groups属性返回一个字典，key为索引index，value为子数据帧"
   ]
  },
  {
   "cell_type": "code",
   "execution_count": 10,
   "metadata": {},
   "outputs": [
    {
     "name": "stdout",
     "output_type": "stream",
     "text": [
      "<pandas.core.groupby.DataFrameGroupBy object at 0x0000024E9DC90A90>\n"
     ]
    }
   ],
   "source": [
    "print(df.groupby('Country'))"
   ]
  },
  {
   "cell_type": "code",
   "execution_count": 9,
   "metadata": {},
   "outputs": [
    {
     "name": "stdout",
     "output_type": "stream",
     "text": [
      "{'America': Int64Index([4], dtype='int64'), 'China': Int64Index([0, 1, 6], dtype='int64'), 'India': Int64Index([2, 3, 7], dtype='int64'), 'Japan': Int64Index([5], dtype='int64')}\n"
     ]
    }
   ],
   "source": [
    "print(df.groupby('Country').groups)"
   ]
  },
  {
   "cell_type": "code",
   "execution_count": 6,
   "metadata": {},
   "outputs": [
    {
     "name": "stdout",
     "output_type": "stream",
     "text": [
      "America\n",
      "   Age  Country  Income\n",
      "4  250  America   40000\n",
      "China\n",
      "    Age Country  Income\n",
      "0  5000   China   10000\n",
      "1  4321   China   10000\n",
      "6  4500   China    8000\n",
      "India\n",
      "    Age Country  Income\n",
      "2  1234   India    5000\n",
      "3  4010   India    5002\n",
      "7  4321   India    5000\n",
      "Japan\n",
      "   Age Country  Income\n",
      "5  250   Japan   50000\n"
     ]
    }
   ],
   "source": [
    "# 遍历该对象输出\n",
    "for index, data in df.groupby('Country'):\n",
    "    print(index)\n",
    "    print(data)"
   ]
  },
  {
   "cell_type": "markdown",
   "metadata": {},
   "source": [
    "## 按照多列分组"
   ]
  },
  {
   "cell_type": "code",
   "execution_count": 12,
   "metadata": {},
   "outputs": [
    {
     "name": "stdout",
     "output_type": "stream",
     "text": [
      "America 40000\n",
      "   Age  Country  Income\n",
      "4  250  America   40000\n",
      "China 8000\n",
      "    Age Country  Income\n",
      "6  4500   China    8000\n",
      "China 10000\n",
      "    Age Country  Income\n",
      "0  5000   China   10000\n",
      "1  4321   China   10000\n",
      "India 5000\n",
      "    Age Country  Income\n",
      "2  1234   India    5000\n",
      "7  4321   India    5000\n",
      "India 5002\n",
      "    Age Country  Income\n",
      "3  4010   India    5002\n",
      "Japan 50000\n",
      "   Age Country  Income\n",
      "5  250   Japan   50000\n"
     ]
    }
   ],
   "source": [
    "# 根据国家和收入分组\n",
    "for (index1, index2), data in df.groupby(['Country', 'Income']):\n",
    "    print(index1, index2)\n",
    "    print(data)"
   ]
  },
  {
   "cell_type": "markdown",
   "metadata": {
    "collapsed": true
   },
   "source": [
    "# aggregate 聚合"
   ]
  },
  {
   "cell_type": "markdown",
   "metadata": {
    "collapsed": true
   },
   "source": [
    "上面说到，分组之后返回多个子数据帧，如果我想知道每个子数据帧的某些列的某些信息，如方差，极差，最值等，就可以用这个聚合操作\n",
    "\n",
    "aggregate(函数 / lambda表达式 / 函数列表 / 字典) -> return 一个数（即标量，注意这里是标量，而不是向量），然后各个子数据帧都变成一行，再合并"
   ]
  },
  {
   "cell_type": "markdown",
   "metadata": {},
   "source": [
    "- （1）当传入函数的时候，这个函数的形参为每个子数据帧的所有列，可以这么理解，相当于这个函数对每个子数据帧的每一列都进行了相同操作，这个操作指的是函数体本身的内容，因此这个函数传进来的是一个列向量，这个列向量为“每个子数据帧的每一列”。返回的结果是一个数，因此，在用了这个函数之后，每个子数据帧的每一列，都会变成一个数"
   ]
  },
  {
   "cell_type": "code",
   "execution_count": 14,
   "metadata": {},
   "outputs": [
    {
     "name": "stdout",
     "output_type": "stream",
     "text": [
      "          Age  Income\n",
      "Country              \n",
      "America   250   40000\n",
      "China    5000   10000\n",
      "India    4321    5002\n",
      "Japan     250   50000\n"
     ]
    }
   ],
   "source": [
    "import numpy as np\n",
    "\n",
    "def add(x):\n",
    "    return np.max(x)\n",
    " \n",
    "print(df.groupby('Country').agg(add))"
   ]
  },
  {
   "cell_type": "code",
   "execution_count": 15,
   "metadata": {},
   "outputs": [
    {
     "name": "stdout",
     "output_type": "stream",
     "text": [
      "          Age  Income\n",
      "Country              \n",
      "America   250   40000\n",
      "China    5000   10000\n",
      "India    4321    5002\n",
      "Japan     250   50000\n"
     ]
    }
   ],
   "source": [
    "print(df.groupby('Country').agg(np.max))"
   ]
  },
  {
   "cell_type": "markdown",
   "metadata": {
    "collapsed": true
   },
   "source": [
    "- （2）lambda表达式即匿名函数，道理和（1）相同，不再赘述。"
   ]
  },
  {
   "cell_type": "code",
   "execution_count": 17,
   "metadata": {},
   "outputs": [
    {
     "name": "stdout",
     "output_type": "stream",
     "text": [
      "          Age  Income\n",
      "Country              \n",
      "America   250   40000\n",
      "China    5000   10000\n",
      "India    4321    5002\n",
      "Japan     250   50000\n"
     ]
    }
   ],
   "source": [
    "print(df.groupby('Country').agg(lambda x : np.max(x)))"
   ]
  },
  {
   "cell_type": "markdown",
   "metadata": {
    "collapsed": true
   },
   "source": [
    "- （3）如果传入的是函数列表，假设每个列表里面装了M个函数，代表要对每个子数据帧的每一列，进行M个操作，每个操作也是返回一个数。因此，以这种方式用了聚合函数之后，每个子数据帧的每一列，都会变成M个数。"
   ]
  },
  {
   "cell_type": "code",
   "execution_count": 18,
   "metadata": {},
   "outputs": [
    {
     "name": "stdout",
     "output_type": "stream",
     "text": [
      "          Age                    Income                     \n",
      "         amax  amin         mean   amax   amin          mean\n",
      "Country                                                     \n",
      "America   250   250   250.000000  40000  40000  40000.000000\n",
      "China    5000  4321  4607.000000  10000   8000   9333.333333\n",
      "India    4321  1234  3188.333333   5002   5000   5000.666667\n",
      "Japan     250   250   250.000000  50000  50000  50000.000000\n"
     ]
    }
   ],
   "source": [
    "print(df.groupby('Country').aggregate([np.max, np.min, np.mean]))"
   ]
  },
  {
   "cell_type": "markdown",
   "metadata": {
    "collapsed": true
   },
   "source": [
    "- （4）传入的字典，key为列名，value为函数 / 函数列表，这样做的好处是不用对每一列都进行操作，有时候我们只关心某几列，因此这样就能对某几列进行某些操作。"
   ]
  },
  {
   "cell_type": "code",
   "execution_count": 23,
   "metadata": {},
   "outputs": [
    {
     "name": "stdout",
     "output_type": "stream",
     "text": [
      "          Age       \n",
      "         amax    sum\n",
      "Country             \n",
      "America   250    250\n",
      "China    5000  13821\n",
      "India    4321   9565\n",
      "Japan     250    250\n",
      "          Age       \n",
      "         amax    sum\n",
      "Country             \n",
      "America   250    250\n",
      "China    5000  13821\n",
      "India    4321   9565\n",
      "Japan     250    250\n"
     ]
    }
   ],
   "source": [
    "print(df.groupby('Country').aggregate({'Age' : [np.max, np.sum]}))\n",
    "print(df.groupby('Country').aggregate({'Age' : [np.max, np.sum]}))"
   ]
  },
  {
   "cell_type": "markdown",
   "metadata": {},
   "source": [
    "- （5）当然，因为函数传入的是列向量，我们当然可以认为的选择我们要的列向量，再进行聚合，如下，下述方法可以代替传入字典的方法，更加直观，高效。"
   ]
  },
  {
   "cell_type": "code",
   "execution_count": 24,
   "metadata": {},
   "outputs": [
    {
     "name": "stdout",
     "output_type": "stream",
     "text": [
      "Country\n",
      "America     250\n",
      "China      5000\n",
      "India      4321\n",
      "Japan       250\n",
      "Name: Age, dtype: int64\n"
     ]
    }
   ],
   "source": [
    "print(df.groupby('Country')['Age'].aggregate(np.max))"
   ]
  },
  {
   "cell_type": "markdown",
   "metadata": {},
   "source": [
    "- （6）如果只对某一个分组感兴趣，可以用get_group单独获取你想要的那个子数据帧，再对其进行操作。"
   ]
  },
  {
   "cell_type": "code",
   "execution_count": 27,
   "metadata": {},
   "outputs": [
    {
     "name": "stdout",
     "output_type": "stream",
     "text": [
      "            Income\n",
      "mean   9333.333333\n",
      "sum   28000.000000\n"
     ]
    }
   ],
   "source": [
    "print(df.groupby('Country').get_group('China').aggregate({'Income' : [np.mean, np.sum]}))"
   ]
  },
  {
   "cell_type": "markdown",
   "metadata": {},
   "source": [
    "# apply\n",
    "apply(函数 / lambda表达式) -> 返回标量或者列向量，然后各个子数据帧合并成新的数据帧"
   ]
  },
  {
   "cell_type": "code",
   "execution_count": 31,
   "metadata": {},
   "outputs": [],
   "source": [
    "def add(x): # 这里的x指的是整个数据帧\n",
    "    return x['quantity'] + x['unit price']\n",
    " \n",
    "print(df.groupby('order').apply(add)) # apply的第一个形参是self，传入的是分好后的每组\n",
    " \n",
    "print(df.groupby('order').apply(lambda x : x['quantity'] + x['unit price']))"
   ]
  },
  {
   "cell_type": "markdown",
   "metadata": {},
   "source": [
    "# filter"
   ]
  },
  {
   "cell_type": "code",
   "execution_count": null,
   "metadata": {
    "collapsed": true
   },
   "outputs": [],
   "source": []
  },
  {
   "cell_type": "code",
   "execution_count": null,
   "metadata": {
    "collapsed": true
   },
   "outputs": [],
   "source": []
  }
 ],
 "metadata": {
  "kernelspec": {
   "display_name": "Python 3",
   "language": "python",
   "name": "python3"
  },
  "language_info": {
   "codemirror_mode": {
    "name": "ipython",
    "version": 3
   },
   "file_extension": ".py",
   "mimetype": "text/x-python",
   "name": "python",
   "nbconvert_exporter": "python",
   "pygments_lexer": "ipython3",
   "version": "3.6.2"
  },
  "toc": {
   "base_numbering": 1,
   "nav_menu": {},
   "number_sections": true,
   "sideBar": true,
   "skip_h1_title": false,
   "title_cell": "Table of Contents",
   "title_sidebar": "Contents",
   "toc_cell": false,
   "toc_position": {},
   "toc_section_display": true,
   "toc_window_display": false
  }
 },
 "nbformat": 4,
 "nbformat_minor": 2
}
