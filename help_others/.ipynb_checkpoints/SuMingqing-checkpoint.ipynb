{
 "cells": [
  {
   "cell_type": "code",
   "execution_count": 5,
   "metadata": {},
   "outputs": [],
   "source": [
    "import numpy as np\n",
    "\n",
    "Ex = np.array([30,65,75,85,95])\n",
    "En = np.array([25.44,4.24,4.24,4.24,4.24])\n",
    "He = 0.01\n",
    "n = 3000"
   ]
  },
  {
   "cell_type": "code",
   "execution_count": 6,
   "metadata": {},
   "outputs": [],
   "source": [
    "Enn = np.random.randn(3000,1) * He + En"
   ]
  },
  {
   "cell_type": "code",
   "execution_count": 7,
   "metadata": {},
   "outputs": [
    {
     "data": {
      "text/plain": [
       "array([[25.45289482,  4.25289482,  4.25289482,  4.25289482,  4.25289482],\n",
       "       [25.441702  ,  4.241702  ,  4.241702  ,  4.241702  ,  4.241702  ],\n",
       "       [25.45375039,  4.25375039,  4.25375039,  4.25375039,  4.25375039],\n",
       "       ...,\n",
       "       [25.42989706,  4.22989706,  4.22989706,  4.22989706,  4.22989706],\n",
       "       [25.43567317,  4.23567317,  4.23567317,  4.23567317,  4.23567317],\n",
       "       [25.44334186,  4.24334186,  4.24334186,  4.24334186,  4.24334186]])"
      ]
     },
     "execution_count": 7,
     "metadata": {},
     "output_type": "execute_result"
    }
   ],
   "source": [
    "Enn"
   ]
  },
  {
   "cell_type": "code",
   "execution_count": null,
   "metadata": {
    "collapsed": true
   },
   "outputs": [],
   "source": []
  }
 ],
 "metadata": {
  "kernelspec": {
   "display_name": "Python 3",
   "language": "python",
   "name": "python3"
  },
  "language_info": {
   "codemirror_mode": {
    "name": "ipython",
    "version": 3
   },
   "file_extension": ".py",
   "mimetype": "text/x-python",
   "name": "python",
   "nbconvert_exporter": "python",
   "pygments_lexer": "ipython3",
   "version": "3.6.2"
  },
  "toc": {
   "base_numbering": 1,
   "nav_menu": {},
   "number_sections": true,
   "sideBar": true,
   "skip_h1_title": false,
   "title_cell": "Table of Contents",
   "title_sidebar": "Contents",
   "toc_cell": false,
   "toc_position": {},
   "toc_section_display": true,
   "toc_window_display": false
  }
 },
 "nbformat": 4,
 "nbformat_minor": 2
}
