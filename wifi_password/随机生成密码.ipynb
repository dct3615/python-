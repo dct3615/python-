{
 "cells": [
  {
   "cell_type": "markdown",
   "metadata": {},
   "source": [
    "# 生成指定位数随机不重复密码，必须包含大小字母数字特殊字符"
   ]
  },
  {
   "cell_type": "code",
   "execution_count": 70,
   "metadata": {},
   "outputs": [
    {
     "data": {
      "text/plain": [
       "'8gZ&Xj|bVp'"
      ]
     },
     "execution_count": 70,
     "metadata": {},
     "output_type": "execute_result"
    }
   ],
   "source": [
    "import random\n",
    "import string\n",
    "def random_password(num):\n",
    "    result=''\n",
    "    choice='0123456789'+string.ascii_lowercase+string.ascii_uppercase+string.punctuation\n",
    "    result += random.choice('0123456789')\n",
    "    result += random.choice(string.ascii_lowercase)\n",
    "    result += random.choice(string.ascii_uppercase)\n",
    "    result += random.choice(string.punctuation)\n",
    "    for i in range(num-4):\n",
    "        a = random.choice(choice)\n",
    "        if a not in result:\n",
    "            result+=a\n",
    "    return result\n",
    "\n",
    "random_password(10)"
   ]
  },
  {
   "cell_type": "markdown",
   "metadata": {},
   "source": [
    "# 1,2,3,固定格式，其它的随机"
   ]
  },
  {
   "cell_type": "code",
   "execution_count": 88,
   "metadata": {},
   "outputs": [
    {
     "name": "stdout",
     "output_type": "stream",
     "text": [
      "yN8Z2F8BG4\n"
     ]
    }
   ],
   "source": [
    "#方法2\n",
    "def random_password():\n",
    "    import random\n",
    "    import string\n",
    "    string_lower = string.ascii_lowercase\n",
    "    string_upper = string.ascii_uppercase\n",
    "    string_digits = string.digits\n",
    "    string_all = string_lower+string_upper+string_digits\n",
    "    string.password = ''\n",
    "    for i in range(10):\n",
    "        if i == 0:\n",
    "            string.password+=random.choice(string_lower) # 第一个小写字母\n",
    "        elif i == 1:\n",
    "            string.password+=random.choice(string_upper) # 第一个大写字母\n",
    "        elif i == 2:\n",
    "            string.password+=random.choice(string_digits) # 第三个是数字\n",
    "        else:\n",
    "            string.password+=random.choice(string_all) # 其它的随机\n",
    "    return string.password\n",
    "\n",
    "print(random_password())"
   ]
  },
  {
   "cell_type": "markdown",
   "metadata": {},
   "source": [
    "# 生成随机长度的密码"
   ]
  },
  {
   "cell_type": "code",
   "execution_count": 207,
   "metadata": {},
   "outputs": [
    {
     "name": "stdout",
     "output_type": "stream",
     "text": [
      "9 tqsHKa2zR\n"
     ]
    }
   ],
   "source": [
    "import random\n",
    "import string\n",
    "\n",
    "def generate_random_str(randomlength=16):\n",
    "    \"\"\"\n",
    "    生成一个指定长度的随机字符串，其中\n",
    "    string.digits=0123456789\n",
    "    string.ascii_letters=abcdefghigklmnopqrstuvwxyzABCDEFGHIJKLMNOPQRSTUVWXYZ\n",
    "    \"\"\"\n",
    "    str_list = [random.choice(string.digits + string.ascii_letters) for i in range(randomlength)]\n",
    "    random_str = ''.join(str_list)\n",
    "    return random_str\n",
    "\n",
    "length = random.randint(8,10)\n",
    "f = generate_random_str(length)\n",
    "print (len(f),f)"
   ]
  },
  {
   "cell_type": "markdown",
   "metadata": {},
   "source": [
    "# 自己组合的密码\n",
    "前面随机0-3个字母，后面随机0-3个字母，中间5-10个随机数字"
   ]
  },
  {
   "cell_type": "code",
   "execution_count": 376,
   "metadata": {},
   "outputs": [
    {
     "name": "stdout",
     "output_type": "stream",
     "text": [
      "长度： 12 密码： M642801306yi\n"
     ]
    }
   ],
   "source": [
    "import random\n",
    "import string\n",
    "\n",
    "def generate_random_str(start,median,end):\n",
    "    \"\"\"\n",
    "    生成一个指定长度的随机字符串，其中\n",
    "    string.digits=0123456789\n",
    "    string.ascii_letters=abcdefghigklmnopqrstuvwxyzABCDEFGHIJKLMNOPQRSTUVWXYZ\n",
    "    \"\"\"\n",
    "    start_pwd = [random.choice(string.ascii_letters) for i in range(start)]\n",
    "    end_pwd = [random.choice(string.ascii_letters) for i in range(end)]\n",
    "    median_pwd = [random.choice(string.digits) for i in range(median)]\n",
    "    \n",
    "    password = start_pwd + median_pwd + end_pwd\n",
    "\n",
    "    random_str = ''.join(password)\n",
    "    return random_str\n",
    "\n",
    "start = random.randint(0,3)\n",
    "median = random.randint(5,10)\n",
    "end = random.randint(0,3)\n",
    "\n",
    "pwd = generate_random_str(start,median,end)\n",
    "print ('长度：',len(pwd),\"密码：\",pwd)"
   ]
  },
  {
   "cell_type": "markdown",
   "metadata": {},
   "source": [
    "# 生成纯数字密码本（所有的组合）\n",
    "这里是使用迭代器生成纯数字8位密码，保存为txt文件，生成后应该是953mb"
   ]
  },
  {
   "cell_type": "markdown",
   "metadata": {},
   "source": [
    "import itertools as its\n",
    "#引入迭代器的模块\n",
    "\n",
    "words = \"1234567890\"\n",
    "r = its.product(words, repeat=8)\n",
    "dic = open(\"E:\\pass.txt\", \"a\")\n",
    "for i in r:\n",
    "    dic.write(\"\".join(i))\n",
    "    dic.write(\"\".join(\"\\n\"))\n",
    "dic.close()"
   ]
  },
  {
   "cell_type": "markdown",
   "metadata": {},
   "source": [
    "# 生成大小写数字所有的组合"
   ]
  },
  {
   "cell_type": "markdown",
   "metadata": {},
   "source": [
    "import itertools\n",
    "mylist=(\"\".join(x) for x in itertools.product(\"0123456789abcdefghijklmnopqrstuvwxyzABCDEFGHIJKLMNOPQRSTUVWXYZ\",repeat=16))\n",
    "while True:\n",
    "  print(next(mylist))"
   ]
  }
 ],
 "metadata": {
  "kernelspec": {
   "display_name": "Python 3",
   "language": "python",
   "name": "python3"
  },
  "language_info": {
   "codemirror_mode": {
    "name": "ipython",
    "version": 3
   },
   "file_extension": ".py",
   "mimetype": "text/x-python",
   "name": "python",
   "nbconvert_exporter": "python",
   "pygments_lexer": "ipython3",
   "version": "3.7.4"
  }
 },
 "nbformat": 4,
 "nbformat_minor": 2
}
