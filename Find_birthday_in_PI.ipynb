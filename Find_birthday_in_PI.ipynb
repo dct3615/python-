{
 "cells": [
  {
   "cell_type": "markdown",
   "metadata": {},
   "source": [
    "# 查找自己的生日在圆周率中的位置\n",
    "默认的格式是year-mouth-day，例如1994-01-01"
   ]
  },
  {
   "cell_type": "code",
   "execution_count": 6,
   "metadata": {},
   "outputs": [
    {
     "name": "stdout",
     "output_type": "stream",
     "text": [
      "Enter the year that you want to search: \n",
      "19931120\n",
      "19931120: 1\n"
     ]
    }
   ],
   "source": [
    "\n",
    "import sys\n",
    "import re\n",
    " \n",
    "def get_file():\n",
    "    #get the file to operate\n",
    "    f = open(r\"D:\\datasets\\PI\\圆周率小数点后00000000001到00100000000一共1亿位.txt\", \"r\")\n",
    "    lines = f.read()\n",
    "    f.close()\n",
    "    return lines\n",
    "\n",
    "def judge_birthday(number):\n",
    "    #judge the format of birthday is righy or not\n",
    "    dir_birthday = {'01':31, \"02\":28, \"03\":31, \"04\":30, \n",
    "                    \"05\":31, \"06\":30, \"07\":31, \"08\":31, \n",
    "                    \"09\":30, \"10\":31, \"11\":30, \"12\":31\n",
    "                    }\n",
    "    if len(number) < 8:\n",
    "        number = '19' + number\n",
    "    year = int(number[:4])\n",
    "    mouth = int(number[4:6])\n",
    "    day = int(number[6:])\n",
    "    if (year > 2000) or (year < 1900):\n",
    "        return False\n",
    "    if (mouth > 12) or (mouth < 1):\n",
    "        return False\n",
    "    else:\n",
    "        day_correct = dir_birthday[number[4:6]]\n",
    "        if (year % 400 == 0) or (year % 4 == 0 and year % 100 != 0):\n",
    "            day_correct += 1\n",
    "        if (day < 1) or (day > day_correct):\n",
    "            return False\n",
    "    return True\n",
    "\n",
    "def search_in_PU(number, lines):\n",
    "    #search the number of birthday in the PI file\n",
    "    length = len(re.findall(number, lines))\n",
    "    if length < 1:\n",
    "        print(\"Not found!\")\n",
    "    else:\n",
    "        print(number + \": \" + str(length))\n",
    "\n",
    "if __name__ == \"__main__\":\n",
    "    lines = get_file()\n",
    "    print(\"Enter the year that you want to search: \")\n",
    "    number = input()\n",
    "    flag = judge_birthday(number)\n",
    "    if flag:\n",
    "        search_in_PU(number, lines)\n",
    "    else:\n",
    "        print(\"The format of your birthday is not correct!\")\n"
   ]
  }
 ],
 "metadata": {
  "kernelspec": {
   "display_name": "Python 3",
   "language": "python",
   "name": "python3"
  },
  "language_info": {
   "codemirror_mode": {
    "name": "ipython",
    "version": 3
   },
   "file_extension": ".py",
   "mimetype": "text/x-python",
   "name": "python",
   "nbconvert_exporter": "python",
   "pygments_lexer": "ipython3",
   "version": "3.6.2"
  },
  "toc": {
   "base_numbering": 1,
   "nav_menu": {},
   "number_sections": true,
   "sideBar": true,
   "skip_h1_title": false,
   "title_cell": "Table of Contents",
   "title_sidebar": "Contents",
   "toc_cell": false,
   "toc_position": {},
   "toc_section_display": true,
   "toc_window_display": false
  }
 },
 "nbformat": 4,
 "nbformat_minor": 2
}
